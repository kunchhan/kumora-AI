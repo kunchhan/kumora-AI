{
 "cells": [
  {
   "cell_type": "markdown",
   "metadata": {},
   "source": [
    "## 1. User Input\n",
    "The user types something like, I feel tired today.Thats all where it starts.\n",
    "\n",
    "## 2. Emotion Classifier DistilBERT (Lotus)- it classifies the emotions\n",
    "\n",
    "## 3. Response Generator -lLaMA 3 (Kumora)\n",
    "## 4 . Actor- Citric (RL) - Lotus gives feedback to Kumora\n",
    "\n",
    "\n",
    "## To DO List:\n",
    "1. Data Collection and Preparation\n",
    "\n",
    "    - source: emotion fluctuations during menstruation\n",
    "    - emotional conversations like feeling sad, irritated, overwhemled\n",
    "    - Self reflective  dialogue. \n",
    "\n",
    "\n",
    "2. Lotus - Emotion Classifier\n",
    "- DistlBERT - Emotional Label \n",
    "\n",
    "3. Finetune DistlBERT using  Supervised Finetuning(SFT) and LoRA, PEPT using own DATA.\n",
    "\n",
    "4. Prompt Engineering(lLaMA 3)\n",
    "-  fewshot prompting\n",
    "- CoT\n",
    "\n",
    "5. RAG SYSTEm Implemen†ation and  Actor-Citric Implementation\n",
    "4. User Feedback ( Score Metrics)"
   ]
  }
 ],
 "metadata": {
  "language_info": {
   "name": "python"
  }
 },
 "nbformat": 4,
 "nbformat_minor": 2
}
