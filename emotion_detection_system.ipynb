{
 "cells": [
  {
   "cell_type": "code",
   "execution_count": 1,
   "id": "e703fb28",
   "metadata": {
    "execution": {
     "iopub.execute_input": "2025-05-28T06:17:55.555748Z",
     "iopub.status.busy": "2025-05-28T06:17:55.555186Z",
     "iopub.status.idle": "2025-05-28T06:19:15.396087Z",
     "shell.execute_reply": "2025-05-28T06:19:15.395199Z",
     "shell.execute_reply.started": "2025-05-28T06:17:55.555723Z"
    },
    "trusted": true
   },
   "outputs": [
    {
     "name": "stdout",
     "output_type": "stream",
     "text": [
      "Requirement already satisfied: transformers in /usr/local/lib/python3.11/dist-packages (4.51.3)\n",
      "Requirement already satisfied: datasets in /usr/local/lib/python3.11/dist-packages (3.6.0)\n",
      "Requirement already satisfied: torch in /usr/local/lib/python3.11/dist-packages (2.6.0+cu124)\n",
      "Requirement already satisfied: scikit-learn in /usr/local/lib/python3.11/dist-packages (1.2.2)\n",
      "Requirement already satisfied: pandas in /usr/local/lib/python3.11/dist-packages (2.2.3)\n",
      "Requirement already satisfied: numpy in /usr/local/lib/python3.11/dist-packages (1.26.4)\n",
      "Requirement already satisfied: matplotlib in /usr/local/lib/python3.11/dist-packages (3.7.2)\n",
      "Requirement already satisfied: seaborn in /usr/local/lib/python3.11/dist-packages (0.12.2)\n",
      "Requirement already satisfied: nltk in /usr/local/lib/python3.11/dist-packages (3.9.1)\n",
      "Requirement already satisfied: emoji in /usr/local/lib/python3.11/dist-packages (2.14.1)\n",
      "Requirement already satisfied: tqdm in /usr/local/lib/python3.11/dist-packages (4.67.1)\n",
      "Requirement already satisfied: sentencepiece in /usr/local/lib/python3.11/dist-packages (0.2.0)\n",
      "Requirement already satisfied: filelock in /usr/local/lib/python3.11/dist-packages (from transformers) (3.18.0)\n",
      "Requirement already satisfied: huggingface-hub<1.0,>=0.30.0 in /usr/local/lib/python3.11/dist-packages (from transformers) (0.31.1)\n",
      "Requirement already satisfied: packaging>=20.0 in /usr/local/lib/python3.11/dist-packages (from transformers) (25.0)\n",
      "Requirement already satisfied: pyyaml>=5.1 in /usr/local/lib/python3.11/dist-packages (from transformers) (6.0.2)\n",
      "Requirement already satisfied: regex!=2019.12.17 in /usr/local/lib/python3.11/dist-packages (from transformers) (2024.11.6)\n",
      "Requirement already satisfied: requests in /usr/local/lib/python3.11/dist-packages (from transformers) (2.32.3)\n",
      "Requirement already satisfied: tokenizers<0.22,>=0.21 in /usr/local/lib/python3.11/dist-packages (from transformers) (0.21.1)\n",
      "Requirement already satisfied: safetensors>=0.4.3 in /usr/local/lib/python3.11/dist-packages (from transformers) (0.5.3)\n",
      "Requirement already satisfied: pyarrow>=15.0.0 in /usr/local/lib/python3.11/dist-packages (from datasets) (19.0.1)\n",
      "Requirement already satisfied: dill<0.3.9,>=0.3.0 in /usr/local/lib/python3.11/dist-packages (from datasets) (0.3.8)\n",
      "Requirement already satisfied: xxhash in /usr/local/lib/python3.11/dist-packages (from datasets) (3.5.0)\n",
      "Requirement already satisfied: multiprocess<0.70.17 in /usr/local/lib/python3.11/dist-packages (from datasets) (0.70.16)\n",
      "Collecting fsspec<=2025.3.0,>=2023.1.0 (from fsspec[http]<=2025.3.0,>=2023.1.0->datasets)\n",
      "  Downloading fsspec-2025.3.0-py3-none-any.whl.metadata (11 kB)\n",
      "Requirement already satisfied: typing-extensions>=4.10.0 in /usr/local/lib/python3.11/dist-packages (from torch) (4.13.2)\n",
      "Requirement already satisfied: networkx in /usr/local/lib/python3.11/dist-packages (from torch) (3.4.2)\n",
      "Requirement already satisfied: jinja2 in /usr/local/lib/python3.11/dist-packages (from torch) (3.1.6)\n",
      "Requirement already satisfied: nvidia-cuda-nvrtc-cu12==12.4.127 in /usr/local/lib/python3.11/dist-packages (from torch) (12.4.127)\n",
      "Requirement already satisfied: nvidia-cuda-runtime-cu12==12.4.127 in /usr/local/lib/python3.11/dist-packages (from torch) (12.4.127)\n",
      "Requirement already satisfied: nvidia-cuda-cupti-cu12==12.4.127 in /usr/local/lib/python3.11/dist-packages (from torch) (12.4.127)\n",
      "Collecting nvidia-cudnn-cu12==9.1.0.70 (from torch)\n",
      "  Downloading nvidia_cudnn_cu12-9.1.0.70-py3-none-manylinux2014_x86_64.whl.metadata (1.6 kB)\n",
      "Collecting nvidia-cublas-cu12==12.4.5.8 (from torch)\n",
      "  Downloading nvidia_cublas_cu12-12.4.5.8-py3-none-manylinux2014_x86_64.whl.metadata (1.5 kB)\n",
      "Collecting nvidia-cufft-cu12==11.2.1.3 (from torch)\n",
      "  Downloading nvidia_cufft_cu12-11.2.1.3-py3-none-manylinux2014_x86_64.whl.metadata (1.5 kB)\n",
      "Collecting nvidia-curand-cu12==10.3.5.147 (from torch)\n",
      "  Downloading nvidia_curand_cu12-10.3.5.147-py3-none-manylinux2014_x86_64.whl.metadata (1.5 kB)\n",
      "Collecting nvidia-cusolver-cu12==11.6.1.9 (from torch)\n",
      "  Downloading nvidia_cusolver_cu12-11.6.1.9-py3-none-manylinux2014_x86_64.whl.metadata (1.6 kB)\n",
      "Collecting nvidia-cusparse-cu12==12.3.1.170 (from torch)\n",
      "  Downloading nvidia_cusparse_cu12-12.3.1.170-py3-none-manylinux2014_x86_64.whl.metadata (1.6 kB)\n",
      "Requirement already satisfied: nvidia-cusparselt-cu12==0.6.2 in /usr/local/lib/python3.11/dist-packages (from torch) (0.6.2)\n",
      "Requirement already satisfied: nvidia-nccl-cu12==2.21.5 in /usr/local/lib/python3.11/dist-packages (from torch) (2.21.5)\n",
      "Requirement already satisfied: nvidia-nvtx-cu12==12.4.127 in /usr/local/lib/python3.11/dist-packages (from torch) (12.4.127)\n",
      "Collecting nvidia-nvjitlink-cu12==12.4.127 (from torch)\n",
      "  Downloading nvidia_nvjitlink_cu12-12.4.127-py3-none-manylinux2014_x86_64.whl.metadata (1.5 kB)\n",
      "Requirement already satisfied: triton==3.2.0 in /usr/local/lib/python3.11/dist-packages (from torch) (3.2.0)\n",
      "Requirement already satisfied: sympy==1.13.1 in /usr/local/lib/python3.11/dist-packages (from torch) (1.13.1)\n",
      "Requirement already satisfied: mpmath<1.4,>=1.1.0 in /usr/local/lib/python3.11/dist-packages (from sympy==1.13.1->torch) (1.3.0)\n",
      "Requirement already satisfied: scipy>=1.3.2 in /usr/local/lib/python3.11/dist-packages (from scikit-learn) (1.15.2)\n",
      "Requirement already satisfied: joblib>=1.1.1 in /usr/local/lib/python3.11/dist-packages (from scikit-learn) (1.5.0)\n",
      "Requirement already satisfied: threadpoolctl>=2.0.0 in /usr/local/lib/python3.11/dist-packages (from scikit-learn) (3.6.0)\n",
      "Requirement already satisfied: python-dateutil>=2.8.2 in /usr/local/lib/python3.11/dist-packages (from pandas) (2.9.0.post0)\n",
      "Requirement already satisfied: pytz>=2020.1 in /usr/local/lib/python3.11/dist-packages (from pandas) (2025.2)\n",
      "Requirement already satisfied: tzdata>=2022.7 in /usr/local/lib/python3.11/dist-packages (from pandas) (2025.2)\n",
      "Requirement already satisfied: mkl_fft in /usr/local/lib/python3.11/dist-packages (from numpy) (1.3.8)\n",
      "Requirement already satisfied: mkl_random in /usr/local/lib/python3.11/dist-packages (from numpy) (1.2.4)\n",
      "Requirement already satisfied: mkl_umath in /usr/local/lib/python3.11/dist-packages (from numpy) (0.1.1)\n",
      "Requirement already satisfied: mkl in /usr/local/lib/python3.11/dist-packages (from numpy) (2025.1.0)\n",
      "Requirement already satisfied: tbb4py in /usr/local/lib/python3.11/dist-packages (from numpy) (2022.1.0)\n",
      "Requirement already satisfied: mkl-service in /usr/local/lib/python3.11/dist-packages (from numpy) (2.4.1)\n",
      "Requirement already satisfied: contourpy>=1.0.1 in /usr/local/lib/python3.11/dist-packages (from matplotlib) (1.3.1)\n",
      "Requirement already satisfied: cycler>=0.10 in /usr/local/lib/python3.11/dist-packages (from matplotlib) (0.12.1)\n",
      "Requirement already satisfied: fonttools>=4.22.0 in /usr/local/lib/python3.11/dist-packages (from matplotlib) (4.57.0)\n",
      "Requirement already satisfied: kiwisolver>=1.0.1 in /usr/local/lib/python3.11/dist-packages (from matplotlib) (1.4.8)\n",
      "Requirement already satisfied: pillow>=6.2.0 in /usr/local/lib/python3.11/dist-packages (from matplotlib) (11.1.0)\n",
      "Requirement already satisfied: pyparsing<3.1,>=2.3.1 in /usr/local/lib/python3.11/dist-packages (from matplotlib) (3.0.9)\n",
      "Requirement already satisfied: click in /usr/local/lib/python3.11/dist-packages (from nltk) (8.1.8)\n",
      "Requirement already satisfied: aiohttp!=4.0.0a0,!=4.0.0a1 in /usr/local/lib/python3.11/dist-packages (from fsspec[http]<=2025.3.0,>=2023.1.0->datasets) (3.11.18)\n",
      "Requirement already satisfied: hf-xet<2.0.0,>=1.1.0 in /usr/local/lib/python3.11/dist-packages (from huggingface-hub<1.0,>=0.30.0->transformers) (1.1.0)\n",
      "Requirement already satisfied: six>=1.5 in /usr/local/lib/python3.11/dist-packages (from python-dateutil>=2.8.2->pandas) (1.17.0)\n",
      "Requirement already satisfied: charset-normalizer<4,>=2 in /usr/local/lib/python3.11/dist-packages (from requests->transformers) (3.4.2)\n",
      "Requirement already satisfied: idna<4,>=2.5 in /usr/local/lib/python3.11/dist-packages (from requests->transformers) (3.10)\n",
      "Requirement already satisfied: urllib3<3,>=1.21.1 in /usr/local/lib/python3.11/dist-packages (from requests->transformers) (2.4.0)\n",
      "Requirement already satisfied: certifi>=2017.4.17 in /usr/local/lib/python3.11/dist-packages (from requests->transformers) (2025.4.26)\n",
      "Requirement already satisfied: MarkupSafe>=2.0 in /usr/local/lib/python3.11/dist-packages (from jinja2->torch) (3.0.2)\n",
      "Requirement already satisfied: intel-openmp<2026,>=2024 in /usr/local/lib/python3.11/dist-packages (from mkl->numpy) (2024.2.0)\n",
      "Requirement already satisfied: tbb==2022.* in /usr/local/lib/python3.11/dist-packages (from mkl->numpy) (2022.1.0)\n",
      "Requirement already satisfied: tcmlib==1.* in /usr/local/lib/python3.11/dist-packages (from tbb==2022.*->mkl->numpy) (1.3.0)\n",
      "Requirement already satisfied: intel-cmplr-lib-rt in /usr/local/lib/python3.11/dist-packages (from mkl_umath->numpy) (2024.2.0)\n",
      "Requirement already satisfied: aiohappyeyeballs>=2.3.0 in /usr/local/lib/python3.11/dist-packages (from aiohttp!=4.0.0a0,!=4.0.0a1->fsspec[http]<=2025.3.0,>=2023.1.0->datasets) (2.6.1)\n",
      "Requirement already satisfied: aiosignal>=1.1.2 in /usr/local/lib/python3.11/dist-packages (from aiohttp!=4.0.0a0,!=4.0.0a1->fsspec[http]<=2025.3.0,>=2023.1.0->datasets) (1.3.2)\n",
      "Requirement already satisfied: attrs>=17.3.0 in /usr/local/lib/python3.11/dist-packages (from aiohttp!=4.0.0a0,!=4.0.0a1->fsspec[http]<=2025.3.0,>=2023.1.0->datasets) (25.3.0)\n",
      "Requirement already satisfied: frozenlist>=1.1.1 in /usr/local/lib/python3.11/dist-packages (from aiohttp!=4.0.0a0,!=4.0.0a1->fsspec[http]<=2025.3.0,>=2023.1.0->datasets) (1.6.0)\n",
      "Requirement already satisfied: multidict<7.0,>=4.5 in /usr/local/lib/python3.11/dist-packages (from aiohttp!=4.0.0a0,!=4.0.0a1->fsspec[http]<=2025.3.0,>=2023.1.0->datasets) (6.4.3)\n",
      "Requirement already satisfied: propcache>=0.2.0 in /usr/local/lib/python3.11/dist-packages (from aiohttp!=4.0.0a0,!=4.0.0a1->fsspec[http]<=2025.3.0,>=2023.1.0->datasets) (0.3.1)\n",
      "Requirement already satisfied: yarl<2.0,>=1.17.0 in /usr/local/lib/python3.11/dist-packages (from aiohttp!=4.0.0a0,!=4.0.0a1->fsspec[http]<=2025.3.0,>=2023.1.0->datasets) (1.20.0)\n",
      "Requirement already satisfied: intel-cmplr-lib-ur==2024.2.0 in /usr/local/lib/python3.11/dist-packages (from intel-openmp<2026,>=2024->mkl->numpy) (2024.2.0)\n",
      "Downloading nvidia_cublas_cu12-12.4.5.8-py3-none-manylinux2014_x86_64.whl (363.4 MB)\n",
      "\u001b[2K   \u001b[90m━━━━━━━━━━━━━━━━━━━━━━━━━━━━━━━━━━━━━━━━\u001b[0m \u001b[32m363.4/363.4 MB\u001b[0m \u001b[31m4.2 MB/s\u001b[0m eta \u001b[36m0:00:00\u001b[0m0:00:01\u001b[0m00:01\u001b[0m\n",
      "\u001b[?25hDownloading nvidia_cudnn_cu12-9.1.0.70-py3-none-manylinux2014_x86_64.whl (664.8 MB)\n",
      "\u001b[2K   \u001b[90m━━━━━━━━━━━━━━━━━━━━━━━━━━━━━━━━━━━━━━━━\u001b[0m \u001b[32m664.8/664.8 MB\u001b[0m \u001b[31m2.0 MB/s\u001b[0m eta \u001b[36m0:00:00\u001b[0m0:00:01\u001b[0m00:01\u001b[0m\n",
      "\u001b[?25hDownloading nvidia_cufft_cu12-11.2.1.3-py3-none-manylinux2014_x86_64.whl (211.5 MB)\n",
      "\u001b[2K   \u001b[90m━━━━━━━━━━━━━━━━━━━━━━━━━━━━━━━━━━━━━━━━\u001b[0m \u001b[32m211.5/211.5 MB\u001b[0m \u001b[31m7.9 MB/s\u001b[0m eta \u001b[36m0:00:00\u001b[0m0:00:01\u001b[0m00:01\u001b[0m\n",
      "\u001b[?25hDownloading nvidia_curand_cu12-10.3.5.147-py3-none-manylinux2014_x86_64.whl (56.3 MB)\n",
      "\u001b[2K   \u001b[90m━━━━━━━━━━━━━━━━━━━━━━━━━━━━━━━━━━━━━━━━\u001b[0m \u001b[32m56.3/56.3 MB\u001b[0m \u001b[31m30.3 MB/s\u001b[0m eta \u001b[36m0:00:00\u001b[0m:00:01\u001b[0m00:01\u001b[0m\n",
      "\u001b[?25hDownloading nvidia_cusolver_cu12-11.6.1.9-py3-none-manylinux2014_x86_64.whl (127.9 MB)\n",
      "\u001b[2K   \u001b[90m━━━━━━━━━━━━━━━━━━━━━━━━━━━━━━━━━━━━━━━━\u001b[0m \u001b[32m127.9/127.9 MB\u001b[0m \u001b[31m13.1 MB/s\u001b[0m eta \u001b[36m0:00:00\u001b[0m:00:01\u001b[0m00:01\u001b[0m\n",
      "\u001b[?25hDownloading nvidia_cusparse_cu12-12.3.1.170-py3-none-manylinux2014_x86_64.whl (207.5 MB)\n",
      "\u001b[2K   \u001b[90m━━━━━━━━━━━━━━━━━━━━━━━━━━━━━━━━━━━━━━━━\u001b[0m \u001b[32m207.5/207.5 MB\u001b[0m \u001b[31m8.2 MB/s\u001b[0m eta \u001b[36m0:00:00\u001b[0m0:00:01\u001b[0m00:01\u001b[0m\n",
      "\u001b[?25hDownloading nvidia_nvjitlink_cu12-12.4.127-py3-none-manylinux2014_x86_64.whl (21.1 MB)\n",
      "\u001b[2K   \u001b[90m━━━━━━━━━━━━━━━━━━━━━━━━━━━━━━━━━━━━━━━━\u001b[0m \u001b[32m21.1/21.1 MB\u001b[0m \u001b[31m76.4 MB/s\u001b[0m eta \u001b[36m0:00:00\u001b[0m:00:01\u001b[0m00:01\u001b[0m\n",
      "\u001b[?25hDownloading fsspec-2025.3.0-py3-none-any.whl (193 kB)\n",
      "\u001b[2K   \u001b[90m━━━━━━━━━━━━━━━━━━━━━━━━━━━━━━━━━━━━━━━━\u001b[0m \u001b[32m193.6/193.6 kB\u001b[0m \u001b[31m14.2 MB/s\u001b[0m eta \u001b[36m0:00:00\u001b[0m\n",
      "\u001b[?25hInstalling collected packages: nvidia-nvjitlink-cu12, nvidia-curand-cu12, nvidia-cufft-cu12, nvidia-cublas-cu12, fsspec, nvidia-cusparse-cu12, nvidia-cudnn-cu12, nvidia-cusolver-cu12\n",
      "  Attempting uninstall: nvidia-nvjitlink-cu12\n",
      "    Found existing installation: nvidia-nvjitlink-cu12 12.9.41\n",
      "    Uninstalling nvidia-nvjitlink-cu12-12.9.41:\n",
      "      Successfully uninstalled nvidia-nvjitlink-cu12-12.9.41\n",
      "  Attempting uninstall: nvidia-curand-cu12\n",
      "    Found existing installation: nvidia-curand-cu12 10.3.10.19\n",
      "    Uninstalling nvidia-curand-cu12-10.3.10.19:\n",
      "      Successfully uninstalled nvidia-curand-cu12-10.3.10.19\n",
      "  Attempting uninstall: nvidia-cufft-cu12\n",
      "    Found existing installation: nvidia-cufft-cu12 11.4.0.6\n",
      "    Uninstalling nvidia-cufft-cu12-11.4.0.6:\n",
      "      Successfully uninstalled nvidia-cufft-cu12-11.4.0.6\n",
      "  Attempting uninstall: nvidia-cublas-cu12\n",
      "    Found existing installation: nvidia-cublas-cu12 12.9.0.13\n",
      "    Uninstalling nvidia-cublas-cu12-12.9.0.13:\n",
      "      Successfully uninstalled nvidia-cublas-cu12-12.9.0.13\n",
      "  Attempting uninstall: fsspec\n",
      "    Found existing installation: fsspec 2025.3.2\n",
      "    Uninstalling fsspec-2025.3.2:\n",
      "      Successfully uninstalled fsspec-2025.3.2\n",
      "  Attempting uninstall: nvidia-cusparse-cu12\n",
      "    Found existing installation: nvidia-cusparse-cu12 12.5.9.5\n",
      "    Uninstalling nvidia-cusparse-cu12-12.5.9.5:\n",
      "      Successfully uninstalled nvidia-cusparse-cu12-12.5.9.5\n",
      "  Attempting uninstall: nvidia-cudnn-cu12\n",
      "    Found existing installation: nvidia-cudnn-cu12 9.3.0.75\n",
      "    Uninstalling nvidia-cudnn-cu12-9.3.0.75:\n",
      "      Successfully uninstalled nvidia-cudnn-cu12-9.3.0.75\n",
      "  Attempting uninstall: nvidia-cusolver-cu12\n",
      "    Found existing installation: nvidia-cusolver-cu12 11.7.4.40\n",
      "    Uninstalling nvidia-cusolver-cu12-11.7.4.40:\n",
      "      Successfully uninstalled nvidia-cusolver-cu12-11.7.4.40\n",
      "\u001b[31mERROR: pip's dependency resolver does not currently take into account all the packages that are installed. This behaviour is the source of the following dependency conflicts.\n",
      "cesium 0.12.4 requires numpy<3.0,>=2.0, but you have numpy 1.26.4 which is incompatible.\n",
      "bigframes 1.42.0 requires rich<14,>=12.4.4, but you have rich 14.0.0 which is incompatible.\n",
      "gcsfs 2025.3.2 requires fsspec==2025.3.2, but you have fsspec 2025.3.0 which is incompatible.\u001b[0m\u001b[31m\n",
      "\u001b[0mSuccessfully installed fsspec-2025.3.0 nvidia-cublas-cu12-12.4.5.8 nvidia-cudnn-cu12-9.1.0.70 nvidia-cufft-cu12-11.2.1.3 nvidia-curand-cu12-10.3.5.147 nvidia-cusolver-cu12-11.6.1.9 nvidia-cusparse-cu12-12.3.1.170 nvidia-nvjitlink-cu12-12.4.127\n",
      "Note: you may need to restart the kernel to use updated packages.\n"
     ]
    }
   ],
   "source": [
    "# Install required packages\n",
    "%pip install transformers datasets torch scikit-learn pandas numpy matplotlib seaborn nltk emoji tqdm sentencepiece"
   ]
  },
  {
   "cell_type": "code",
   "execution_count": 2,
   "id": "794b94b0",
   "metadata": {
    "execution": {
     "iopub.execute_input": "2025-05-28T06:19:15.398235Z",
     "iopub.status.busy": "2025-05-28T06:19:15.397726Z",
     "iopub.status.idle": "2025-05-28T06:19:22.545608Z",
     "shell.execute_reply": "2025-05-28T06:19:22.544763Z",
     "shell.execute_reply.started": "2025-05-28T06:19:15.398211Z"
    },
    "trusted": true
   },
   "outputs": [
    {
     "name": "stdout",
     "output_type": "stream",
     "text": [
      "Requirement already satisfied: peft in /usr/local/lib/python3.11/dist-packages (0.14.0)\n",
      "Requirement already satisfied: accelerate in /usr/local/lib/python3.11/dist-packages (1.5.2)\n",
      "Collecting bitsandbytes\n",
      "  Downloading bitsandbytes-0.46.0-py3-none-manylinux_2_24_x86_64.whl.metadata (10 kB)\n",
      "Requirement already satisfied: wandb in /usr/local/lib/python3.11/dist-packages (0.19.9)\n",
      "Collecting evaluate\n",
      "  Downloading evaluate-0.4.3-py3-none-any.whl.metadata (9.2 kB)\n",
      "Requirement already satisfied: numpy>=1.17 in /usr/local/lib/python3.11/dist-packages (from peft) (1.26.4)\n",
      "Requirement already satisfied: packaging>=20.0 in /usr/local/lib/python3.11/dist-packages (from peft) (25.0)\n",
      "Requirement already satisfied: psutil in /usr/local/lib/python3.11/dist-packages (from peft) (7.0.0)\n",
      "Requirement already satisfied: pyyaml in /usr/local/lib/python3.11/dist-packages (from peft) (6.0.2)\n",
      "Requirement already satisfied: torch>=1.13.0 in /usr/local/lib/python3.11/dist-packages (from peft) (2.6.0+cu124)\n",
      "Requirement already satisfied: transformers in /usr/local/lib/python3.11/dist-packages (from peft) (4.51.3)\n",
      "Requirement already satisfied: tqdm in /usr/local/lib/python3.11/dist-packages (from peft) (4.67.1)\n",
      "Requirement already satisfied: safetensors in /usr/local/lib/python3.11/dist-packages (from peft) (0.5.3)\n",
      "Requirement already satisfied: huggingface-hub>=0.25.0 in /usr/local/lib/python3.11/dist-packages (from peft) (0.31.1)\n",
      "Requirement already satisfied: click!=8.0.0,>=7.1 in /usr/local/lib/python3.11/dist-packages (from wandb) (8.1.8)\n",
      "Requirement already satisfied: docker-pycreds>=0.4.0 in /usr/local/lib/python3.11/dist-packages (from wandb) (0.4.0)\n",
      "Requirement already satisfied: gitpython!=3.1.29,>=1.0.0 in /usr/local/lib/python3.11/dist-packages (from wandb) (3.1.44)\n",
      "Requirement already satisfied: platformdirs in /usr/local/lib/python3.11/dist-packages (from wandb) (4.3.8)\n",
      "Requirement already satisfied: protobuf!=4.21.0,!=5.28.0,<6,>=3.19.0 in /usr/local/lib/python3.11/dist-packages (from wandb) (3.20.3)\n",
      "Requirement already satisfied: pydantic<3 in /usr/local/lib/python3.11/dist-packages (from wandb) (2.11.4)\n",
      "Requirement already satisfied: requests<3,>=2.0.0 in /usr/local/lib/python3.11/dist-packages (from wandb) (2.32.3)\n",
      "Requirement already satisfied: sentry-sdk>=2.0.0 in /usr/local/lib/python3.11/dist-packages (from wandb) (2.25.1)\n",
      "Requirement already satisfied: setproctitle in /usr/local/lib/python3.11/dist-packages (from wandb) (1.3.5)\n",
      "Requirement already satisfied: setuptools in /usr/local/lib/python3.11/dist-packages (from wandb) (75.2.0)\n",
      "Requirement already satisfied: typing-extensions<5,>=4.4 in /usr/local/lib/python3.11/dist-packages (from wandb) (4.13.2)\n",
      "Requirement already satisfied: datasets>=2.0.0 in /usr/local/lib/python3.11/dist-packages (from evaluate) (3.6.0)\n",
      "Requirement already satisfied: dill in /usr/local/lib/python3.11/dist-packages (from evaluate) (0.3.8)\n",
      "Requirement already satisfied: pandas in /usr/local/lib/python3.11/dist-packages (from evaluate) (2.2.3)\n",
      "Requirement already satisfied: xxhash in /usr/local/lib/python3.11/dist-packages (from evaluate) (3.5.0)\n",
      "Requirement already satisfied: multiprocess in /usr/local/lib/python3.11/dist-packages (from evaluate) (0.70.16)\n",
      "Requirement already satisfied: fsspec>=2021.05.0 in /usr/local/lib/python3.11/dist-packages (from fsspec[http]>=2021.05.0->evaluate) (2025.3.0)\n",
      "Requirement already satisfied: filelock in /usr/local/lib/python3.11/dist-packages (from datasets>=2.0.0->evaluate) (3.18.0)\n",
      "Requirement already satisfied: pyarrow>=15.0.0 in /usr/local/lib/python3.11/dist-packages (from datasets>=2.0.0->evaluate) (19.0.1)\n",
      "Requirement already satisfied: six>=1.4.0 in /usr/local/lib/python3.11/dist-packages (from docker-pycreds>=0.4.0->wandb) (1.17.0)\n",
      "Requirement already satisfied: aiohttp!=4.0.0a0,!=4.0.0a1 in /usr/local/lib/python3.11/dist-packages (from fsspec[http]>=2021.05.0->evaluate) (3.11.18)\n",
      "Requirement already satisfied: gitdb<5,>=4.0.1 in /usr/local/lib/python3.11/dist-packages (from gitpython!=3.1.29,>=1.0.0->wandb) (4.0.12)\n",
      "Requirement already satisfied: hf-xet<2.0.0,>=1.1.0 in /usr/local/lib/python3.11/dist-packages (from huggingface-hub>=0.25.0->peft) (1.1.0)\n",
      "Requirement already satisfied: mkl_fft in /usr/local/lib/python3.11/dist-packages (from numpy>=1.17->peft) (1.3.8)\n",
      "Requirement already satisfied: mkl_random in /usr/local/lib/python3.11/dist-packages (from numpy>=1.17->peft) (1.2.4)\n",
      "Requirement already satisfied: mkl_umath in /usr/local/lib/python3.11/dist-packages (from numpy>=1.17->peft) (0.1.1)\n",
      "Requirement already satisfied: mkl in /usr/local/lib/python3.11/dist-packages (from numpy>=1.17->peft) (2025.1.0)\n",
      "Requirement already satisfied: tbb4py in /usr/local/lib/python3.11/dist-packages (from numpy>=1.17->peft) (2022.1.0)\n",
      "Requirement already satisfied: mkl-service in /usr/local/lib/python3.11/dist-packages (from numpy>=1.17->peft) (2.4.1)\n",
      "Requirement already satisfied: annotated-types>=0.6.0 in /usr/local/lib/python3.11/dist-packages (from pydantic<3->wandb) (0.7.0)\n",
      "Requirement already satisfied: pydantic-core==2.33.2 in /usr/local/lib/python3.11/dist-packages (from pydantic<3->wandb) (2.33.2)\n",
      "Requirement already satisfied: typing-inspection>=0.4.0 in /usr/local/lib/python3.11/dist-packages (from pydantic<3->wandb) (0.4.0)\n",
      "Requirement already satisfied: charset-normalizer<4,>=2 in /usr/local/lib/python3.11/dist-packages (from requests<3,>=2.0.0->wandb) (3.4.2)\n",
      "Requirement already satisfied: idna<4,>=2.5 in /usr/local/lib/python3.11/dist-packages (from requests<3,>=2.0.0->wandb) (3.10)\n",
      "Requirement already satisfied: urllib3<3,>=1.21.1 in /usr/local/lib/python3.11/dist-packages (from requests<3,>=2.0.0->wandb) (2.4.0)\n",
      "Requirement already satisfied: certifi>=2017.4.17 in /usr/local/lib/python3.11/dist-packages (from requests<3,>=2.0.0->wandb) (2025.4.26)\n",
      "Requirement already satisfied: networkx in /usr/local/lib/python3.11/dist-packages (from torch>=1.13.0->peft) (3.4.2)\n",
      "Requirement already satisfied: jinja2 in /usr/local/lib/python3.11/dist-packages (from torch>=1.13.0->peft) (3.1.6)\n",
      "Requirement already satisfied: nvidia-cuda-nvrtc-cu12==12.4.127 in /usr/local/lib/python3.11/dist-packages (from torch>=1.13.0->peft) (12.4.127)\n",
      "Requirement already satisfied: nvidia-cuda-runtime-cu12==12.4.127 in /usr/local/lib/python3.11/dist-packages (from torch>=1.13.0->peft) (12.4.127)\n",
      "Requirement already satisfied: nvidia-cuda-cupti-cu12==12.4.127 in /usr/local/lib/python3.11/dist-packages (from torch>=1.13.0->peft) (12.4.127)\n",
      "Requirement already satisfied: nvidia-cudnn-cu12==9.1.0.70 in /usr/local/lib/python3.11/dist-packages (from torch>=1.13.0->peft) (9.1.0.70)\n",
      "Requirement already satisfied: nvidia-cublas-cu12==12.4.5.8 in /usr/local/lib/python3.11/dist-packages (from torch>=1.13.0->peft) (12.4.5.8)\n",
      "Requirement already satisfied: nvidia-cufft-cu12==11.2.1.3 in /usr/local/lib/python3.11/dist-packages (from torch>=1.13.0->peft) (11.2.1.3)\n",
      "Requirement already satisfied: nvidia-curand-cu12==10.3.5.147 in /usr/local/lib/python3.11/dist-packages (from torch>=1.13.0->peft) (10.3.5.147)\n",
      "Requirement already satisfied: nvidia-cusolver-cu12==11.6.1.9 in /usr/local/lib/python3.11/dist-packages (from torch>=1.13.0->peft) (11.6.1.9)\n",
      "Requirement already satisfied: nvidia-cusparse-cu12==12.3.1.170 in /usr/local/lib/python3.11/dist-packages (from torch>=1.13.0->peft) (12.3.1.170)\n",
      "Requirement already satisfied: nvidia-cusparselt-cu12==0.6.2 in /usr/local/lib/python3.11/dist-packages (from torch>=1.13.0->peft) (0.6.2)\n",
      "Requirement already satisfied: nvidia-nccl-cu12==2.21.5 in /usr/local/lib/python3.11/dist-packages (from torch>=1.13.0->peft) (2.21.5)\n",
      "Requirement already satisfied: nvidia-nvtx-cu12==12.4.127 in /usr/local/lib/python3.11/dist-packages (from torch>=1.13.0->peft) (12.4.127)\n",
      "Requirement already satisfied: nvidia-nvjitlink-cu12==12.4.127 in /usr/local/lib/python3.11/dist-packages (from torch>=1.13.0->peft) (12.4.127)\n",
      "Requirement already satisfied: triton==3.2.0 in /usr/local/lib/python3.11/dist-packages (from torch>=1.13.0->peft) (3.2.0)\n",
      "Requirement already satisfied: sympy==1.13.1 in /usr/local/lib/python3.11/dist-packages (from torch>=1.13.0->peft) (1.13.1)\n",
      "Requirement already satisfied: mpmath<1.4,>=1.1.0 in /usr/local/lib/python3.11/dist-packages (from sympy==1.13.1->torch>=1.13.0->peft) (1.3.0)\n",
      "Requirement already satisfied: python-dateutil>=2.8.2 in /usr/local/lib/python3.11/dist-packages (from pandas->evaluate) (2.9.0.post0)\n",
      "Requirement already satisfied: pytz>=2020.1 in /usr/local/lib/python3.11/dist-packages (from pandas->evaluate) (2025.2)\n",
      "Requirement already satisfied: tzdata>=2022.7 in /usr/local/lib/python3.11/dist-packages (from pandas->evaluate) (2025.2)\n",
      "Requirement already satisfied: regex!=2019.12.17 in /usr/local/lib/python3.11/dist-packages (from transformers->peft) (2024.11.6)\n",
      "Requirement already satisfied: tokenizers<0.22,>=0.21 in /usr/local/lib/python3.11/dist-packages (from transformers->peft) (0.21.1)\n",
      "Requirement already satisfied: aiohappyeyeballs>=2.3.0 in /usr/local/lib/python3.11/dist-packages (from aiohttp!=4.0.0a0,!=4.0.0a1->fsspec[http]>=2021.05.0->evaluate) (2.6.1)\n",
      "Requirement already satisfied: aiosignal>=1.1.2 in /usr/local/lib/python3.11/dist-packages (from aiohttp!=4.0.0a0,!=4.0.0a1->fsspec[http]>=2021.05.0->evaluate) (1.3.2)\n",
      "Requirement already satisfied: attrs>=17.3.0 in /usr/local/lib/python3.11/dist-packages (from aiohttp!=4.0.0a0,!=4.0.0a1->fsspec[http]>=2021.05.0->evaluate) (25.3.0)\n",
      "Requirement already satisfied: frozenlist>=1.1.1 in /usr/local/lib/python3.11/dist-packages (from aiohttp!=4.0.0a0,!=4.0.0a1->fsspec[http]>=2021.05.0->evaluate) (1.6.0)\n",
      "Requirement already satisfied: multidict<7.0,>=4.5 in /usr/local/lib/python3.11/dist-packages (from aiohttp!=4.0.0a0,!=4.0.0a1->fsspec[http]>=2021.05.0->evaluate) (6.4.3)\n",
      "Requirement already satisfied: propcache>=0.2.0 in /usr/local/lib/python3.11/dist-packages (from aiohttp!=4.0.0a0,!=4.0.0a1->fsspec[http]>=2021.05.0->evaluate) (0.3.1)\n",
      "Requirement already satisfied: yarl<2.0,>=1.17.0 in /usr/local/lib/python3.11/dist-packages (from aiohttp!=4.0.0a0,!=4.0.0a1->fsspec[http]>=2021.05.0->evaluate) (1.20.0)\n",
      "Requirement already satisfied: smmap<6,>=3.0.1 in /usr/local/lib/python3.11/dist-packages (from gitdb<5,>=4.0.1->gitpython!=3.1.29,>=1.0.0->wandb) (5.0.2)\n",
      "Requirement already satisfied: MarkupSafe>=2.0 in /usr/local/lib/python3.11/dist-packages (from jinja2->torch>=1.13.0->peft) (3.0.2)\n",
      "Requirement already satisfied: intel-openmp<2026,>=2024 in /usr/local/lib/python3.11/dist-packages (from mkl->numpy>=1.17->peft) (2024.2.0)\n",
      "Requirement already satisfied: tbb==2022.* in /usr/local/lib/python3.11/dist-packages (from mkl->numpy>=1.17->peft) (2022.1.0)\n",
      "Requirement already satisfied: tcmlib==1.* in /usr/local/lib/python3.11/dist-packages (from tbb==2022.*->mkl->numpy>=1.17->peft) (1.3.0)\n",
      "Requirement already satisfied: intel-cmplr-lib-rt in /usr/local/lib/python3.11/dist-packages (from mkl_umath->numpy>=1.17->peft) (2024.2.0)\n",
      "Requirement already satisfied: intel-cmplr-lib-ur==2024.2.0 in /usr/local/lib/python3.11/dist-packages (from intel-openmp<2026,>=2024->mkl->numpy>=1.17->peft) (2024.2.0)\n",
      "Downloading bitsandbytes-0.46.0-py3-none-manylinux_2_24_x86_64.whl (67.0 MB)\n",
      "\u001b[2K   \u001b[90m━━━━━━━━━━━━━━━━━━━━━━━━━━━━━━━━━━━━━━━━\u001b[0m \u001b[32m67.0/67.0 MB\u001b[0m \u001b[31m26.7 MB/s\u001b[0m eta \u001b[36m0:00:00\u001b[0m:00:01\u001b[0m00:01\u001b[0m\n",
      "\u001b[?25hDownloading evaluate-0.4.3-py3-none-any.whl (84 kB)\n",
      "\u001b[2K   \u001b[90m━━━━━━━━━━━━━━━━━━━━━━━━━━━━━━━━━━━━━━━━\u001b[0m \u001b[32m84.0/84.0 kB\u001b[0m \u001b[31m5.1 MB/s\u001b[0m eta \u001b[36m0:00:00\u001b[0m\n",
      "\u001b[?25hInstalling collected packages: evaluate, bitsandbytes\n",
      "Successfully installed bitsandbytes-0.46.0 evaluate-0.4.3\n",
      "Note: you may need to restart the kernel to use updated packages.\n"
     ]
    }
   ],
   "source": [
    "%pip install peft accelerate bitsandbytes wandb evaluate"
   ]
  },
  {
   "cell_type": "code",
   "execution_count": 1,
   "id": "64e9ed07",
   "metadata": {
    "execution": {
     "iopub.execute_input": "2025-06-04T00:40:03.875261Z",
     "iopub.status.busy": "2025-06-04T00:40:03.874987Z",
     "iopub.status.idle": "2025-06-04T00:40:03.885818Z",
     "shell.execute_reply": "2025-06-04T00:40:03.885295Z",
     "shell.execute_reply.started": "2025-06-04T00:40:03.875240Z"
    },
    "trusted": true
   },
   "outputs": [],
   "source": [
    "# Import necessary libraries\n",
    "from typing import List, Dict, Set\n",
    "import pandas as pd\n",
    "import numpy as np\n",
    "import matplotlib.pyplot as plt\n",
    "import seaborn as sns\n",
    "import torch\n",
    "from datasets import load_dataset\n",
    "from transformers import (\n",
    "    AutoTokenizer, \n",
    "    AutoModelForSequenceClassification,\n",
    "    TrainingArguments,\n",
    "    Trainer,\n",
    "    DataCollatorWithPadding,\n",
    "    EvalPrediction\n",
    ")\n",
    "from sklearn.metrics import accuracy_score, precision_recall_fscore_support, confusion_matrix\n",
    "# import evaluate\n",
    "import re\n",
    "import json\n",
    "from torch.utils.data import Dataset\n",
    "from sklearn.model_selection import train_test_split\n",
    "import random\n",
    "import os\n",
    "from tqdm.auto import tqdm\n",
    "\n",
    "# Set random seeds for reproducibility\n",
    "def set_seed(seed_value=42):\n",
    "    random.seed(seed_value)\n",
    "    np.random.seed(seed_value)\n",
    "    torch.manual_seed(seed_value)\n",
    "    torch.cuda.manual_seed_all(seed_value)\n",
    "    os.environ['PYTHONHASHSEED'] = str(seed_value)\n",
    "    torch.backends.cudnn.deterministic = True\n",
    "    \n",
    "set_seed()"
   ]
  },
  {
   "cell_type": "markdown",
   "id": "14b5d8ec-bbbe-4a46-8303-d69db33aeae8",
   "metadata": {},
   "source": [
    "## Dataset Collection and Exploration"
   ]
  },
  {
   "cell_type": "markdown",
   "id": "37868ffc-c351-449c-a0a2-22c9b2ed0630",
   "metadata": {},
   "source": [
    "### 1. Google GoEmotions Dataset"
   ]
  },
  {
   "cell_type": "code",
   "execution_count": 2,
   "id": "9dc03f71",
   "metadata": {
    "execution": {
     "iopub.execute_input": "2025-06-03T01:04:36.884554Z",
     "iopub.status.busy": "2025-06-03T01:04:36.884272Z",
     "iopub.status.idle": "2025-06-03T01:04:39.891672Z",
     "shell.execute_reply": "2025-06-03T01:04:39.890903Z",
     "shell.execute_reply.started": "2025-06-03T01:04:36.884536Z"
    },
    "trusted": true
   },
   "outputs": [
    {
     "data": {
      "application/vnd.jupyter.widget-view+json": {
       "model_id": "d40d245974d648818e585aa95ae149ac",
       "version_major": 2,
       "version_minor": 0
      },
      "text/plain": [
       "README.md:   0%|          | 0.00/9.40k [00:00<?, ?B/s]"
      ]
     },
     "metadata": {},
     "output_type": "display_data"
    },
    {
     "data": {
      "application/vnd.jupyter.widget-view+json": {
       "model_id": "4e4397d6d27a4ff99bc63c2136272dc3",
       "version_major": 2,
       "version_minor": 0
      },
      "text/plain": [
       "train-00000-of-00001.parquet:   0%|          | 0.00/2.77M [00:00<?, ?B/s]"
      ]
     },
     "metadata": {},
     "output_type": "display_data"
    },
    {
     "data": {
      "application/vnd.jupyter.widget-view+json": {
       "model_id": "603b6ff42d684f6aaf124ce68108eb97",
       "version_major": 2,
       "version_minor": 0
      },
      "text/plain": [
       "validation-00000-of-00001.parquet:   0%|          | 0.00/350k [00:00<?, ?B/s]"
      ]
     },
     "metadata": {},
     "output_type": "display_data"
    },
    {
     "data": {
      "application/vnd.jupyter.widget-view+json": {
       "model_id": "f65776582c36455b9b31ada79b2c14a5",
       "version_major": 2,
       "version_minor": 0
      },
      "text/plain": [
       "test-00000-of-00001.parquet:   0%|          | 0.00/347k [00:00<?, ?B/s]"
      ]
     },
     "metadata": {},
     "output_type": "display_data"
    },
    {
     "data": {
      "application/vnd.jupyter.widget-view+json": {
       "model_id": "c2184dd2d6a44332b64cee32f2c82bf9",
       "version_major": 2,
       "version_minor": 0
      },
      "text/plain": [
       "Generating train split:   0%|          | 0/43410 [00:00<?, ? examples/s]"
      ]
     },
     "metadata": {},
     "output_type": "display_data"
    },
    {
     "data": {
      "application/vnd.jupyter.widget-view+json": {
       "model_id": "b8633d6ab38f4befb4216e0d1ac74107",
       "version_major": 2,
       "version_minor": 0
      },
      "text/plain": [
       "Generating validation split:   0%|          | 0/5426 [00:00<?, ? examples/s]"
      ]
     },
     "metadata": {},
     "output_type": "display_data"
    },
    {
     "data": {
      "application/vnd.jupyter.widget-view+json": {
       "model_id": "c32452a1fea24cb387b1a2cd090c3b32",
       "version_major": 2,
       "version_minor": 0
      },
      "text/plain": [
       "Generating test split:   0%|          | 0/5427 [00:00<?, ? examples/s]"
      ]
     },
     "metadata": {},
     "output_type": "display_data"
    },
    {
     "name": "stdout",
     "output_type": "stream",
     "text": [
      "GoEmotions dataset structure:\n",
      "DatasetDict({\n",
      "    train: Dataset({\n",
      "        features: ['text', 'labels', 'id'],\n",
      "        num_rows: 43410\n",
      "    })\n",
      "    validation: Dataset({\n",
      "        features: ['text', 'labels', 'id'],\n",
      "        num_rows: 5426\n",
      "    })\n",
      "    test: Dataset({\n",
      "        features: ['text', 'labels', 'id'],\n",
      "        num_rows: 5427\n",
      "    })\n",
      "})\n",
      "\n",
      "Sample from GoEmotions:\n",
      "Dataset({\n",
      "    features: ['text', 'labels', 'id'],\n",
      "    num_rows: 3\n",
      "})\n"
     ]
    }
   ],
   "source": [
    "# Load GoEmotions dataset\n",
    "go_emotions = load_dataset(\"google-research-datasets/go_emotions\", \"simplified\")\n",
    "\n",
    "# Explore GoEmotions dataset\n",
    "print(\"GoEmotions dataset structure:\")\n",
    "print(go_emotions)\n",
    "print(\"\\nSample from GoEmotions:\")\n",
    "print(go_emotions[\"train\"].select([0, 1, 2]))"
   ]
  },
  {
   "cell_type": "code",
   "execution_count": 3,
   "id": "1b232aa5-9181-4fc2-a822-a199662faaa1",
   "metadata": {
    "execution": {
     "iopub.execute_input": "2025-06-03T01:04:43.848802Z",
     "iopub.status.busy": "2025-06-03T01:04:43.847983Z",
     "iopub.status.idle": "2025-06-03T01:04:43.853928Z",
     "shell.execute_reply": "2025-06-03T01:04:43.852926Z",
     "shell.execute_reply.started": "2025-06-03T01:04:43.848774Z"
    },
    "trusted": true
   },
   "outputs": [
    {
     "name": "stdout",
     "output_type": "stream",
     "text": [
      "\n",
      "GoEmotions has 28 emotion categories:\n",
      "['admiration', 'amusement', 'anger', 'annoyance', 'approval', 'caring', 'confusion', 'curiosity', 'desire', 'disappointment', 'disapproval', 'disgust', 'embarrassment', 'excitement', 'fear', 'gratitude', 'grief', 'joy', 'love', 'nervousness', 'optimism', 'pride', 'realization', 'relief', 'remorse', 'sadness', 'surprise', 'neutral']\n"
     ]
    }
   ],
   "source": [
    "# Explore emotion categories in GoEmotions\n",
    "go_emotions_labels = go_emotions[\"train\"].features[\"labels\"].feature.names\n",
    "print(f\"\\nGoEmotions has {len(go_emotions_labels)} emotion categories:\")\n",
    "print(go_emotions_labels)"
   ]
  },
  {
   "cell_type": "markdown",
   "id": "7f2ff5c3-e6de-4ee3-8476-b62cfdee4c53",
   "metadata": {},
   "source": [
    "### Analysis on GoEmotions Distribution"
   ]
  },
  {
   "cell_type": "code",
   "execution_count": 4,
   "id": "63a82570-c685-4a52-93f4-fddce64b8dcc",
   "metadata": {
    "execution": {
     "iopub.execute_input": "2025-06-03T01:04:47.248964Z",
     "iopub.status.busy": "2025-06-03T01:04:47.248269Z",
     "iopub.status.idle": "2025-06-03T01:04:49.375461Z",
     "shell.execute_reply": "2025-06-03T01:04:49.374524Z",
     "shell.execute_reply.started": "2025-06-03T01:04:47.248940Z"
    },
    "trusted": true
   },
   "outputs": [
    {
     "data": {
      "image/png": "[encoded data removed]",
      "text/plain": [
       "<Figure size 1500x800 with 1 Axes>"
      ]
     },
     "metadata": {},
     "output_type": "display_data"
    }
   ],
   "source": [
    "# Analyze label distribution in GoEmotions\n",
    "def plot_emotion_distribution(dataset, labels_list, name):\n",
    "    # Count occurrences of each emotion\n",
    "    emotion_counts = {}\n",
    "    for example in dataset[\"train\"]:\n",
    "        for label in example[\"labels\"]:\n",
    "            if labels_list[label] in emotion_counts:\n",
    "                emotion_counts[labels_list[label]] += 1\n",
    "            else:\n",
    "                emotion_counts[labels_list[label]] = 1\n",
    "    \n",
    "    # Sort by frequency\n",
    "    sorted_emotions = sorted(emotion_counts.items(), key=lambda x: x[1], reverse=True)\n",
    "    emotions = [item[0] for item in sorted_emotions]\n",
    "    counts = [item[1] for item in sorted_emotions]\n",
    "    \n",
    "    # Plot\n",
    "    plt.figure(figsize=(15, 8))\n",
    "    plt.bar(emotions, counts)\n",
    "    plt.xticks(rotation=90)\n",
    "    plt.title(f'Emotion Distribution in {name} Dataset', fontsize=22)\n",
    "    plt.ylabel('Count')\n",
    "    plt.tight_layout()\n",
    "    plt.show()\n",
    "\n",
    "    return emotion_counts\n",
    "\n",
    "go_emotions_distribution = plot_emotion_distribution(go_emotions, go_emotions_labels, \"GoEmotions\")"
   ]
  },
  {
   "cell_type": "markdown",
   "id": "da417e7f",
   "metadata": {},
   "source": [
    "### 2. ISEAR Dataset"
   ]
  },
  {
   "cell_type": "code",
   "execution_count": 5,
   "id": "75414dc7",
   "metadata": {
    "execution": {
     "iopub.execute_input": "2025-06-03T01:04:51.978664Z",
     "iopub.status.busy": "2025-06-03T01:04:51.978066Z",
     "iopub.status.idle": "2025-06-03T01:04:54.403001Z",
     "shell.execute_reply": "2025-06-03T01:04:54.402020Z",
     "shell.execute_reply.started": "2025-06-03T01:04:51.978638Z"
    },
    "trusted": true
   },
   "outputs": [
    {
     "data": {
      "application/vnd.jupyter.widget-view+json": {
       "model_id": "951369c9d338481e8f260a4035cd9a31",
       "version_major": 2,
       "version_minor": 0
      },
      "text/plain": [
       "ISEAR_dataset_complete.csv:   0%|          | 0.00/958k [00:00<?, ?B/s]"
      ]
     },
     "metadata": {},
     "output_type": "display_data"
    },
    {
     "data": {
      "application/vnd.jupyter.widget-view+json": {
       "model_id": "ee2ef49f75e144628eb97572aeffa4e1",
       "version_major": 2,
       "version_minor": 0
      },
      "text/plain": [
       "Generating train split:   0%|          | 0/7516 [00:00<?, ? examples/s]"
      ]
     },
     "metadata": {},
     "output_type": "display_data"
    }
   ],
   "source": [
    "# Load ISEAR dataset\n",
    "isear_dataset = load_dataset(\"gsri-18/ISEAR-dataset-complete\")"
   ]
  },
  {
   "cell_type": "code",
   "execution_count": 6,
   "id": "7924c242-01c4-4570-a020-ed5ffd5cc9dd",
   "metadata": {
    "execution": {
     "iopub.execute_input": "2025-06-03T01:04:54.404521Z",
     "iopub.status.busy": "2025-06-03T01:04:54.404269Z",
     "iopub.status.idle": "2025-06-03T01:04:54.413130Z",
     "shell.execute_reply": "2025-06-03T01:04:54.412212Z",
     "shell.execute_reply.started": "2025-06-03T01:04:54.404492Z"
    },
    "trusted": true
   },
   "outputs": [
    {
     "name": "stdout",
     "output_type": "stream",
     "text": [
      "\n",
      "ISEAR dataset structure:\n",
      "DatasetDict({\n",
      "    train: Dataset({\n",
      "        features: ['emotion', 'content', 'Unnamed: 2'],\n",
      "        num_rows: 7516\n",
      "    })\n",
      "})\n",
      "\n",
      "Sample from ISEAR:\n",
      "Dataset({\n",
      "    features: ['emotion', 'content', 'Unnamed: 2'],\n",
      "    num_rows: 3\n",
      "})\n"
     ]
    }
   ],
   "source": [
    "# Explore ISEAR dataset\n",
    "print(\"\\nISEAR dataset structure:\")\n",
    "print(isear_dataset)\n",
    "print(\"\\nSample from ISEAR:\")\n",
    "print(isear_dataset[\"train\"].select([0, 1, 2]))"
   ]
  },
  {
   "cell_type": "markdown",
   "id": "09c16e8f-939b-4a1d-85cb-a7f399220084",
   "metadata": {},
   "source": [
    "### Analysis on ISEAR Dataset Distribution"
   ]
  },
  {
   "cell_type": "code",
   "execution_count": 7,
   "id": "46efb4b1-04ac-4755-973e-91f974eb2763",
   "metadata": {
    "execution": {
     "iopub.execute_input": "2025-06-03T01:04:56.044406Z",
     "iopub.status.busy": "2025-06-03T01:04:56.044076Z",
     "iopub.status.idle": "2025-06-03T01:04:57.927461Z",
     "shell.execute_reply": "2025-06-03T01:04:57.926248Z",
     "shell.execute_reply.started": "2025-06-03T01:04:56.044382Z"
    },
    "trusted": true
   },
   "outputs": [
    {
     "data": {
      "image/png": "[encoded data removed]",
      "text/plain": [
       "<Figure size 1000x600 with 1 Axes>"
      ]
     },
     "metadata": {},
     "output_type": "display_data"
    }
   ],
   "source": [
    "isear_emotions = isear_dataset[\"train\"].unique(\"emotion\")\n",
    "isear_emotion_counts = {}\n",
    "for emotion in isear_emotions:\n",
    "    count = len([ex for ex in isear_dataset[\"train\"] if ex[\"emotion\"] == emotion])\n",
    "    isear_emotion_counts[emotion] = count\n",
    "\n",
    "plt.figure(figsize=(10, 6))\n",
    "plt.bar(isear_emotion_counts.keys(), isear_emotion_counts.values())\n",
    "plt.title('Emotion Distribution in ISEAR Dataset', fontsize=22)\n",
    "plt.ylabel('Count')\n",
    "plt.xticks(rotation=45)\n",
    "plt.tight_layout()\n",
    "plt.show()"
   ]
  },
  {
   "cell_type": "markdown",
   "id": "522e2dc1-5304-4e53-88d1-14021d206161",
   "metadata": {},
   "source": [
    "## Data Preprocessing and Unification\n",
    "\n",
    "### Define our target emotions for Kumora\n",
    "We'll focus on a subset of emotions most relevant for women's support."
   ]
  },
  {
   "cell_type": "code",
   "execution_count": 8,
   "id": "6252dc00-d0fb-460d-aaa2-42781436cd62",
   "metadata": {
    "execution": {
     "iopub.execute_input": "2025-06-03T01:05:00.183572Z",
     "iopub.status.busy": "2025-06-03T01:05:00.183259Z",
     "iopub.status.idle": "2025-06-03T01:05:00.190412Z",
     "shell.execute_reply": "2025-06-03T01:05:00.189544Z",
     "shell.execute_reply.started": "2025-06-03T01:05:00.183552Z"
    },
    "trusted": true
   },
   "outputs": [],
   "source": [
    "TARGET_EMOTIONS = [\n",
    "    \"joy\", \"sadness\", \"anger\", \"fear\", \"surprise\", \"disgust\", \"shame\", \n",
    "    \"guilt\", \"anxiety\", \"love\", \"gratitude\", \"relief\"\n",
    "]\n",
    "what about prompts? already?kaile?\n",
    "# Create a mapping from GoEmotions labels to our target emotions\n",
    "GO_EMOTIONS_MAPPING = {\n",
    "    \"admiration\": \"love\",\n",
    "    \"amusement\": \"joy\",\n",
    "    \"anger\": \"anger\",\n",
    "    \"annoyance\": \"anger\",\n",
    "    \"approval\": \"gratitude\",\n",
    "    \"caring\": \"love\",\n",
    "    \"confusion\": \"surprise\",\n",
    "    \"curiosity\": \"surprise\",\n",
    "    \"desire\": \"love\",\n",
    "    \"disappointment\": \"sadness\",\n",
    "    \"disapproval\": \"disgust\",\n",
    "    \"disgust\": \"disgust\",\n",
    "    \"embarrassment\": \"shame\",\n",
    "    \"excitement\": \"joy\",\n",
    "    \"fear\": \"fear\",\n",
    "    \"gratitude\": \"gratitude\",\n",
    "    \"grief\": \"sadness\",\n",
    "    \"joy\": \"joy\",\n",
    "    \"love\": \"love\",\n",
    "    \"nervousness\": \"anxiety\",\n",
    "    \"optimism\": \"joy\",\n",
    "    \"pride\": \"joy\",\n",
    "    \"realization\": \"surprise\",\n",
    "    \"relief\": \"relief\",\n",
    "    \"remorse\": \"guilt\",\n",
    "    \"sadness\": \"sadness\",\n",
    "    \"surprise\": \"surprise\",\n",
    "    \"neutral\": None  # We'll filter out neutral examples\n",
    "}\n",
    "\n",
    "# Create a mapping from ISEAR emotions to our target emotions\n",
    "ISEAR_MAPPING = {\n",
    "    \"joy\": \"joy\",\n",
    "    \"fear\": \"fear\",\n",
    "    \"anger\": \"anger\",\n",
    "    \"sadness\": \"sadness\",\n",
    "    \"disgust\": \"disgust\",\n",
    "    \"shame\": \"shame\",\n",
    "    \"guilt\": \"guilt\"\n",
    "}"
   ]
  },
  {
   "cell_type": "markdown",
   "id": "ca6a51d9-dc65-4a7b-85d8-0b3303811240",
   "metadata": {},
   "source": [
    "## Function to Preprocess GoEmotions Dataset"
   ]
  },
  {
   "cell_type": "code",
   "execution_count": 9,
   "id": "f1cbde7b-78c4-471d-a2e0-bd55279f6cf1",
   "metadata": {
    "execution": {
     "iopub.execute_input": "2025-06-03T01:05:10.291469Z",
     "iopub.status.busy": "2025-06-03T01:05:10.291170Z",
     "iopub.status.idle": "2025-06-03T01:05:10.297412Z",
     "shell.execute_reply": "2025-06-03T01:05:10.296496Z",
     "shell.execute_reply.started": "2025-06-03T01:05:10.291444Z"
    },
    "trusted": true
   },
   "outputs": [],
   "source": [
    "# Preprocess GoEmotions dataset\n",
    "def preprocess_go_emotions(dataset):\n",
    "    text = dataset[\"text\"]\n",
    "    \n",
    "    # Get all emotions for this dataset\n",
    "    emotions = [go_emotions_labels[label] for label in dataset[\"labels\"]]\n",
    "    \n",
    "    # Map to our target emotions, filtering out None values\n",
    "    mapped_emotions = [GO_EMOTIONS_MAPPING[emotion] for emotion in emotions if emotion in GO_EMOTIONS_MAPPING and GO_EMOTIONS_MAPPING[emotion] is not None]\n",
    "    \n",
    "    # Skip dataset with no mapped emotions\n",
    "    if not mapped_emotions:\n",
    "        return None\n",
    "    \n",
    "    # Take the first mapped emotion if multiple exist\n",
    "    primary_emotion = mapped_emotions[0]\n",
    "    \n",
    "    return {\n",
    "        \"text\": text,\n",
    "        \"emotion\": primary_emotion\n",
    "    }"
   ]
  },
  {
   "cell_type": "code",
   "execution_count": 10,
   "id": "24a74459-c896-4313-b5fe-c914c3f0edea",
   "metadata": {
    "execution": {
     "iopub.execute_input": "2025-06-03T01:05:12.722238Z",
     "iopub.status.busy": "2025-06-03T01:05:12.721947Z",
     "iopub.status.idle": "2025-06-03T01:05:14.610578Z",
     "shell.execute_reply": "2025-06-03T01:05:14.609461Z",
     "shell.execute_reply.started": "2025-06-03T01:05:12.722220Z"
    },
    "trusted": true
   },
   "outputs": [
    {
     "data": {
      "application/vnd.jupyter.widget-view+json": {
       "model_id": "1b55f03a700e48d5a550b604a9c009d0",
       "version_major": 2,
       "version_minor": 0
      },
      "text/plain": [
       "  0%|          | 0/43410 [00:00<?, ?it/s]"
      ]
     },
     "metadata": {},
     "output_type": "display_data"
    },
    {
     "data": {
      "text/plain": [
       "[{'text': 'WHY THE FUCK IS BAYLESS ISOING', 'emotion': 'anger'},\n",
       " {'text': 'To make her feel threatened', 'emotion': 'fear'},\n",
       " {'text': 'Dirty Southern Wankers', 'emotion': 'anger'},\n",
       " {'text': \"OmG pEyToN iSn'T gOoD eNoUgH tO hElP uS iN tHe PlAyOfFs! Dumbass Broncos fans circa December 2015.\",\n",
       "  'emotion': 'surprise'},\n",
       " {'text': 'Yes I heard abt the f bombs! That has to be why. Thanks for your reply:) until then hubby and I will anxiously wait 😝',\n",
       "  'emotion': 'gratitude'}]"
      ]
     },
     "execution_count": 10,
     "metadata": {},
     "output_type": "execute_result"
    }
   ],
   "source": [
    "# Process GoEmotions dataset\n",
    "go_emotions_processed = []\n",
    "for example in tqdm(go_emotions[\"train\"]):\n",
    "    processed = preprocess_go_emotions(example)\n",
    "    if processed:\n",
    "        go_emotions_processed.append(processed)\n",
    "\n",
    "go_emotions_processed[:5]"
   ]
  },
  {
   "cell_type": "code",
   "execution_count": 11,
   "id": "e1f384a7-5eff-4390-9224-e0ca57f3ef41",
   "metadata": {
    "execution": {
     "iopub.execute_input": "2025-06-03T01:05:18.682777Z",
     "iopub.status.busy": "2025-06-03T01:05:18.682429Z",
     "iopub.status.idle": "2025-06-03T01:05:18.967208Z",
     "shell.execute_reply": "2025-06-03T01:05:18.966213Z",
     "shell.execute_reply.started": "2025-06-03T01:05:18.682751Z"
    },
    "trusted": true
   },
   "outputs": [
    {
     "data": {
      "application/vnd.jupyter.widget-view+json": {
       "model_id": "4fc1293eb3834a60b9b6817186f4de6d",
       "version_major": 2,
       "version_minor": 0
      },
      "text/plain": [
       "  0%|          | 0/7516 [00:00<?, ?it/s]"
      ]
     },
     "metadata": {},
     "output_type": "display_data"
    }
   ],
   "source": [
    "# Process ISEAR dataset\n",
    "isear_processed = []\n",
    "for example in tqdm(isear_dataset[\"train\"]):\n",
    "    if example[\"emotion\"] in ISEAR_MAPPING:\n",
    "        isear_processed.append({\n",
    "            \"text\": example[\"content\"],  # description\n",
    "            \"emotion\": ISEAR_MAPPING[example[\"emotion\"]]\n",
    "        })"
   ]
  },
  {
   "cell_type": "code",
   "execution_count": 12,
   "id": "56bc1547-3437-417e-a89f-8c3676b7976a",
   "metadata": {
    "execution": {
     "iopub.execute_input": "2025-06-03T01:05:21.138025Z",
     "iopub.status.busy": "2025-06-03T01:05:21.137641Z",
     "iopub.status.idle": "2025-06-03T01:05:21.144967Z",
     "shell.execute_reply": "2025-06-03T01:05:21.143930Z",
     "shell.execute_reply.started": "2025-06-03T01:05:21.137999Z"
    },
    "trusted": true
   },
   "outputs": [
    {
     "data": {
      "text/plain": [
       "[{'text': 'On days when I feel close to my partner and other friends.   \\nWhen I feel at peace with myself and also experience a close  \\ncontact with people whom I regard greatly.',\n",
       "  'emotion': 'joy'},\n",
       " {'text': 'Every time I imagine that someone I love or I could contact a  \\nserious illness, even death.',\n",
       "  'emotion': 'fear'},\n",
       " {'text': 'When I had been obviously unjustly treated and had no possibility  \\nof elucidating this.',\n",
       "  'emotion': 'anger'},\n",
       " {'text': 'When I think about the short time that we live and relate it to  \\nthe periods of my life when I think that I did not use this  \\nshort time.',\n",
       "  'emotion': 'sadness'},\n",
       " {'text': 'At a gathering I found myself involuntarily sitting next to two  \\npeople who expressed opinions that I considered very low and  \\ndiscriminating.',\n",
       "  'emotion': 'disgust'}]"
      ]
     },
     "execution_count": 12,
     "metadata": {},
     "output_type": "execute_result"
    }
   ],
   "source": [
    "isear_processed[:5]"
   ]
  },
  {
   "cell_type": "code",
   "execution_count": 13,
   "id": "b4cebd28-c7cb-45cd-ab6e-b95de5354b69",
   "metadata": {
    "execution": {
     "iopub.execute_input": "2025-06-03T01:05:29.425832Z",
     "iopub.status.busy": "2025-06-03T01:05:29.425518Z",
     "iopub.status.idle": "2025-06-03T01:05:29.431172Z",
     "shell.execute_reply": "2025-06-03T01:05:29.430258Z",
     "shell.execute_reply.started": "2025-06-03T01:05:29.425810Z"
    },
    "trusted": true
   },
   "outputs": [
    {
     "name": "stdout",
     "output_type": "stream",
     "text": [
      "Combined dataset size: 38103 examples\n"
     ]
    }
   ],
   "source": [
    "# Combine datasets\n",
    "combined_data = go_emotions_processed + isear_processed\n",
    "print(f\"Combined dataset size: {len(combined_data)} examples\")"
   ]
  },
  {
   "cell_type": "code",
   "execution_count": 14,
   "id": "be887a3f-2fe7-42f2-a586-1c4639969968",
   "metadata": {
    "execution": {
     "iopub.execute_input": "2025-06-03T01:05:32.163011Z",
     "iopub.status.busy": "2025-06-03T01:05:32.162213Z",
     "iopub.status.idle": "2025-06-03T01:05:32.194628Z",
     "shell.execute_reply": "2025-06-03T01:05:32.193574Z",
     "shell.execute_reply.started": "2025-06-03T01:05:32.162984Z"
    },
    "trusted": true
   },
   "outputs": [
    {
     "name": "stdout",
     "output_type": "stream",
     "text": [
      "\n",
      "Emotion distribution in combined dataset:\n",
      "emotion\n",
      "love         7172\n",
      "joy          6080\n",
      "anger        4764\n",
      "gratitude    4692\n",
      "surprise     4489\n",
      "disgust      3297\n",
      "sadness      3049\n",
      "fear         1586\n",
      "guilt        1454\n",
      "shame        1319\n",
      "anxiety       105\n",
      "relief         96\n",
      "Name: count, dtype: int64\n"
     ]
    }
   ],
   "source": [
    "# Convert to DataFrame for easier handling\n",
    "combined_df = pd.DataFrame(combined_data)\n",
    "\n",
    "# Check class distribution\n",
    "emotion_counts = combined_df[\"emotion\"].value_counts()\n",
    "print(\"\\nEmotion distribution in combined dataset:\")\n",
    "print(emotion_counts)"
   ]
  },
  {
   "cell_type": "code",
   "execution_count": 15,
   "id": "74487a23-59a2-4700-adbc-b5c1786cf02c",
   "metadata": {
    "execution": {
     "iopub.execute_input": "2025-06-03T01:06:46.134060Z",
     "iopub.status.busy": "2025-06-03T01:06:46.133632Z",
     "iopub.status.idle": "2025-06-03T01:06:46.290785Z",
     "shell.execute_reply": "2025-06-03T01:06:46.289880Z",
     "shell.execute_reply.started": "2025-06-03T01:06:46.134035Z"
    },
    "trusted": true
   },
   "outputs": [],
   "source": [
    "combined_df.to_csv(\"collected_emotion_data.csv\")"
   ]
  },
  {
   "cell_type": "code",
   "execution_count": 2,
   "id": "11814988-3ce1-4588-8abf-9ed5e295961c",
   "metadata": {
    "execution": {
     "iopub.execute_input": "2025-06-03T22:47:04.994693Z",
     "iopub.status.busy": "2025-06-03T22:47:04.994363Z",
     "iopub.status.idle": "2025-06-03T22:47:05.065677Z",
     "shell.execute_reply": "2025-06-03T22:47:05.064526Z",
     "shell.execute_reply.started": "2025-06-03T22:47:04.994671Z"
    },
    "trusted": true
   },
   "outputs": [],
   "source": [
    "combined_df = pd.read_csv(\"collected_emotion_data.csv\")"
   ]
  },
  {
   "cell_type": "code",
   "execution_count": 3,
   "id": "c7bd75d6-a1a7-4c5a-b0ee-a8127fc205cf",
   "metadata": {
    "execution": {
     "iopub.execute_input": "2025-06-03T22:47:11.630519Z",
     "iopub.status.busy": "2025-06-03T22:47:11.630204Z",
     "iopub.status.idle": "2025-06-03T22:47:11.659292Z",
     "shell.execute_reply": "2025-06-03T22:47:11.658191Z",
     "shell.execute_reply.started": "2025-06-03T22:47:11.630475Z"
    },
    "trusted": true
   },
   "outputs": [
    {
     "data": {
      "text/html": [
       "<div>\n",
       "<style scoped>\n",
       "    .dataframe tbody tr th:only-of-type {\n",
       "        vertical-align: middle;\n",
       "    }\n",
       "\n",
       "    .dataframe tbody tr th {\n",
       "        vertical-align: top;\n",
       "    }\n",
       "\n",
       "    .dataframe thead th {\n",
       "        text-align: right;\n",
       "    }\n",
       "</style>\n",
       "<table border=\"1\" class=\"dataframe\">\n",
       "  <thead>\n",
       "    <tr style=\"text-align: right;\">\n",
       "      <th></th>\n",
       "      <th>Unnamed: 0</th>\n",
       "      <th>text</th>\n",
       "      <th>emotion</th>\n",
       "    </tr>\n",
       "  </thead>\n",
       "  <tbody>\n",
       "    <tr>\n",
       "      <th>0</th>\n",
       "      <td>0</td>\n",
       "      <td>WHY THE FUCK IS BAYLESS ISOING</td>\n",
       "      <td>anger</td>\n",
       "    </tr>\n",
       "    <tr>\n",
       "      <th>1</th>\n",
       "      <td>1</td>\n",
       "      <td>To make her feel threatened</td>\n",
       "      <td>fear</td>\n",
       "    </tr>\n",
       "    <tr>\n",
       "      <th>2</th>\n",
       "      <td>2</td>\n",
       "      <td>Dirty Southern Wankers</td>\n",
       "      <td>anger</td>\n",
       "    </tr>\n",
       "    <tr>\n",
       "      <th>3</th>\n",
       "      <td>3</td>\n",
       "      <td>OmG pEyToN iSn'T gOoD eNoUgH tO hElP uS iN tHe...</td>\n",
       "      <td>surprise</td>\n",
       "    </tr>\n",
       "    <tr>\n",
       "      <th>4</th>\n",
       "      <td>4</td>\n",
       "      <td>Yes I heard abt the f bombs! That has to be wh...</td>\n",
       "      <td>gratitude</td>\n",
       "    </tr>\n",
       "    <tr>\n",
       "      <th>...</th>\n",
       "      <td>...</td>\n",
       "      <td>...</td>\n",
       "      <td>...</td>\n",
       "    </tr>\n",
       "    <tr>\n",
       "      <th>38098</th>\n",
       "      <td>38098</td>\n",
       "      <td>Two years back someone invited me to be the tu...</td>\n",
       "      <td>shame</td>\n",
       "    </tr>\n",
       "    <tr>\n",
       "      <th>38099</th>\n",
       "      <td>38099</td>\n",
       "      <td>I had taken the responsibility to do something...</td>\n",
       "      <td>shame</td>\n",
       "    </tr>\n",
       "    <tr>\n",
       "      <th>38100</th>\n",
       "      <td>38100</td>\n",
       "      <td>I was at home and I heard a loud sound of spit...</td>\n",
       "      <td>fear</td>\n",
       "    </tr>\n",
       "    <tr>\n",
       "      <th>38101</th>\n",
       "      <td>38101</td>\n",
       "      <td>I did not do the homework that the teacher had...</td>\n",
       "      <td>guilt</td>\n",
       "    </tr>\n",
       "    <tr>\n",
       "      <th>38102</th>\n",
       "      <td>38102</td>\n",
       "      <td>I had shouted at my younger brother and he was...</td>\n",
       "      <td>fear</td>\n",
       "    </tr>\n",
       "  </tbody>\n",
       "</table>\n",
       "<p>38103 rows × 3 columns</p>\n",
       "</div>"
      ],
      "text/plain": [
       "       Unnamed: 0                                               text  \\\n",
       "0               0                     WHY THE FUCK IS BAYLESS ISOING   \n",
       "1               1                        To make her feel threatened   \n",
       "2               2                             Dirty Southern Wankers   \n",
       "3               3  OmG pEyToN iSn'T gOoD eNoUgH tO hElP uS iN tHe...   \n",
       "4               4  Yes I heard abt the f bombs! That has to be wh...   \n",
       "...           ...                                                ...   \n",
       "38098       38098  Two years back someone invited me to be the tu...   \n",
       "38099       38099  I had taken the responsibility to do something...   \n",
       "38100       38100  I was at home and I heard a loud sound of spit...   \n",
       "38101       38101  I did not do the homework that the teacher had...   \n",
       "38102       38102  I had shouted at my younger brother and he was...   \n",
       "\n",
       "         emotion  \n",
       "0          anger  \n",
       "1           fear  \n",
       "2          anger  \n",
       "3       surprise  \n",
       "4      gratitude  \n",
       "...          ...  \n",
       "38098      shame  \n",
       "38099      shame  \n",
       "38100       fear  \n",
       "38101      guilt  \n",
       "38102       fear  \n",
       "\n",
       "[38103 rows x 3 columns]"
      ]
     },
     "execution_count": 3,
     "metadata": {},
     "output_type": "execute_result"
    }
   ],
   "source": [
    "combined_df"
   ]
  },
  {
   "cell_type": "code",
   "execution_count": 46,
   "id": "906f2fcb-2fcf-494b-8420-1fba0347efcd",
   "metadata": {
    "execution": {
     "iopub.execute_input": "2025-06-03T23:47:25.070417Z",
     "iopub.status.busy": "2025-06-03T23:47:25.070131Z",
     "iopub.status.idle": "2025-06-03T23:47:25.075663Z",
     "shell.execute_reply": "2025-06-03T23:47:25.074717Z",
     "shell.execute_reply.started": "2025-06-03T23:47:25.070400Z"
    },
    "trusted": true
   },
   "outputs": [],
   "source": [
    "# Plot the distribution\n",
    "def plot_distribution(counts, title):\n",
    "    plt.figure(figsize=(12, 6))\n",
    "    sns.barplot(x=counts.index, y=counts.values)\n",
    "    plt.title(title)\n",
    "    plt.ylabel('Count')\n",
    "    plt.xticks(rotation=45)\n",
    "    plt.tight_layout()\n",
    "    plt.show()"
   ]
  },
  {
   "cell_type": "code",
   "execution_count": 17,
   "id": "f96053f4-3f8d-41a8-b967-20a36b53f491",
   "metadata": {
    "execution": {
     "iopub.execute_input": "2025-05-28T06:24:57.181042Z",
     "iopub.status.busy": "2025-05-28T06:24:57.180349Z",
     "iopub.status.idle": "2025-05-28T06:24:57.420307Z",
     "shell.execute_reply": "2025-05-28T06:24:57.419506Z",
     "shell.execute_reply.started": "2025-05-28T06:24:57.181018Z"
    },
    "trusted": true
   },
   "outputs": [
    {
     "data": {
      "image/png": "[encoded data removed]",
      "text/plain": [
       "<Figure size 1200x600 with 1 Axes>"
      ]
     },
     "metadata": {},
     "output_type": "display_data"
    }
   ],
   "source": [
    "plot_distribution(emotion_counts, title=\"Emotion Distribution in Combined Dataset\")"
   ]
  },
  {
   "cell_type": "markdown",
   "id": "243274b4-097e-4c0e-8433-52ffd060142c",
   "metadata": {},
   "source": [
    "## Handling Class Imbalance\n",
    "For now, let's cap the maximum samples per class to avoid extreme imbalance"
   ]
  },
  {
   "cell_type": "code",
   "execution_count": 22,
   "id": "73ac36a4-d4fb-48dd-a353-aefb8c6cf66c",
   "metadata": {
    "execution": {
     "iopub.execute_input": "2025-05-28T06:01:20.031193Z",
     "iopub.status.busy": "2025-05-28T06:01:20.030528Z",
     "iopub.status.idle": "2025-05-28T06:01:20.364910Z",
     "shell.execute_reply": "2025-05-28T06:01:20.363920Z",
     "shell.execute_reply.started": "2025-05-28T06:01:20.031164Z"
    },
    "trusted": true
   },
   "outputs": [
    {
     "name": "stdout",
     "output_type": "stream",
     "text": [
      "Balanced dataset size: 34851 examples.\n",
      "\n",
      "Balanced emotion distribution:\n",
      "emotion\n",
      "love         5000\n",
      "joy          5000\n",
      "anger        4764\n",
      "gratitude    4692\n",
      "surprise     4489\n",
      "disgust      3297\n",
      "sadness      3049\n",
      "fear         1586\n",
      "guilt        1454\n",
      "shame        1319\n",
      "anxiety       105\n",
      "relief         96\n",
      "Name: count, dtype: int64\n"
     ]
    },
    {
     "data": {
      "image/png": "[encoded data removed]",
      "text/plain": [
       "<Figure size 1200x600 with 1 Axes>"
      ]
     },
     "metadata": {},
     "output_type": "display_data"
    }
   ],
   "source": [
    "max_samples_per_class = 5000\n",
    "balanced_data = []\n",
    "\n",
    "for emotion in TARGET_EMOTIONS:\n",
    "    samples = df[df[\"emotion\"] == emotion]\n",
    "    if len(samples) > max_samples_per_class:\n",
    "        samples = samples.sample(max_samples_per_class, random_state=42)\n",
    "    balanced_data.append(samples)\n",
    "\n",
    "balanced_df = pd.concat(balanced_data)\n",
    "balanced_df = balanced_df.sample(frac=1, random_state=42).reset_index(drop=True)  # Shuffle\n",
    "\n",
    "balanced_emotion_counts = balanced_df[\"emotion\"].value_counts()\n",
    "\n",
    "print(f\"Balanced dataset size: {len(balanced_df)} examples.\")\n",
    "\n",
    "print(\"\\nBalanced emotion distribution:\")\n",
    "print(balanced_emotion_counts)\n",
    "plot_distribution(balanced_emotion_counts, title=\"Emotion Distribution in Blanced Dataset\")"
   ]
  },
  {
   "cell_type": "code",
   "execution_count": 22,
   "id": "e5146a1d-edf3-4a6c-b3c0-885b9afc0ed9",
   "metadata": {
    "execution": {
     "iopub.execute_input": "2025-05-28T06:26:32.484502Z",
     "iopub.status.busy": "2025-05-28T06:26:32.483827Z",
     "iopub.status.idle": "2025-05-28T06:26:32.542688Z",
     "shell.execute_reply": "2025-05-28T06:26:32.542046Z",
     "shell.execute_reply.started": "2025-05-28T06:26:32.484471Z"
    },
    "trusted": true
   },
   "outputs": [
    {
     "name": "stdout",
     "output_type": "stream",
     "text": [
      "Training set: 26672 examples\n",
      "Validation set: 5715 examples\n",
      "Test set: 5716 examples\n",
      "\n",
      "Emotion distribution in train set:\n",
      "emotion\n",
      "love         0.188212\n",
      "joy          0.159568\n",
      "anger        0.125037\n",
      "gratitude    0.123163\n",
      "surprise     0.117801\n",
      "disgust      0.086533\n",
      "sadness      0.080009\n",
      "fear         0.041617\n",
      "guilt        0.038167\n",
      "shame        0.034606\n",
      "anxiety      0.002774\n",
      "relief       0.002512\n",
      "Name: proportion, dtype: float64\n",
      "\n",
      "Emotion distribution in validation set:\n",
      "emotion\n",
      "love         0.188276\n",
      "joy          0.159580\n",
      "anger        0.124934\n",
      "gratitude    0.123010\n",
      "surprise     0.117760\n",
      "disgust      0.086439\n",
      "sadness      0.080140\n",
      "fear         0.041645\n",
      "guilt        0.038145\n",
      "shame        0.034646\n",
      "anxiety      0.002800\n",
      "relief       0.002625\n",
      "Name: proportion, dtype: float64\n",
      "\n",
      "Emotion distribution in test set:\n",
      "emotion\n",
      "love         0.188244\n",
      "joy          0.159552\n",
      "anger        0.125087\n",
      "gratitude    0.123163\n",
      "surprise     0.117915\n",
      "disgust      0.086599\n",
      "sadness      0.079951\n",
      "fear         0.041638\n",
      "guilt        0.038139\n",
      "shame        0.034640\n",
      "anxiety      0.002624\n",
      "relief       0.002449\n",
      "Name: proportion, dtype: float64\n"
     ]
    }
   ],
   "source": [
    "# Split into train, validation, and test sets\n",
    "train_df, temp_df = train_test_split(combined_df, test_size=0.3, stratify=combined_df[\"emotion\"], random_state=42)\n",
    "val_df, test_df = train_test_split(temp_df, test_size=0.5, stratify=temp_df[\"emotion\"], random_state=42)\n",
    "\n",
    "print(f\"Training set: {len(train_df)} examples\")\n",
    "print(f\"Validation set: {len(val_df)} examples\")\n",
    "print(f\"Test set: {len(test_df)} examples\")\n",
    "\n",
    "# Verify distribution in splits\n",
    "print(\"\\nEmotion distribution in train set:\")\n",
    "print(train_df[\"emotion\"].value_counts(normalize=True))\n",
    "\n",
    "print(\"\\nEmotion distribution in validation set:\")\n",
    "print(val_df[\"emotion\"].value_counts(normalize=True))\n",
    "print(\"\\nEmotion distribution in test set:\")\n",
    "print(test_df[\"emotion\"].value_counts(normalize=True))"
   ]
  },
  {
   "cell_type": "code",
   "execution_count": 4,
   "id": "16a76e7a-0993-455d-87a1-c1a73c38aef3",
   "metadata": {
    "execution": {
     "iopub.execute_input": "2025-06-03T22:49:18.343796Z",
     "iopub.status.busy": "2025-06-03T22:49:18.343509Z",
     "iopub.status.idle": "2025-06-03T22:49:18.349450Z",
     "shell.execute_reply": "2025-06-03T22:49:18.348626Z",
     "shell.execute_reply.started": "2025-06-03T22:49:18.343775Z"
    },
    "trusted": true
   },
   "outputs": [],
   "source": [
    "# Define the mapping from basic emotions to women's health specific emotions\n",
    "EMOTION_MAPPING = {\n",
    "    \"joy\": [\"Improved mood\", \"Hopefulness\", \"Renewed energy\", \"Optimism\", \n",
    "            \"Productivity\", \"Clarity\", \"Confidence\", \"High energy\", \n",
    "            \"Sociability\", \"Empowerment\", \"Motivation\"],\n",
    "    \n",
    "    \"sadness\": [\"Sadness\", \"Tearfulness\", \"Low self-esteem\", \n",
    "                \"Loneliness or Isolation\", \"Feeling overwhelmed\"],\n",
    "    \n",
    "    \"anger\": [\"Anger or frustration\", \"Irritability\", \"Mood swings\"],\n",
    "    \n",
    "    \"fear\": [\"Anxiety\", \"Sensitivity to rejection\", \"Feeling overwhelmed\"],\n",
    "    \n",
    "    \"anxiety\": [\"Anxiety\", \"Restlessness\", \"Feeling overwhelmed\", \n",
    "                \"Emotional sensitivity\", \"Physical discomfort\"],\n",
    "    \n",
    "    \"shame\": [\"Low self-esteem\", \"Sensitivity to rejection\", \n",
    "              \"Loneliness or Isolation\"],\n",
    "    \n",
    "    \"guilt\": [\"Low self-esteem\", \"Feeling overwhelmed\", \"Anxiety\"],\n",
    "    \n",
    "    \"love\": [\"Attractiveness\", \"Empowerment\", \"Sexual drive\", \n",
    "             \"Confidence\", \"Sociability\"],\n",
    "    \n",
    "    \"gratitude\": [\"Improved mood\", \"Hopefulness\", \"Optimism\", \n",
    "                  \"Feeling in control\"],\n",
    "    \n",
    "    \"relief\": [\"Clarity\", \"Feeling in control\", \"Renewed energy\", \n",
    "               \"Improved mood\"],\n",
    "    \n",
    "    \"surprise\": [\"Mood swings\", \"Emotional sensitivity\"],\n",
    "    \n",
    "    \"disgust\": [\"Physical discomfort\", \"Low self-esteem\", \"Irritability\"]\n",
    "}"
   ]
  },
  {
   "cell_type": "code",
   "execution_count": 5,
   "id": "4d17dce1-0f02-4ea0-b90b-6dce536c503f",
   "metadata": {
    "execution": {
     "iopub.execute_input": "2025-06-03T22:49:20.485360Z",
     "iopub.status.busy": "2025-06-03T22:49:20.485071Z",
     "iopub.status.idle": "2025-06-03T22:49:20.489814Z",
     "shell.execute_reply": "2025-06-03T22:49:20.488959Z",
     "shell.execute_reply.started": "2025-06-03T22:49:20.485336Z"
    },
    "trusted": true
   },
   "outputs": [],
   "source": [
    "# Create reverse mapping for easier lookup\n",
    "REVERSE_EMOTION_MAPPING = {}\n",
    "for basic_emotion, specific_emotions in EMOTION_MAPPING.items():\n",
    "    for specific_emotion in specific_emotions:\n",
    "        if specific_emotion not in REVERSE_EMOTION_MAPPING:\n",
    "            REVERSE_EMOTION_MAPPING[specific_emotion] = []\n",
    "        REVERSE_EMOTION_MAPPING[specific_emotion].append(basic_emotion)"
   ]
  },
  {
   "cell_type": "code",
   "execution_count": 18,
   "id": "4be2f469-02dc-4860-bab6-906eedffbf3d",
   "metadata": {
    "execution": {
     "iopub.execute_input": "2025-06-03T23:18:50.496221Z",
     "iopub.status.busy": "2025-06-03T23:18:50.495966Z",
     "iopub.status.idle": "2025-06-03T23:18:50.502568Z",
     "shell.execute_reply": "2025-06-03T23:18:50.501834Z",
     "shell.execute_reply.started": "2025-06-03T23:18:50.496203Z"
    },
    "trusted": true
   },
   "outputs": [
    {
     "data": {
      "text/plain": [
       "['Anger or frustration',\n",
       " 'Anxiety',\n",
       " 'Attractiveness',\n",
       " 'Clarity',\n",
       " 'Confidence',\n",
       " 'Emotional sensitivity',\n",
       " 'Empowerment',\n",
       " 'Feeling in control',\n",
       " 'Feeling overwhelmed',\n",
       " 'High energy',\n",
       " 'Hopefulness',\n",
       " 'Improved mood',\n",
       " 'Irritability',\n",
       " 'Loneliness or Isolation',\n",
       " 'Low self-esteem',\n",
       " 'Mood swings',\n",
       " 'Motivation',\n",
       " 'Optimism',\n",
       " 'Physical discomfort',\n",
       " 'Productivity',\n",
       " 'Renewed energy',\n",
       " 'Restlessness',\n",
       " 'Sadness',\n",
       " 'Sensitivity to rejection',\n",
       " 'Sexual drive',\n",
       " 'Sociability',\n",
       " 'Tearfulness']"
      ]
     },
     "execution_count": 18,
     "metadata": {},
     "output_type": "execute_result"
    }
   ],
   "source": [
    "all_wh_emotions = sorted(list(set(\n",
    "        emotion for emotions in EMOTION_MAPPING.values() \n",
    "        for emotion in emotions\n",
    "    )))\n",
    "all_wh_emotions"
   ]
  },
  {
   "cell_type": "code",
   "execution_count": 27,
   "id": "563e92d7-8c15-4c5c-a5c2-c9a3852b20ef",
   "metadata": {
    "execution": {
     "iopub.execute_input": "2025-06-03T23:30:37.023946Z",
     "iopub.status.busy": "2025-06-03T23:30:37.023683Z",
     "iopub.status.idle": "2025-06-03T23:30:37.030485Z",
     "shell.execute_reply": "2025-06-03T23:30:37.029089Z",
     "shell.execute_reply.started": "2025-06-03T23:30:37.023929Z"
    },
    "trusted": true
   },
   "outputs": [],
   "source": [
    "def transform_basic_to_multilabel(df: pd.DataFrame) -> pd.DataFrame:\n",
    "    \"\"\"\n",
    "    Transform single-label basic emotions to multi-label women's health emotions\n",
    "    \"\"\"\n",
    "    transformed_data = []\n",
    "\n",
    "    # Get all unique women's health emotions\n",
    "    all_wh_emotions = sorted(list(set(\n",
    "        emotion for emotions in EMOTION_MAPPING.values() \n",
    "        for emotion in emotions\n",
    "    )))\n",
    "    \n",
    "    for idx, row in df.iterrows():\n",
    "        text = row['text']\n",
    "        basic_emotion = row['emotion']\n",
    "        \n",
    "        # Create multi-label representation initialized to 0\n",
    "        emotion_labels = {emotion: 0 for emotion in all_wh_emotions}\n",
    "        \n",
    "        # Get mapped emotions for this basic emotion\n",
    "        if basic_emotion in EMOTION_MAPPING:\n",
    "            wh_emotions = EMOTION_MAPPING[basic_emotion]\n",
    "            \n",
    "            # Set corresponding emotions to 1\n",
    "            for wh_emotion in wh_emotions:\n",
    "                emotion_labels[wh_emotion] = 1\n",
    "        \n",
    "        transformed_data.append({\n",
    "            'text': text,\n",
    "            'emotions': emotion_labels\n",
    "        })\n",
    "    \n",
    "    return pd.DataFrame(transformed_data)"
   ]
  },
  {
   "cell_type": "markdown",
   "id": "008f81d7-73ca-46fd-bdc9-e3f0c15261e8",
   "metadata": {},
   "source": [
    "# 1. Transform existing data"
   ]
  },
  {
   "cell_type": "code",
   "execution_count": 28,
   "id": "546abb9c-69cb-4383-b277-b2410f3d6058",
   "metadata": {
    "execution": {
     "iopub.execute_input": "2025-06-03T23:30:38.248863Z",
     "iopub.status.busy": "2025-06-03T23:30:38.248604Z",
     "iopub.status.idle": "2025-06-03T23:30:39.467661Z",
     "shell.execute_reply": "2025-06-03T23:30:39.466635Z",
     "shell.execute_reply.started": "2025-06-03T23:30:38.248845Z"
    },
    "trusted": true
   },
   "outputs": [
    {
     "name": "stdout",
     "output_type": "stream",
     "text": [
      "Transforming basic emotion data to multi-label...\n"
     ]
    }
   ],
   "source": [
    "print(\"Transforming basic emotion data to multi-label...\")\n",
    "multilabel_dataset = transform_basic_to_multilabel(combined_df)"
   ]
  },
  {
   "cell_type": "code",
   "execution_count": 29,
   "id": "8228b7a6-f7eb-4ac5-bff7-9d1f78bad226",
   "metadata": {
    "execution": {
     "iopub.execute_input": "2025-06-03T23:30:42.477153Z",
     "iopub.status.busy": "2025-06-03T23:30:42.476905Z",
     "iopub.status.idle": "2025-06-03T23:30:42.482808Z",
     "shell.execute_reply": "2025-06-03T23:30:42.481731Z",
     "shell.execute_reply.started": "2025-06-03T23:30:42.477135Z"
    },
    "trusted": true
   },
   "outputs": [
    {
     "data": {
      "text/plain": [
       "38103"
      ]
     },
     "execution_count": 29,
     "metadata": {},
     "output_type": "execute_result"
    }
   ],
   "source": [
    "len(multilabel_dataset)"
   ]
  },
  {
   "cell_type": "code",
   "execution_count": 30,
   "id": "919e44d8-0764-48b2-95a2-c77e7b832925",
   "metadata": {
    "execution": {
     "iopub.execute_input": "2025-06-03T23:30:43.354949Z",
     "iopub.status.busy": "2025-06-03T23:30:43.354716Z",
     "iopub.status.idle": "2025-06-03T23:30:43.360760Z",
     "shell.execute_reply": "2025-06-03T23:30:43.359979Z",
     "shell.execute_reply.started": "2025-06-03T23:30:43.354933Z"
    },
    "trusted": true
   },
   "outputs": [
    {
     "data": {
      "text/plain": [
       "{'Anger or frustration': 0,\n",
       " 'Anxiety': 0,\n",
       " 'Attractiveness': 1,\n",
       " 'Clarity': 0,\n",
       " 'Confidence': 1,\n",
       " 'Emotional sensitivity': 0,\n",
       " 'Empowerment': 1,\n",
       " 'Feeling in control': 0,\n",
       " 'Feeling overwhelmed': 0,\n",
       " 'High energy': 0,\n",
       " 'Hopefulness': 0,\n",
       " 'Improved mood': 0,\n",
       " 'Irritability': 0,\n",
       " 'Loneliness or Isolation': 0,\n",
       " 'Low self-esteem': 0,\n",
       " 'Mood swings': 0,\n",
       " 'Motivation': 0,\n",
       " 'Optimism': 0,\n",
       " 'Physical discomfort': 0,\n",
       " 'Productivity': 0,\n",
       " 'Renewed energy': 0,\n",
       " 'Restlessness': 0,\n",
       " 'Sadness': 0,\n",
       " 'Sensitivity to rejection': 0,\n",
       " 'Sexual drive': 1,\n",
       " 'Sociability': 1,\n",
       " 'Tearfulness': 0}"
      ]
     },
     "execution_count": 30,
     "metadata": {},
     "output_type": "execute_result"
    }
   ],
   "source": [
    "multilabel_dataset[\"emotions\"][6]"
   ]
  },
  {
   "cell_type": "code",
   "execution_count": 38,
   "id": "06f636e2-1b09-4323-885d-44042d10aa6e",
   "metadata": {
    "execution": {
     "iopub.execute_input": "2025-06-03T23:41:57.724727Z",
     "iopub.status.busy": "2025-06-03T23:41:57.724445Z",
     "iopub.status.idle": "2025-06-03T23:41:57.738534Z",
     "shell.execute_reply": "2025-06-03T23:41:57.737534Z",
     "shell.execute_reply.started": "2025-06-03T23:41:57.724709Z"
    },
    "trusted": true
   },
   "outputs": [],
   "source": [
    "import random\n",
    "from typing import Dict, List, Tuple\n",
    "\n",
    "class WomensHealthDataGenerator:\n",
    "    def __init__(self):\n",
    "        self.scenarios = self._load_scenarios()\n",
    "        self.emotion_combinations = self._define_emotion_combinations()\n",
    "    \n",
    "    def _load_scenarios(self) -> Dict[str, List[str]]:\n",
    "        \"\"\"Define scenario templates for different women's health contexts\"\"\"\n",
    "        return {\n",
    "            \"menstrual_phase\": {\n",
    "                \"follicular\": [\n",
    "                    \"I'm feeling so energetic today, like I could conquer the world! My skin is glowing and I actually want to go out tonight.\",\n",
    "                    \"Finally feeling clear-headed after last week. I'm ready to tackle that project I've been putting off.\",\n",
    "                    \"Woke up feeling optimistic about everything. Maybe it's just my hormones, but I'll take it!\"\n",
    "                ],\n",
    "                \"ovulation\": [\n",
    "                    \"Feeling incredibly confident and attractive today. Is this what they mean by ovulation glow?\",\n",
    "                    \"My energy is through the roof and I feel so social. Called three friends just to chat!\",\n",
    "                    \"Everything feels possible today. Started two new projects and signed up for that class.\"\n",
    "                ],\n",
    "                \"luteal\": [\n",
    "                    \"Why am I crying at this commercial? I know it's just PMS but these emotions feel so real.\",\n",
    "                    \"Feeling irritable and bloated. Just want to hide under a blanket with chocolate.\",\n",
    "                    \"My anxiety is through the roof today. Everything feels overwhelming and I can't focus.\"\n",
    "                ],\n",
    "                \"menstrual\": [\n",
    "                    \"Cramps are killing me and I feel so emotional. Called in sick because I just can't today.\",\n",
    "                    \"Feeling drained but also weirdly relieved that my period finally came. Time for self-care.\",\n",
    "                    \"The pain is manageable today but I'm exhausted. Grateful for a quiet day at home.\"\n",
    "                ]\n",
    "            },\n",
    "            \"life_transitions\": [\n",
    "                \"Starting this new job has me feeling anxious but also hopeful. It's scary and exciting at the same time.\",\n",
    "                \"Becoming a mom has brought so many emotions - joy, fear, overwhelming love, and complete exhaustion.\",\n",
    "                \"Going through menopause and these mood swings are intense. One moment I'm fine, the next I'm furious.\"\n",
    "            ],\n",
    "            \"relationships\": [\n",
    "                \"Had a fight with my partner and feeling so hurt and misunderstood. Why is communication so hard?\",\n",
    "                \"My best friend just gets me. After our talk, I feel supported and understood.\",\n",
    "                \"Dating in my 30s is exhausting. Feeling lonely but trying to stay hopeful.\"\n",
    "            ],\n",
    "            \"self_care\": [\n",
    "                \"Took a mental health day and already feeling more in control. Sometimes you just need to pause.\",\n",
    "                \"Finally went to therapy and feeling vulnerable but proud of myself for taking this step.\",\n",
    "                \"Started exercising again and the endorphins are real! Feeling motivated and strong.\"\n",
    "            ]\n",
    "        }\n",
    "    \n",
    "    def _define_emotion_combinations(self) -> Dict[str, List[str]]:\n",
    "        \"\"\"Define realistic emotion combinations for different scenarios\"\"\"\n",
    "        return {\n",
    "            \"pms_emotional\": [\"Mood swings\", \"Irritability\", \"Anxiety\", \"Tearfulness\", \n",
    "                            \"Emotional sensitivity\", \"Physical discomfort\"],\n",
    "            \"pms_physical\": [\"Physical discomfort\", \"Low self-esteem\", \"Irritability\", \n",
    "                           \"Feeling overwhelmed\"],\n",
    "            \"ovulation_positive\": [\"High energy\", \"Confidence\", \"Sexual drive\", \n",
    "                                 \"Attractiveness\", \"Sociability\", \"Empowerment\"],\n",
    "            \"menstrual_mixed\": [\"Physical discomfort\", \"Tearfulness\", \"Relief\", \n",
    "                              \"Feeling overwhelmed\", \"Low self-esteem\"],\n",
    "            \"stress_anxiety\": [\"Anxiety\", \"Feeling overwhelmed\", \"Restlessness\", \n",
    "                             \"Emotional sensitivity\", \"Irritability\"],\n",
    "            \"empowerment\": [\"Confidence\", \"Empowerment\", \"Motivation\", \"Clarity\", \n",
    "                          \"Feeling in control\", \"Optimism\"],\n",
    "            \"emotional_support\": [\"Gratitude\", \"Hopefulness\", \"Relief\", \n",
    "                                \"Improved mood\", \"Feeling in control\"],\n",
    "            \"loneliness\": [\"Loneliness or Isolation\", \"Sadness\", \"Low self-esteem\", \n",
    "                         \"Sensitivity to rejection\"]\n",
    "        }\n",
    "    \n",
    "    def generate_samples(self, n_samples: int = 1000) -> List[Dict]:\n",
    "        \"\"\"Generate synthetic women's health data samples\"\"\"\n",
    "        samples = []\n",
    "        \n",
    "        for _ in range(n_samples):\n",
    "            # Choose scenario category\n",
    "            category = random.choice(list(self.scenarios.keys()))\n",
    "            \n",
    "            if category == \"menstrual_phase\":\n",
    "                phase = random.choice(list(self.scenarios[category].keys()))\n",
    "                texts = self.scenarios[category][phase]\n",
    "                \n",
    "                # Select appropriate emotion combination\n",
    "                if phase == \"luteal\":\n",
    "                    emotion_combo = random.choice([\"pms_emotional\", \"pms_physical\", \"stress_anxiety\"])\n",
    "                elif phase == \"ovulation\":\n",
    "                    emotion_combo = \"ovulation_positive\"\n",
    "                elif phase == \"menstrual\":\n",
    "                    emotion_combo = \"menstrual_mixed\"\n",
    "                else:  # follicular\n",
    "                    emotion_combo = random.choice([\"empowerment\", \"emotional_support\"])\n",
    "            else:\n",
    "                texts = self.scenarios[category]\n",
    "                emotion_combo = random.choice(list(self.emotion_combinations.keys()))\n",
    "            \n",
    "            # Generate text (with variations)\n",
    "            base_text = random.choice(texts)\n",
    "            text = self._add_variations(base_text)\n",
    "            \n",
    "            # Assign emotions\n",
    "            emotions = self._assign_emotions(emotion_combo)\n",
    "            \n",
    "            samples.append({\n",
    "                'text': text,\n",
    "                'emotions': emotions\n",
    "            })\n",
    "        \n",
    "        return samples\n",
    "    \n",
    "    def _add_variations(self, text: str) -> str:\n",
    "        \"\"\"Add variations to make text more diverse\"\"\"\n",
    "        variations = [\n",
    "            (\"feeling\", random.choice([\"feeling\", \"feel\", \"experiencing\", \"going through\"])),\n",
    "            (\"today\", random.choice([\"today\", \"right now\", \"at the moment\", \"lately\"])),\n",
    "            (\"so\", random.choice([\"so\", \"really\", \"incredibly\", \"quite\", \"very\"]))\n",
    "        ]\n",
    "        \n",
    "        for original, replacement in variations:\n",
    "            if original in text and random.random() > 0.5:\n",
    "                text = text.replace(original, replacement, 1)\n",
    "        \n",
    "        return text\n",
    "    \n",
    "    def _assign_emotions(self, emotion_combo: str) -> Dict[str, int]:\n",
    "        \"\"\"Assign emotions based on combination with some randomness\"\"\"\n",
    "        all_emotions = list(REVERSE_EMOTION_MAPPING.keys())\n",
    "        emotion_labels = {emotion: 0 for emotion in all_emotions}\n",
    "        \n",
    "        # Get base emotions for this combination\n",
    "        base_emotions = self.emotion_combinations[emotion_combo]\n",
    "        \n",
    "        # Assign primary emotions (high probability)\n",
    "        for emotion in base_emotions:\n",
    "            if random.random() > 0.2:  # 80% chance\n",
    "                emotion_labels[emotion] = 1\n",
    "        \n",
    "        # Add some random secondary emotions (low probability)\n",
    "        for emotion in all_emotions:\n",
    "            if emotion not in base_emotions and random.random() > 0.95:  # 5% chance\n",
    "                emotion_labels[emotion] = 1\n",
    "        \n",
    "        return emotion_labels"
   ]
  },
  {
   "cell_type": "markdown",
   "id": "af091492-c96b-43e5-af4b-5f5ffa226dfa",
   "metadata": {},
   "source": [
    "## 2. Generate synthetic data"
   ]
  },
  {
   "cell_type": "code",
   "execution_count": 39,
   "id": "6145fa8f-7475-4aa2-881c-6ca06d06bf73",
   "metadata": {
    "execution": {
     "iopub.execute_input": "2025-06-03T23:42:00.927206Z",
     "iopub.status.busy": "2025-06-03T23:42:00.926188Z",
     "iopub.status.idle": "2025-06-03T23:42:00.974477Z",
     "shell.execute_reply": "2025-06-03T23:42:00.973446Z",
     "shell.execute_reply.started": "2025-06-03T23:42:00.927173Z"
    },
    "trusted": true
   },
   "outputs": [
    {
     "name": "stdout",
     "output_type": "stream",
     "text": [
      "Generating 5000 synthetic samples...\n"
     ]
    }
   ],
   "source": [
    "NUM_SYNTHETIC = 5000\n",
    "\n",
    "print(f\"Generating {NUM_SYNTHETIC} synthetic samples...\")\n",
    "generator = WomensHealthDataGenerator()\n",
    "synthetic_samples = generator.generate_samples(NUM_SYNTHETIC)\n",
    "synthetic_df = pd.DataFrame(synthetic_samples)"
   ]
  },
  {
   "cell_type": "code",
   "execution_count": 40,
   "id": "665eae9a-5280-4930-b6ee-4027d8fd7eaf",
   "metadata": {
    "execution": {
     "iopub.execute_input": "2025-06-03T23:42:02.444455Z",
     "iopub.status.busy": "2025-06-03T23:42:02.444130Z",
     "iopub.status.idle": "2025-06-03T23:42:02.448907Z",
     "shell.execute_reply": "2025-06-03T23:42:02.448080Z",
     "shell.execute_reply.started": "2025-06-03T23:42:02.444433Z"
    },
    "trusted": true
   },
   "outputs": [
    {
     "name": "stdout",
     "output_type": "stream",
     "text": [
      "The length of synthetic data: 5000.\n"
     ]
    }
   ],
   "source": [
    "print(f\"The length of synthetic data: {len(synthetic_df)}.\")"
   ]
  },
  {
   "cell_type": "code",
   "execution_count": 41,
   "id": "b0016f6c-447f-47e7-aa3d-0acbc1b70897",
   "metadata": {
    "execution": {
     "iopub.execute_input": "2025-06-03T23:42:02.876761Z",
     "iopub.status.busy": "2025-06-03T23:42:02.876502Z",
     "iopub.status.idle": "2025-06-03T23:42:02.885105Z",
     "shell.execute_reply": "2025-06-03T23:42:02.884573Z",
     "shell.execute_reply.started": "2025-06-03T23:42:02.876744Z"
    },
    "trusted": true
   },
   "outputs": [
    {
     "data": {
      "text/html": [
       "<div>\n",
       "<style scoped>\n",
       "    .dataframe tbody tr th:only-of-type {\n",
       "        vertical-align: middle;\n",
       "    }\n",
       "\n",
       "    .dataframe tbody tr th {\n",
       "        vertical-align: top;\n",
       "    }\n",
       "\n",
       "    .dataframe thead th {\n",
       "        text-align: right;\n",
       "    }\n",
       "</style>\n",
       "<table border=\"1\" class=\"dataframe\">\n",
       "  <thead>\n",
       "    <tr style=\"text-align: right;\">\n",
       "      <th></th>\n",
       "      <th>text</th>\n",
       "      <th>emotions</th>\n",
       "    </tr>\n",
       "  </thead>\n",
       "  <tbody>\n",
       "    <tr>\n",
       "      <th>0</th>\n",
       "      <td>Becoming a mom has brought so many emotions - ...</td>\n",
       "      <td>{'Improved mood': 0, 'Hopefulness': 0, 'Renewe...</td>\n",
       "    </tr>\n",
       "    <tr>\n",
       "      <th>1</th>\n",
       "      <td>Finally went to therapy and feel vulnerable bu...</td>\n",
       "      <td>{'Improved mood': 0, 'Hopefulness': 0, 'Renewe...</td>\n",
       "    </tr>\n",
       "    <tr>\n",
       "      <th>2</th>\n",
       "      <td>Started exercising again and the endorphins ar...</td>\n",
       "      <td>{'Improved mood': 0, 'Hopefulness': 0, 'Renewe...</td>\n",
       "    </tr>\n",
       "    <tr>\n",
       "      <th>3</th>\n",
       "      <td>Becoming a mom has brought so many emotions - ...</td>\n",
       "      <td>{'Improved mood': 0, 'Hopefulness': 0, 'Renewe...</td>\n",
       "    </tr>\n",
       "    <tr>\n",
       "      <th>4</th>\n",
       "      <td>Finally went to therapy and feel vulnerable bu...</td>\n",
       "      <td>{'Improved mood': 0, 'Hopefulness': 0, 'Renewe...</td>\n",
       "    </tr>\n",
       "  </tbody>\n",
       "</table>\n",
       "</div>"
      ],
      "text/plain": [
       "                                                text  \\\n",
       "0  Becoming a mom has brought so many emotions - ...   \n",
       "1  Finally went to therapy and feel vulnerable bu...   \n",
       "2  Started exercising again and the endorphins ar...   \n",
       "3  Becoming a mom has brought so many emotions - ...   \n",
       "4  Finally went to therapy and feel vulnerable bu...   \n",
       "\n",
       "                                            emotions  \n",
       "0  {'Improved mood': 0, 'Hopefulness': 0, 'Renewe...  \n",
       "1  {'Improved mood': 0, 'Hopefulness': 0, 'Renewe...  \n",
       "2  {'Improved mood': 0, 'Hopefulness': 0, 'Renewe...  \n",
       "3  {'Improved mood': 0, 'Hopefulness': 0, 'Renewe...  \n",
       "4  {'Improved mood': 0, 'Hopefulness': 0, 'Renewe...  "
      ]
     },
     "execution_count": 41,
     "metadata": {},
     "output_type": "execute_result"
    }
   ],
   "source": [
    "synthetic_df.head()"
   ]
  },
  {
   "cell_type": "code",
   "execution_count": 42,
   "id": "73cc73c0-19c7-490e-9cb7-89de54e5c389",
   "metadata": {
    "execution": {
     "iopub.execute_input": "2025-06-03T23:42:05.131159Z",
     "iopub.status.busy": "2025-06-03T23:42:05.130903Z",
     "iopub.status.idle": "2025-06-03T23:42:05.137507Z",
     "shell.execute_reply": "2025-06-03T23:42:05.136144Z",
     "shell.execute_reply.started": "2025-06-03T23:42:05.131140Z"
    },
    "trusted": true
   },
   "outputs": [
    {
     "data": {
      "text/plain": [
       "{'Improved mood': 1,\n",
       " 'Hopefulness': 1,\n",
       " 'Renewed energy': 0,\n",
       " 'Optimism': 0,\n",
       " 'Productivity': 0,\n",
       " 'Clarity': 0,\n",
       " 'Confidence': 0,\n",
       " 'High energy': 0,\n",
       " 'Sociability': 0,\n",
       " 'Empowerment': 0,\n",
       " 'Motivation': 0,\n",
       " 'Sadness': 0,\n",
       " 'Tearfulness': 0,\n",
       " 'Low self-esteem': 0,\n",
       " 'Loneliness or Isolation': 0,\n",
       " 'Feeling overwhelmed': 0,\n",
       " 'Anger or frustration': 1,\n",
       " 'Irritability': 0,\n",
       " 'Mood swings': 0,\n",
       " 'Anxiety': 0,\n",
       " 'Sensitivity to rejection': 0,\n",
       " 'Restlessness': 0,\n",
       " 'Emotional sensitivity': 0,\n",
       " 'Physical discomfort': 0,\n",
       " 'Attractiveness': 1,\n",
       " 'Sexual drive': 0,\n",
       " 'Feeling in control': 1,\n",
       " 'Gratitude': 1,\n",
       " 'Relief': 1}"
      ]
     },
     "execution_count": 42,
     "metadata": {},
     "output_type": "execute_result"
    }
   ],
   "source": [
    "synthetic_df[\"emotions\"][6]"
   ]
  },
  {
   "cell_type": "markdown",
   "id": "5e5bf1a8-8bed-44ec-afbf-73a99f91ad06",
   "metadata": {},
   "source": [
    "## 3. Combine datasets"
   ]
  },
  {
   "cell_type": "code",
   "execution_count": 47,
   "id": "59769477-d816-4aa6-ab57-17779960083b",
   "metadata": {
    "execution": {
     "iopub.execute_input": "2025-06-03T23:48:39.701330Z",
     "iopub.status.busy": "2025-06-03T23:48:39.701074Z",
     "iopub.status.idle": "2025-06-03T23:48:40.091462Z",
     "shell.execute_reply": "2025-06-03T23:48:40.090789Z",
     "shell.execute_reply.started": "2025-06-03T23:48:39.701288Z"
    },
    "trusted": true
   },
   "outputs": [
    {
     "name": "stdout",
     "output_type": "stream",
     "text": [
      "Final dataset size: 43103\n"
     ]
    }
   ],
   "source": [
    "final_df = pd.concat([transformed_df, synthetic_df], ignore_index=True)\n",
    "\n",
    "# Convert emotion dict to separate columns\n",
    "emotion_columns = list(REVERSE_EMOTION_MAPPING.keys())\n",
    "for emotion in emotion_columns:\n",
    "    final_df[emotion] = final_df['emotions'].apply(lambda x: x[emotion])\n",
    "\n",
    "# 5. Add metadata\n",
    "final_df['total_emotions'] = final_df[emotion_columns].sum(axis=1)\n",
    "final_df['primary_emotion'] = final_df[emotion_columns].idxmax(axis=1)\n",
    "\n",
    "print(f\"Final dataset size: {len(final_df)}\")"
   ]
  },
  {
   "cell_type": "code",
   "execution_count": 3,
   "id": "8e82d390-9588-453f-91fa-7b8175caa094",
   "metadata": {
    "execution": {
     "iopub.execute_input": "2025-06-04T00:40:55.824021Z",
     "iopub.status.busy": "2025-06-04T00:40:55.823711Z",
     "iopub.status.idle": "2025-06-04T00:40:55.855011Z",
     "shell.execute_reply": "2025-06-04T00:40:55.854262Z",
     "shell.execute_reply.started": "2025-06-04T00:40:55.823993Z"
    },
    "trusted": true
   },
   "outputs": [
    {
     "data": {
      "text/html": [
       "<div>\n",
       "<style scoped>\n",
       "    .dataframe tbody tr th:only-of-type {\n",
       "        vertical-align: middle;\n",
       "    }\n",
       "\n",
       "    .dataframe tbody tr th {\n",
       "        vertical-align: top;\n",
       "    }\n",
       "\n",
       "    .dataframe thead th {\n",
       "        text-align: right;\n",
       "    }\n",
       "</style>\n",
       "<table border=\"1\" class=\"dataframe\">\n",
       "  <thead>\n",
       "    <tr style=\"text-align: right;\">\n",
       "      <th></th>\n",
       "      <th>Unnamed: 0</th>\n",
       "      <th>text</th>\n",
       "      <th>emotions</th>\n",
       "      <th>Improved mood</th>\n",
       "      <th>Hopefulness</th>\n",
       "      <th>Renewed energy</th>\n",
       "      <th>Optimism</th>\n",
       "      <th>Productivity</th>\n",
       "      <th>Clarity</th>\n",
       "      <th>Confidence</th>\n",
       "      <th>...</th>\n",
       "      <th>Anxiety</th>\n",
       "      <th>Sensitivity to rejection</th>\n",
       "      <th>Restlessness</th>\n",
       "      <th>Emotional sensitivity</th>\n",
       "      <th>Physical discomfort</th>\n",
       "      <th>Attractiveness</th>\n",
       "      <th>Sexual drive</th>\n",
       "      <th>Feeling in control</th>\n",
       "      <th>total_emotions</th>\n",
       "      <th>primary_emotion</th>\n",
       "    </tr>\n",
       "  </thead>\n",
       "  <tbody>\n",
       "    <tr>\n",
       "      <th>0</th>\n",
       "      <td>0</td>\n",
       "      <td>WHY THE FUCK IS BAYLESS ISOING</td>\n",
       "      <td>{'Improved mood': 0, 'Hopefulness': 0, 'Renewe...</td>\n",
       "      <td>0</td>\n",
       "      <td>0</td>\n",
       "      <td>0</td>\n",
       "      <td>0</td>\n",
       "      <td>0</td>\n",
       "      <td>0</td>\n",
       "      <td>0</td>\n",
       "      <td>...</td>\n",
       "      <td>0</td>\n",
       "      <td>0</td>\n",
       "      <td>0</td>\n",
       "      <td>0</td>\n",
       "      <td>0</td>\n",
       "      <td>0</td>\n",
       "      <td>0</td>\n",
       "      <td>0</td>\n",
       "      <td>1</td>\n",
       "      <td>Anger or frustration</td>\n",
       "    </tr>\n",
       "    <tr>\n",
       "      <th>1</th>\n",
       "      <td>1</td>\n",
       "      <td>To make her feel threatened</td>\n",
       "      <td>{'Improved mood': 0, 'Hopefulness': 0, 'Renewe...</td>\n",
       "      <td>0</td>\n",
       "      <td>0</td>\n",
       "      <td>0</td>\n",
       "      <td>0</td>\n",
       "      <td>0</td>\n",
       "      <td>0</td>\n",
       "      <td>0</td>\n",
       "      <td>...</td>\n",
       "      <td>1</td>\n",
       "      <td>1</td>\n",
       "      <td>0</td>\n",
       "      <td>0</td>\n",
       "      <td>0</td>\n",
       "      <td>0</td>\n",
       "      <td>0</td>\n",
       "      <td>0</td>\n",
       "      <td>3</td>\n",
       "      <td>Feeling overwhelmed</td>\n",
       "    </tr>\n",
       "    <tr>\n",
       "      <th>2</th>\n",
       "      <td>2</td>\n",
       "      <td>Dirty Southern Wankers</td>\n",
       "      <td>{'Improved mood': 0, 'Hopefulness': 0, 'Renewe...</td>\n",
       "      <td>0</td>\n",
       "      <td>0</td>\n",
       "      <td>0</td>\n",
       "      <td>0</td>\n",
       "      <td>0</td>\n",
       "      <td>0</td>\n",
       "      <td>0</td>\n",
       "      <td>...</td>\n",
       "      <td>0</td>\n",
       "      <td>0</td>\n",
       "      <td>0</td>\n",
       "      <td>0</td>\n",
       "      <td>0</td>\n",
       "      <td>0</td>\n",
       "      <td>0</td>\n",
       "      <td>0</td>\n",
       "      <td>1</td>\n",
       "      <td>Anger or frustration</td>\n",
       "    </tr>\n",
       "    <tr>\n",
       "      <th>3</th>\n",
       "      <td>3</td>\n",
       "      <td>OmG pEyToN iSn'T gOoD eNoUgH tO hElP uS iN tHe...</td>\n",
       "      <td>{'Improved mood': 0, 'Hopefulness': 0, 'Renewe...</td>\n",
       "      <td>0</td>\n",
       "      <td>0</td>\n",
       "      <td>0</td>\n",
       "      <td>0</td>\n",
       "      <td>0</td>\n",
       "      <td>0</td>\n",
       "      <td>0</td>\n",
       "      <td>...</td>\n",
       "      <td>0</td>\n",
       "      <td>0</td>\n",
       "      <td>0</td>\n",
       "      <td>1</td>\n",
       "      <td>0</td>\n",
       "      <td>0</td>\n",
       "      <td>0</td>\n",
       "      <td>0</td>\n",
       "      <td>1</td>\n",
       "      <td>Emotional sensitivity</td>\n",
       "    </tr>\n",
       "    <tr>\n",
       "      <th>4</th>\n",
       "      <td>4</td>\n",
       "      <td>Yes I heard abt the f bombs! That has to be wh...</td>\n",
       "      <td>{'Improved mood': 0, 'Hopefulness': 0, 'Renewe...</td>\n",
       "      <td>0</td>\n",
       "      <td>0</td>\n",
       "      <td>0</td>\n",
       "      <td>1</td>\n",
       "      <td>0</td>\n",
       "      <td>0</td>\n",
       "      <td>0</td>\n",
       "      <td>...</td>\n",
       "      <td>0</td>\n",
       "      <td>0</td>\n",
       "      <td>0</td>\n",
       "      <td>0</td>\n",
       "      <td>0</td>\n",
       "      <td>0</td>\n",
       "      <td>0</td>\n",
       "      <td>1</td>\n",
       "      <td>2</td>\n",
       "      <td>Optimism</td>\n",
       "    </tr>\n",
       "  </tbody>\n",
       "</table>\n",
       "<p>5 rows × 32 columns</p>\n",
       "</div>"
      ],
      "text/plain": [
       "   Unnamed: 0                                               text  \\\n",
       "0           0                     WHY THE FUCK IS BAYLESS ISOING   \n",
       "1           1                        To make her feel threatened   \n",
       "2           2                             Dirty Southern Wankers   \n",
       "3           3  OmG pEyToN iSn'T gOoD eNoUgH tO hElP uS iN tHe...   \n",
       "4           4  Yes I heard abt the f bombs! That has to be wh...   \n",
       "\n",
       "                                            emotions  Improved mood  \\\n",
       "0  {'Improved mood': 0, 'Hopefulness': 0, 'Renewe...              0   \n",
       "1  {'Improved mood': 0, 'Hopefulness': 0, 'Renewe...              0   \n",
       "2  {'Improved mood': 0, 'Hopefulness': 0, 'Renewe...              0   \n",
       "3  {'Improved mood': 0, 'Hopefulness': 0, 'Renewe...              0   \n",
       "4  {'Improved mood': 0, 'Hopefulness': 0, 'Renewe...              0   \n",
       "\n",
       "   Hopefulness  Renewed energy  Optimism  Productivity  Clarity  Confidence  \\\n",
       "0            0               0         0             0        0           0   \n",
       "1            0               0         0             0        0           0   \n",
       "2            0               0         0             0        0           0   \n",
       "3            0               0         0             0        0           0   \n",
       "4            0               0         1             0        0           0   \n",
       "\n",
       "   ...  Anxiety  Sensitivity to rejection  Restlessness  \\\n",
       "0  ...        0                         0             0   \n",
       "1  ...        1                         1             0   \n",
       "2  ...        0                         0             0   \n",
       "3  ...        0                         0             0   \n",
       "4  ...        0                         0             0   \n",
       "\n",
       "   Emotional sensitivity  Physical discomfort  Attractiveness  Sexual drive  \\\n",
       "0                      0                    0               0             0   \n",
       "1                      0                    0               0             0   \n",
       "2                      0                    0               0             0   \n",
       "3                      1                    0               0             0   \n",
       "4                      0                    0               0             0   \n",
       "\n",
       "   Feeling in control  total_emotions        primary_emotion  \n",
       "0                   0               1   Anger or frustration  \n",
       "1                   0               3    Feeling overwhelmed  \n",
       "2                   0               1   Anger or frustration  \n",
       "3                   0               1  Emotional sensitivity  \n",
       "4                   1               2               Optimism  \n",
       "\n",
       "[5 rows x 32 columns]"
      ]
     },
     "execution_count": 3,
     "metadata": {},
     "output_type": "execute_result"
    }
   ],
   "source": [
    "final_df.head()"
   ]
  },
  {
   "cell_type": "code",
   "execution_count": 52,
   "id": "2e6a7b35-ffb7-45c5-9f0b-2d92bdbced60",
   "metadata": {
    "execution": {
     "iopub.execute_input": "2025-06-04T00:00:15.526372Z",
     "iopub.status.busy": "2025-06-04T00:00:15.526080Z",
     "iopub.status.idle": "2025-06-04T00:00:15.531068Z",
     "shell.execute_reply": "2025-06-04T00:00:15.530140Z",
     "shell.execute_reply.started": "2025-06-04T00:00:15.526354Z"
    },
    "trusted": true
   },
   "outputs": [],
   "source": [
    "# Plot the distribution\n",
    "def plot_distribution(counts, title):\n",
    "    plt.figure(figsize=(12, 6))\n",
    "    sns.barplot(x=counts.index, y=counts.values)\n",
    "    plt.title(title)\n",
    "    plt.ylabel('Count')\n",
    "    plt.xticks(rotation=60, ha='right')\n",
    "    plt.tight_layout()\n",
    "    plt.show()"
   ]
  },
  {
   "cell_type": "code",
   "execution_count": 51,
   "id": "a8792baf-0981-49c4-8c7d-1a04e5a09851",
   "metadata": {
    "execution": {
     "iopub.execute_input": "2025-06-03T23:54:40.157423Z",
     "iopub.status.busy": "2025-06-03T23:54:40.157138Z",
     "iopub.status.idle": "2025-06-03T23:54:40.170775Z",
     "shell.execute_reply": "2025-06-03T23:54:40.170006Z",
     "shell.execute_reply.started": "2025-06-03T23:54:40.157406Z"
    },
    "trusted": true
   },
   "outputs": [
    {
     "name": "stdout",
     "output_type": "stream",
     "text": [
      "Emotion distribution:\n",
      "Empowerment                 9315\n",
      "Confidence                  9247\n",
      "Sociability                 8786\n",
      "Optimism                    7178\n",
      "Improved mood               7162\n",
      "Hopefulness                 7127\n",
      "Low self-esteem             7052\n",
      "Irritability                6383\n",
      "Mood swings                 6213\n",
      "Feeling overwhelmed         5426\n",
      "Attractiveness              5148\n",
      "Sexual drive                5125\n",
      "High energy                 4525\n",
      "Clarity                     4454\n",
      "Motivation                  4372\n",
      "Feeling in control          4033\n",
      "Renewed energy              3941\n",
      "Emotional sensitivity       3870\n",
      "Productivity                3851\n",
      "Physical discomfort         3703\n",
      "Loneliness or Isolation     3240\n",
      "Tearfulness                 3145\n",
      "Anger or frustration        3095\n",
      "Anxiety                     3022\n",
      "Sadness                     2416\n",
      "Sensitivity to rejection    2352\n",
      "Restlessness                 783\n",
      "dtype: int64\n"
     ]
    }
   ],
   "source": [
    "final_emotions_count = final_df[emotion_columns].sum().sort_values(ascending=False)\n",
    "print(f\"Emotion distribution:\\n{final_emotions_count}\")"
   ]
  },
  {
   "cell_type": "code",
   "execution_count": 53,
   "id": "a57df324-d606-4ab4-926b-7606995dcd73",
   "metadata": {
    "execution": {
     "iopub.execute_input": "2025-06-04T00:00:21.033903Z",
     "iopub.status.busy": "2025-06-04T00:00:21.033631Z",
     "iopub.status.idle": "2025-06-04T00:00:21.311076Z",
     "shell.execute_reply": "2025-06-04T00:00:21.310262Z",
     "shell.execute_reply.started": "2025-06-04T00:00:21.033885Z"
    },
    "trusted": true
   },
   "outputs": [
    {
     "data": {
      "image/png": "[encoded data removed]",
      "text/plain": [
       "<Figure size 1200x600 with 1 Axes>"
      ]
     },
     "metadata": {},
     "output_type": "display_data"
    }
   ],
   "source": [
    "plot_distribution(final_emotions_count, title=\"Emotion Distribution in Final Dataset\")"
   ]
  },
  {
   "cell_type": "code",
   "execution_count": 54,
   "id": "505a0a3e-547c-4fa1-92a1-7a2b620665ef",
   "metadata": {
    "execution": {
     "iopub.execute_input": "2025-06-04T00:14:40.665580Z",
     "iopub.status.busy": "2025-06-04T00:14:40.665274Z",
     "iopub.status.idle": "2025-06-04T00:14:41.389011Z",
     "shell.execute_reply": "2025-06-04T00:14:41.388203Z",
     "shell.execute_reply.started": "2025-06-04T00:14:40.665558Z"
    },
    "trusted": true
   },
   "outputs": [],
   "source": [
    "final_df.to_csv(\"final_emotions_data.csv\")"
   ]
  },
  {
   "cell_type": "code",
   "execution_count": 2,
   "id": "f1231753-d598-4abe-a5e8-dd621397bc40",
   "metadata": {
    "execution": {
     "iopub.execute_input": "2025-06-04T00:40:44.389002Z",
     "iopub.status.busy": "2025-06-04T00:40:44.388318Z",
     "iopub.status.idle": "2025-06-04T00:40:44.762252Z",
     "shell.execute_reply": "2025-06-04T00:40:44.761611Z",
     "shell.execute_reply.started": "2025-06-04T00:40:44.388977Z"
    },
    "trusted": true
   },
   "outputs": [],
   "source": [
    "final_df = pd.read_csv(\"final_emotions_data.csv\")"
   ]
  },
  {
   "cell_type": "code",
   "execution_count": 57,
   "id": "2c2c1cc7-66aa-41ee-973a-01e4e73c5129",
   "metadata": {
    "execution": {
     "iopub.execute_input": "2025-06-04T00:23:38.589271Z",
     "iopub.status.busy": "2025-06-04T00:23:38.589035Z",
     "iopub.status.idle": "2025-06-04T00:23:38.595038Z",
     "shell.execute_reply": "2025-06-04T00:23:38.594048Z",
     "shell.execute_reply.started": "2025-06-04T00:23:38.589253Z"
    },
    "trusted": true
   },
   "outputs": [
    {
     "data": {
      "text/plain": [
       "['Anger or frustration',\n",
       " 'Anxiety',\n",
       " 'Attractiveness',\n",
       " 'Clarity',\n",
       " 'Confidence',\n",
       " 'Emotional sensitivity',\n",
       " 'Empowerment',\n",
       " 'Feeling in control',\n",
       " 'Feeling overwhelmed',\n",
       " 'High energy',\n",
       " 'Hopefulness',\n",
       " 'Improved mood',\n",
       " 'Irritability',\n",
       " 'Loneliness or Isolation',\n",
       " 'Low self-esteem',\n",
       " 'Mood swings',\n",
       " 'Motivation',\n",
       " 'Optimism',\n",
       " 'Physical discomfort',\n",
       " 'Productivity',\n",
       " 'Renewed energy',\n",
       " 'Restlessness',\n",
       " 'Sadness',\n",
       " 'Sensitivity to rejection',\n",
       " 'Sexual drive',\n",
       " 'Sociability',\n",
       " 'Tearfulness']"
      ]
     },
     "execution_count": 57,
     "metadata": {},
     "output_type": "execute_result"
    }
   ],
   "source": [
    "all_emotions = sorted(list(set(\n",
    "        emotion for emotions in EMOTION_MAPPING.values() \n",
    "        for emotion in emotions\n",
    "    )))\n",
    "all_emotions"
   ]
  },
  {
   "cell_type": "code",
   "execution_count": 58,
   "id": "ef049537-fa7e-465e-b2b8-418460cd89d1",
   "metadata": {
    "execution": {
     "iopub.execute_input": "2025-06-04T00:24:03.402578Z",
     "iopub.status.busy": "2025-06-04T00:24:03.402259Z",
     "iopub.status.idle": "2025-06-04T00:24:03.416323Z",
     "shell.execute_reply": "2025-06-04T00:24:03.415327Z",
     "shell.execute_reply.started": "2025-06-04T00:24:03.402555Z"
    },
    "trusted": true
   },
   "outputs": [
    {
     "data": {
      "text/plain": [
       "array([[1, 0, 0, ..., 0, 0, 0],\n",
       "       [0, 1, 0, ..., 0, 0, 0],\n",
       "       [1, 0, 0, ..., 0, 0, 0],\n",
       "       ...,\n",
       "       [0, 0, 0, ..., 0, 0, 0],\n",
       "       [0, 0, 0, ..., 0, 0, 0],\n",
       "       [0, 0, 0, ..., 0, 0, 0]])"
      ]
     },
     "execution_count": 58,
     "metadata": {},
     "output_type": "execute_result"
    }
   ],
   "source": [
    "labels = final_df[all_emotions].values\n",
    "labels"
   ]
  },
  {
   "cell_type": "markdown",
   "id": "be8ef7e9-ddac-4256-9710-6f8029c73158",
   "metadata": {},
   "source": [
    "## Initialize Training and Evaluation Pipeline"
   ]
  },
  {
   "cell_type": "code",
   "execution_count": 12,
   "id": "f18383e0-fe0c-447c-8ee9-9d1431bcf1e0",
   "metadata": {
    "execution": {
     "iopub.execute_input": "2025-06-04T00:48:25.939857Z",
     "iopub.status.busy": "2025-06-04T00:48:25.939107Z",
     "iopub.status.idle": "2025-06-04T00:48:25.944662Z",
     "shell.execute_reply": "2025-06-04T00:48:25.943860Z",
     "shell.execute_reply.started": "2025-06-04T00:48:25.939826Z"
    },
    "trusted": true
   },
   "outputs": [],
   "source": [
    "import torch\n",
    "from torch.utils.data import Dataset, DataLoader\n",
    "from transformers import AutoTokenizer\n",
    "import pandas as pd\n",
    "import numpy as np\n",
    "from typing import Dict, List, Tuple\n",
    "from sklearn.model_selection import train_test_split"
   ]
  },
  {
   "cell_type": "markdown",
   "id": "9774f9c7-275d-49a0-b82f-7675a3a24716",
   "metadata": {},
   "source": [
    "## Custom Torch Dataset Class for Emotions"
   ]
  },
  {
   "cell_type": "code",
   "execution_count": 15,
   "id": "ef0f7a0c-2f9e-4f87-a994-059c5a754195",
   "metadata": {
    "execution": {
     "iopub.execute_input": "2025-06-04T00:49:20.873090Z",
     "iopub.status.busy": "2025-06-04T00:49:20.872561Z",
     "iopub.status.idle": "2025-06-04T00:49:20.878304Z",
     "shell.execute_reply": "2025-06-04T00:49:20.877645Z",
     "shell.execute_reply.started": "2025-06-04T00:49:20.873070Z"
    },
    "trusted": true
   },
   "outputs": [],
   "source": [
    "class EmotionDataset(Dataset):\n",
    "    def __init__(self, texts: List[str], labels: np.ndarray, tokenizer, max_length: int = 256):\n",
    "        self.texts = texts\n",
    "        self.labels = labels\n",
    "        self.tokenizer = tokenizer\n",
    "        self.max_length = max_length\n",
    "    \n",
    "    def __len__(self):\n",
    "        return len(self.texts)\n",
    "    \n",
    "    def __getitem__(self, idx):\n",
    "        text = self.texts[idx]\n",
    "        labels = self.labels[idx]\n",
    "        \n",
    "        # Tokenize text\n",
    "        encoding = self.tokenizer(\n",
    "            text,\n",
    "            truncation=True,\n",
    "            padding='max_length',\n",
    "            max_length=self.max_length,\n",
    "            return_tensors='pt'\n",
    "        )\n",
    "        \n",
    "        return {\n",
    "            'input_ids': encoding['input_ids'].flatten(),\n",
    "            'attention_mask': encoding['attention_mask'].flatten(),\n",
    "            'labels': torch.FloatTensor(labels)\n",
    "        }"
   ]
  },
  {
   "cell_type": "markdown",
   "id": "12c47491-9446-4318-9239-b6470d8628e4",
   "metadata": {},
   "source": [
    "## Prepare the DataLoaders"
   ]
  },
  {
   "cell_type": "code",
   "execution_count": 16,
   "id": "63c6a14e-0ccf-4afa-bc34-1f709c8ae47d",
   "metadata": {
    "execution": {
     "iopub.execute_input": "2025-06-04T00:49:24.829910Z",
     "iopub.status.busy": "2025-06-04T00:49:24.829228Z",
     "iopub.status.idle": "2025-06-04T00:49:24.836157Z",
     "shell.execute_reply": "2025-06-04T00:49:24.835374Z",
     "shell.execute_reply.started": "2025-06-04T00:49:24.829890Z"
    },
    "trusted": true
   },
   "outputs": [],
   "source": [
    "def prepare_data_loaders(df: pd.DataFrame, tokenizer, emotion_columns: List[str], \n",
    "                        batch_size: int = 16, test_size: float = 0.2, val_size: float = 0.1):\n",
    "    \"\"\"\n",
    "    Prepare train, validation, and test data loaders\n",
    "    \"\"\"\n",
    "    # Extract texts and labels\n",
    "    texts = df['text'].values\n",
    "    labels = df[emotion_columns].values\n",
    "    \n",
    "    # Split data\n",
    "    X_temp, X_test, y_temp, y_test = train_test_split(\n",
    "        texts, labels, test_size=test_size, random_state=42, \n",
    "        stratify=df['basic_emotion'] if 'basic_emotion' in df.columns else None\n",
    "    )\n",
    "    \n",
    "    X_train, X_val, y_train, y_val = train_test_split(\n",
    "        X_temp, y_temp, test_size=val_size/(1-test_size), random_state=42\n",
    "    )\n",
    "    \n",
    "    # Create datasets\n",
    "    train_dataset = EmotionDataset(X_train, y_train, tokenizer)\n",
    "    val_dataset = EmotionDataset(X_val, y_val, tokenizer)\n",
    "    test_dataset = EmotionDataset(X_test, y_test, tokenizer)\n",
    "\n",
    "    print(f\"Length of Training Set:\\t\\t{len(train_dataset)}\")\n",
    "    print(f\"Length of Validation Set:\\t{len(val_dataset)}\")\n",
    "    print(f\"Length of Testing Set:\\t\\t{len(test_dataset)}\")\n",
    "    \n",
    "    # Create data loaders\n",
    "    train_loader = DataLoader(train_dataset, batch_size=batch_size, shuffle=True)\n",
    "    val_loader = DataLoader(val_dataset, batch_size=batch_size, shuffle=False)\n",
    "    test_loader = DataLoader(test_dataset, batch_size=batch_size, shuffle=False)\n",
    "\n",
    "    return train_loader, val_loader, test_loader"
   ]
  },
  {
   "cell_type": "markdown",
   "id": "ef842117-c106-4866-8326-da8ebbd47455",
   "metadata": {},
   "source": [
    "## Multi-Label Emotion Classifier"
   ]
  },
  {
   "cell_type": "code",
   "execution_count": 17,
   "id": "8a66b344-2654-4068-aa37-ee7ff7187dd1",
   "metadata": {
    "execution": {
     "iopub.execute_input": "2025-06-04T00:49:25.951141Z",
     "iopub.status.busy": "2025-06-04T00:49:25.950782Z",
     "iopub.status.idle": "2025-06-04T00:49:25.961416Z",
     "shell.execute_reply": "2025-06-04T00:49:25.960610Z",
     "shell.execute_reply.started": "2025-06-04T00:49:25.951120Z"
    },
    "trusted": true
   },
   "outputs": [],
   "source": [
    "import torch.nn as nn\n",
    "import torch.nn.functional as F\n",
    "from transformers import AutoModel\n",
    "\n",
    "class KumoraEmotionClassifier(nn.Module):\n",
    "    def __init__(self, \n",
    "                 model_name: str, \n",
    "                 num_labels: int,\n",
    "                 emotion_names: List[str],\n",
    "                 dropout: float = 0.3,\n",
    "                 use_attention: bool = True):\n",
    "        super().__init__()\n",
    "        \n",
    "        self.model_name = model_name\n",
    "        self.num_labels = num_labels\n",
    "        self.emotion_names = emotion_names\n",
    "        self.use_attention = use_attention\n",
    "        \n",
    "        # Load pre-trained transformer\n",
    "        self.transformer = AutoModel.from_pretrained(model_name)\n",
    "        self.hidden_size = self.transformer.config.hidden_size\n",
    "        \n",
    "        # Freeze early layers for efficiency (optional)\n",
    "        # for param in self.transformer.embeddings.parameters():\n",
    "        #     param.requires_grad = False\n",
    "        \n",
    "        self.dropout = nn.Dropout(dropout)\n",
    "        \n",
    "        if self.use_attention:\n",
    "            # Multi-head attention for emotion interactions\n",
    "            self.emotion_attention = nn.MultiheadAttention(\n",
    "                embed_dim=self.hidden_size,\n",
    "                num_heads=8,\n",
    "                dropout=dropout,\n",
    "                batch_first=True\n",
    "            )\n",
    "            \n",
    "            # Emotion embedding layer for attention\n",
    "            self.emotion_embeddings = nn.Embedding(num_labels, self.hidden_size)\n",
    "        \n",
    "        # Classification head with residual connections\n",
    "        self.classifier = nn.Sequential(\n",
    "            nn.Linear(self.hidden_size, 512),\n",
    "            nn.LayerNorm(512),\n",
    "            nn.ReLU(),\n",
    "            nn.Dropout(dropout),\n",
    "            nn.Linear(512, 256),\n",
    "            nn.LayerNorm(256),\n",
    "            nn.ReLU(),\n",
    "            nn.Dropout(dropout),\n",
    "            nn.Linear(256, num_labels)\n",
    "        )\n",
    "        \n",
    "        # Emotion-specific thresholds (learnable)\n",
    "        self.thresholds = nn.Parameter(torch.ones(num_labels) * 0.5)\n",
    "    \n",
    "    def forward(self, input_ids, attention_mask, return_attention=False):\n",
    "        # Get transformer outputs\n",
    "        outputs = self.transformer(\n",
    "            input_ids=input_ids, \n",
    "            attention_mask=attention_mask,\n",
    "            output_hidden_states=True\n",
    "        )\n",
    "        \n",
    "        # Use pooled output from last hidden state\n",
    "        # You can also experiment with mean pooling or last 4 layers\n",
    "        pooled_output = outputs.last_hidden_state.mean(dim=1)  # Mean pooling\n",
    "        # Alternative: pooled_output = outputs.pooler_output  # CLS token\n",
    "        \n",
    "        if self.use_attention:\n",
    "            # Create emotion queries\n",
    "            emotion_indices = torch.arange(self.num_labels).to(input_ids.device)\n",
    "            emotion_queries = self.emotion_embeddings(emotion_indices)\n",
    "            emotion_queries = emotion_queries.unsqueeze(0).repeat(pooled_output.size(0), 1, 1)\n",
    "            \n",
    "            # Apply attention\n",
    "            pooled_output_expanded = pooled_output.unsqueeze(1).repeat(1, self.num_labels, 1)\n",
    "            attended_output, attention_weights = self.emotion_attention(\n",
    "                emotion_queries,\n",
    "                pooled_output_expanded,\n",
    "                pooled_output_expanded\n",
    "            )\n",
    "            \n",
    "            # Combine with original representation\n",
    "            pooled_output = pooled_output + attended_output.mean(dim=1)\n",
    "        else:\n",
    "            attention_weights = None\n",
    "        \n",
    "        # Apply dropout\n",
    "        pooled_output = self.dropout(pooled_output)\n",
    "        \n",
    "        # Get logits\n",
    "        logits = self.classifier(pooled_output)\n",
    "        \n",
    "        if return_attention and attention_weights is not None:\n",
    "            return logits, attention_weights\n",
    "        \n",
    "        return logits\n",
    "    \n",
    "    def predict(self, input_ids, attention_mask, threshold=None):\n",
    "        \"\"\"Get predictions with custom or learned thresholds\"\"\"\n",
    "        logits = self.forward(input_ids, attention_mask)\n",
    "        probs = torch.sigmoid(logits)\n",
    "        \n",
    "        if threshold is None:\n",
    "            # Use learned thresholds\n",
    "            threshold = torch.sigmoid(self.thresholds)\n",
    "        \n",
    "        predictions = (probs > threshold).float()\n",
    "        \n",
    "        return predictions, probs"
   ]
  },
  {
   "cell_type": "markdown",
   "id": "63a7bf36-7718-4858-a003-cc6087d7bea6",
   "metadata": {},
   "source": [
    "## Training Function with Advanced Features"
   ]
  },
  {
   "cell_type": "code",
   "execution_count": 18,
   "id": "e96b555a-af35-4425-99e2-571e0af3b575",
   "metadata": {
    "execution": {
     "iopub.execute_input": "2025-06-04T00:49:29.299037Z",
     "iopub.status.busy": "2025-06-04T00:49:29.298360Z",
     "iopub.status.idle": "2025-06-04T00:49:29.342094Z",
     "shell.execute_reply": "2025-06-04T00:49:29.341195Z",
     "shell.execute_reply.started": "2025-06-04T00:49:29.299006Z"
    },
    "trusted": true
   },
   "outputs": [],
   "source": [
    "import torch.optim as optim\n",
    "from torch.optim.lr_scheduler import ReduceLROnPlateau\n",
    "from sklearn.metrics import f1_score, precision_recall_fscore_support, hamming_loss\n",
    "from tqdm import tqdm\n",
    "import wandb  # Optional: for experiment tracking\n",
    "\n",
    "class EmotionClassifierTrainer:\n",
    "    def __init__(self, \n",
    "                 model: KumoraEmotionClassifier,\n",
    "                 device: torch.device,\n",
    "                 learning_rate: float = 2e-5,\n",
    "                 weight_decay: float = 0.01,\n",
    "                 use_class_weights: bool = True):\n",
    "        \n",
    "        self.model = model.to(device)\n",
    "        self.device = device\n",
    "        \n",
    "        # Optimizer with different learning rates for transformer and classifier\n",
    "        transformer_params = list(model.transformer.parameters())\n",
    "        classifier_params = list(model.classifier.parameters()) + [model.thresholds]\n",
    "        \n",
    "        if model.use_attention:\n",
    "            classifier_params.extend(list(model.emotion_attention.parameters()))\n",
    "            classifier_params.extend(list(model.emotion_embeddings.parameters()))\n",
    "        \n",
    "        self.optimizer = optim.AdamW([\n",
    "            {'params': transformer_params, 'lr': learning_rate},\n",
    "            {'params': classifier_params, 'lr': learning_rate * 10}\n",
    "        ], weight_decay=weight_decay)\n",
    "        \n",
    "        self.scheduler = ReduceLROnPlateau(\n",
    "            self.optimizer, mode='max', patience=3, factor=0.5\n",
    "        )\n",
    "        \n",
    "        self.use_class_weights = use_class_weights\n",
    "        self.class_weights = None\n",
    "        \n",
    "    def compute_class_weights(self, train_loader):\n",
    "        \"\"\"Compute class weights for imbalanced data\"\"\"\n",
    "        if not self.use_class_weights:\n",
    "            return\n",
    "        \n",
    "        label_counts = torch.zeros(self.model.num_labels)\n",
    "        total_samples = 0\n",
    "        \n",
    "        for batch in train_loader:\n",
    "            labels = batch['labels']\n",
    "            label_counts += labels.sum(dim=0)\n",
    "            total_samples += labels.size(0)\n",
    "        \n",
    "        # Compute weights (inverse frequency)\n",
    "        weights = total_samples / (self.model.num_labels * label_counts)\n",
    "        weights = weights / weights.mean()  # Normalize\n",
    "        \n",
    "        self.class_weights = weights.to(self.device)\n",
    "        print(f\"Class weights computed: {self.class_weights}\")\n",
    "    \n",
    "    def train_epoch(self, train_loader, epoch):\n",
    "        self.model.train()\n",
    "        total_loss = 0\n",
    "        all_predictions = []\n",
    "        all_labels = []\n",
    "        \n",
    "        progress_bar = tqdm(train_loader, desc=f'Training Epoch {epoch}')\n",
    "        \n",
    "        for batch in progress_bar:\n",
    "            # Move batch to device\n",
    "            input_ids = batch['input_ids'].to(self.device)\n",
    "            attention_mask = batch['attention_mask'].to(self.device)\n",
    "            labels = batch['labels'].to(self.device)\n",
    "            \n",
    "            # Forward pass\n",
    "            self.optimizer.zero_grad()\n",
    "            logits = self.model(input_ids, attention_mask)\n",
    "            \n",
    "            # Compute loss with class weights\n",
    "            if self.class_weights is not None:\n",
    "                pos_weight = self.class_weights\n",
    "                criterion = nn.BCEWithLogitsLoss(pos_weight=pos_weight)\n",
    "            else:\n",
    "                criterion = nn.BCEWithLogitsLoss()\n",
    "            \n",
    "            loss = criterion(logits, labels)\n",
    "            \n",
    "            # Backward pass\n",
    "            loss.backward()\n",
    "            torch.nn.utils.clip_grad_norm_(self.model.parameters(), max_norm=1.0)\n",
    "            self.optimizer.step()\n",
    "            \n",
    "            # Track metrics\n",
    "            total_loss += loss.item()\n",
    "            predictions = torch.sigmoid(logits) > 0.5\n",
    "            all_predictions.extend(predictions.cpu().numpy())\n",
    "            all_labels.extend(labels.cpu().numpy())\n",
    "            \n",
    "            # Update progress bar\n",
    "            progress_bar.set_postfix({'loss': f'{loss.item():.4f}'})\n",
    "        \n",
    "        # Calculate metrics\n",
    "        avg_loss = total_loss / len(train_loader)\n",
    "        f1_micro = f1_score(all_labels, all_predictions, average='micro')\n",
    "        f1_macro = f1_score(all_labels, all_predictions, average='macro')\n",
    "        \n",
    "        return avg_loss, f1_micro, f1_macro\n",
    "    \n",
    "    def evaluate(self, data_loader, phase='Validation'):\n",
    "        self.model.eval()\n",
    "        total_loss = 0\n",
    "        all_predictions = []\n",
    "        all_labels = []\n",
    "        all_probs = []\n",
    "        \n",
    "        with torch.no_grad():\n",
    "            for batch in tqdm(data_loader, desc=f'{phase}'):\n",
    "                input_ids = batch['input_ids'].to(self.device)\n",
    "                attention_mask = batch['attention_mask'].to(self.device)\n",
    "                labels = batch['labels'].to(self.device)\n",
    "                \n",
    "                logits = self.model(input_ids, attention_mask)\n",
    "                \n",
    "                # Compute loss\n",
    "                criterion = nn.BCEWithLogitsLoss()\n",
    "                loss = criterion(logits, labels)\n",
    "                total_loss += loss.item()\n",
    "                \n",
    "                # Get predictions\n",
    "                probs = torch.sigmoid(logits)\n",
    "                predictions = probs > 0.5\n",
    "                \n",
    "                all_predictions.extend(predictions.cpu().numpy())\n",
    "                all_labels.extend(labels.cpu().numpy())\n",
    "                all_probs.extend(probs.cpu().numpy())\n",
    "        \n",
    "        # Calculate comprehensive metrics\n",
    "        avg_loss = total_loss / len(data_loader)\n",
    "        \n",
    "        # Convert to numpy arrays\n",
    "        all_predictions = np.array(all_predictions)\n",
    "        all_labels = np.array(all_labels)\n",
    "        all_probs = np.array(all_probs)\n",
    "        \n",
    "        # Calculate metrics\n",
    "        f1_micro = f1_score(all_labels, all_predictions, average='micro')\n",
    "        f1_macro = f1_score(all_labels, all_predictions, average='macro')\n",
    "        f1_weighted = f1_score(all_labels, all_predictions, average='weighted')\n",
    "        \n",
    "        # Per-class metrics\n",
    "        precision, recall, f1, support = precision_recall_fscore_support(\n",
    "            all_labels, all_predictions, average=None\n",
    "        )\n",
    "        \n",
    "        # Hamming loss (fraction of wrong labels)\n",
    "        h_loss = hamming_loss(all_labels, all_predictions)\n",
    "        \n",
    "        # Subset accuracy (exact match)\n",
    "        subset_acc = np.mean(np.all(all_predictions == all_labels, axis=1))\n",
    "        \n",
    "        metrics = {\n",
    "            'loss': avg_loss,\n",
    "            'f1_micro': f1_micro,\n",
    "            'f1_macro': f1_macro,\n",
    "            'f1_weighted': f1_weighted,\n",
    "            'hamming_loss': h_loss,\n",
    "            'subset_accuracy': subset_acc,\n",
    "            'per_class_f1': {self.model.emotion_names[i]: f1[i] for i in range(len(f1))},\n",
    "            'per_class_precision': {self.model.emotion_names[i]: precision[i] for i in range(len(precision))},\n",
    "            'per_class_recall': {self.model.emotion_names[i]: recall[i] for i in range(len(recall))}\n",
    "        }\n",
    "        \n",
    "        return metrics, all_probs\n",
    "    \n",
    "    def train(self, train_loader, val_loader, num_epochs=10, save_path='kumora_emotion_model.pt'):\n",
    "        # Compute class weights\n",
    "        self.compute_class_weights(train_loader)\n",
    "        \n",
    "        best_f1 = 0\n",
    "        patience = 0\n",
    "        max_patience = 5\n",
    "        \n",
    "        for epoch in range(num_epochs):\n",
    "            print(f\"\\n{'='*50}\")\n",
    "            print(f\"Epoch {epoch+1}/{num_epochs}\")\n",
    "            print(f\"{'='*50}\")\n",
    "            \n",
    "            # Training\n",
    "            train_loss, train_f1_micro, train_f1_macro = self.train_epoch(train_loader, epoch+1)\n",
    "            print(f\"Train Loss: {train_loss:.4f}, F1 Micro: {train_f1_micro:.4f}, F1 Macro: {train_f1_macro:.4f}\")\n",
    "            \n",
    "            # Validation\n",
    "            val_metrics, _ = self.evaluate(val_loader)\n",
    "            print(f\"Val Loss: {val_metrics['loss']:.4f}, F1 Micro: {val_metrics['f1_micro']:.4f}, \"\n",
    "                  f\"F1 Macro: {val_metrics['f1_macro']:.4f}, Hamming Loss: {val_metrics['hamming_loss']:.4f}\")\n",
    "            \n",
    "            # Learning rate scheduling\n",
    "            self.scheduler.step(val_metrics['f1_macro'])\n",
    "            \n",
    "            # Save best model\n",
    "            if val_metrics['f1_macro'] > best_f1:\n",
    "                best_f1 = val_metrics['f1_macro']\n",
    "                patience = 0\n",
    "                \n",
    "                torch.save({\n",
    "                    'model_state_dict': self.model.state_dict(),\n",
    "                    'optimizer_state_dict': self.optimizer.state_dict(),\n",
    "                    'best_f1': best_f1,\n",
    "                    'epoch': epoch,\n",
    "                    'emotion_names': self.model.emotion_names,\n",
    "                    'model_config': {\n",
    "                        'model_name': self.model.model_name,\n",
    "                        'num_labels': self.model.num_labels,\n",
    "                        'use_attention': self.model.use_attention\n",
    "                    }\n",
    "                }, save_path)\n",
    "                \n",
    "                print(f\"✓ Saved best model with F1 Macro: {best_f1:.4f}\")\n",
    "            else:\n",
    "                patience += 1\n",
    "                if patience >= max_patience:\n",
    "                    print(f\"Early stopping triggered after {epoch+1} epochs\")\n",
    "                    break\n",
    "        \n",
    "        print(f\"\\nTraining completed! Best F1 Macro: {best_f1:.4f}\")\n",
    "        return best_f1"
   ]
  },
  {
   "cell_type": "markdown",
   "id": "4060369e-abc1-4a93-9bfe-43644ba12e02",
   "metadata": {},
   "source": [
    "## Inference and Integration with Kumora"
   ]
  },
  {
   "cell_type": "code",
   "execution_count": 19,
   "id": "7c98bef8-fdb1-4f96-a013-ca4c496db9cc",
   "metadata": {
    "execution": {
     "iopub.execute_input": "2025-06-04T00:49:34.079019Z",
     "iopub.status.busy": "2025-06-04T00:49:34.078624Z",
     "iopub.status.idle": "2025-06-04T00:49:34.092260Z",
     "shell.execute_reply": "2025-06-04T00:49:34.091366Z",
     "shell.execute_reply.started": "2025-06-04T00:49:34.078980Z"
    },
    "jupyter": {
     "source_hidden": true
    },
    "trusted": true
   },
   "outputs": [],
   "source": [
    "class KumoraEmotionAnalyzer:\n",
    "    def __init__(self, model_path: str, device: torch.device = None):\n",
    "        if device is None:\n",
    "            device = torch.device('cuda' if torch.cuda.is_available() else 'cpu')\n",
    "        \n",
    "        self.device = device\n",
    "        \n",
    "        # Load model configuration and weights\n",
    "        checkpoint = torch.load(model_path, map_location=device)\n",
    "        model_config = checkpoint['model_config']\n",
    "        \n",
    "        # Initialize model\n",
    "        self.model = KumoraEmotionClassifier(\n",
    "            model_name=model_config['model_name'],\n",
    "            num_labels=model_config['num_labels'],\n",
    "            emotion_names=checkpoint['emotion_names'],\n",
    "            use_attention=model_config['use_attention']\n",
    "        )\n",
    "        \n",
    "        self.model.load_state_dict(checkpoint['model_state_dict'])\n",
    "        self.model.to(device)\n",
    "        self.model.eval()\n",
    "        \n",
    "        # Load tokenizer\n",
    "        self.tokenizer = AutoTokenizer.from_pretrained(model_config['model_name'])\n",
    "        self.emotion_names = checkpoint['emotion_names']\n",
    "    \n",
    "    def analyze_emotions(self, text: str, threshold: float = 0.5, return_all: bool = False):\n",
    "        \"\"\"\n",
    "        Analyze emotions in text\n",
    "        \n",
    "        Args:\n",
    "            text: Input text to analyze\n",
    "            threshold: Probability threshold for emotion detection\n",
    "            return_all: If True, return all emotion probabilities\n",
    "        \n",
    "        Returns:\n",
    "            Dictionary with detected emotions and their probabilities\n",
    "        \"\"\"\n",
    "        # Tokenize input\n",
    "        encoding = self.tokenizer(\n",
    "            text,\n",
    "            truncation=True,\n",
    "            padding=True,\n",
    "            max_length=256,\n",
    "            return_tensors='pt'\n",
    "        )\n",
    "        \n",
    "        input_ids = encoding['input_ids'].to(self.device)\n",
    "        attention_mask = encoding['attention_mask'].to(self.device)\n",
    "        \n",
    "        # Get predictions\n",
    "        with torch.no_grad():\n",
    "            predictions, probs = self.model.predict(input_ids, attention_mask, threshold)\n",
    "        \n",
    "        # Convert to numpy\n",
    "        probs = probs.cpu().numpy()[0]\n",
    "        predictions = predictions.cpu().numpy()[0]\n",
    "        \n",
    "        # Create results dictionary\n",
    "        results = {\n",
    "            'detected_emotions': [],\n",
    "            'emotion_scores': {},\n",
    "            'primary_emotion': None,\n",
    "            'emotional_intensity': None\n",
    "        }\n",
    "        \n",
    "        # Process emotions\n",
    "        for i, (emotion, prob, pred) in enumerate(zip(self.emotion_names, probs, predictions)):\n",
    "            if return_all or pred == 1:\n",
    "                results['emotion_scores'][emotion] = float(prob)\n",
    "                if pred == 1:\n",
    "                    results['detected_emotions'].append(emotion)\n",
    "        \n",
    "        # Determine primary emotion (highest probability)\n",
    "        if results['emotion_scores']:\n",
    "            results['primary_emotion'] = max(results['emotion_scores'], \n",
    "                                            key=results['emotion_scores'].get)\n",
    "        \n",
    "        # Calculate emotional intensity (average of detected emotion probabilities)\n",
    "        if results['detected_emotions']:\n",
    "            detected_probs = [results['emotion_scores'][em] for em in results['detected_emotions']]\n",
    "            results['emotional_intensity'] = float(np.mean(detected_probs))\n",
    "        \n",
    "        return results\n",
    "    \n",
    "    def analyze_conversation(self, messages: List[str]) -> Dict:\n",
    "        \"\"\"\n",
    "        Analyze emotional trajectory across a conversation\n",
    "        \"\"\"\n",
    "        trajectory = []\n",
    "        \n",
    "        for message in messages:\n",
    "            emotion_result = self.analyze_emotions(message, return_all=True)\n",
    "            trajectory.append(emotion_result)\n",
    "        \n",
    "        # Analyze patterns\n",
    "        primary_emotions = [r['primary_emotion'] for r in trajectory if r['primary_emotion']]\n",
    "        emotion_counts = {}\n",
    "        \n",
    "        for result in trajectory:\n",
    "            for emotion in result['detected_emotions']:\n",
    "                emotion_counts[emotion] = emotion_counts.get(emotion, 0) + 1\n",
    "        \n",
    "        return {\n",
    "            'trajectory': trajectory,\n",
    "            'dominant_emotions': sorted(emotion_counts.items(), key=lambda x: x[1], reverse=True)[:3],\n",
    "            'emotional_stability': self._calculate_stability(trajectory),\n",
    "            'average_intensity': np.mean([r['emotional_intensity'] for r in trajectory \n",
    "                                         if r['emotional_intensity'] is not None])\n",
    "        }\n",
    "    \n",
    "    def _calculate_stability(self, trajectory: List[Dict]) -> float:\n",
    "        \"\"\"Calculate emotional stability score (0-1, higher is more stable)\"\"\"\n",
    "        if len(trajectory) < 2:\n",
    "            return 1.0\n",
    "        \n",
    "        # Calculate variance in emotional states\n",
    "        emotion_vectors = []\n",
    "        for result in trajectory:\n",
    "            vector = [result['emotion_scores'].get(em, 0) for em in self.emotion_names]\n",
    "            emotion_vectors.append(vector)\n",
    "        \n",
    "        emotion_vectors = np.array(emotion_vectors)\n",
    "        \n",
    "        # Calculate stability as inverse of average variance\n",
    "        variances = np.var(emotion_vectors, axis=0)\n",
    "        stability = 1 - np.mean(variances)\n",
    "        \n",
    "        return float(stability)"
   ]
  },
  {
   "cell_type": "markdown",
   "id": "33492814-b61d-4bab-98b0-9c249ec7fcb8",
   "metadata": {},
   "source": [
    "## Complete Training Pipeline"
   ]
  },
  {
   "cell_type": "code",
   "execution_count": 20,
   "id": "8eb5f742-0824-483b-97c7-59feea600d88",
   "metadata": {
    "execution": {
     "iopub.execute_input": "2025-06-04T00:49:37.001862Z",
     "iopub.status.busy": "2025-06-04T00:49:37.001585Z",
     "iopub.status.idle": "2025-06-04T00:49:37.008912Z",
     "shell.execute_reply": "2025-06-04T00:49:37.008215Z",
     "shell.execute_reply.started": "2025-06-04T00:49:37.001842Z"
    },
    "trusted": true
   },
   "outputs": [],
   "source": [
    "def train_kumora_emotion_classifier(dataset: pd.DataFrame, model_name: str = \"distilbert-base-uncased\"):\n",
    "    \"\"\"\n",
    "    Complete training pipeline for Kumora emotion classifier\n",
    "    \"\"\"\n",
    "    # Load data\n",
    "    # df = pd.read_csv(dataset_path)\n",
    "    \n",
    "    # Get emotion columns\n",
    "    all_wh_emotions = sorted(list(set(\n",
    "        emotion for emotions in EMOTION_MAPPING.values() \n",
    "        for emotion in emotions\n",
    "    )))\n",
    "    \n",
    "    # Initialize tokenizer\n",
    "    tokenizer = AutoTokenizer.from_pretrained(model_name)\n",
    "    \n",
    "    # Prepare data loaders\n",
    "    train_loader, val_loader, test_loader = prepare_data_loaders(\n",
    "        dataset, tokenizer, all_wh_emotions, batch_size=16\n",
    "    )\n",
    "    \n",
    "    # Initialize model\n",
    "    model = KumoraEmotionClassifier(\n",
    "        model_name=model_name,\n",
    "        num_labels=len(all_wh_emotions),\n",
    "        emotion_names=all_wh_emotions,\n",
    "        use_attention=True\n",
    "    )\n",
    "    \n",
    "    # Setup device\n",
    "    device = torch.device('cuda' if torch.cuda.is_available() else 'cpu')\n",
    "    print(f\"Using device: {device}\")\n",
    "    \n",
    "    # Initialize trainer\n",
    "    trainer = EmotionClassifierTrainer(\n",
    "        model=model,\n",
    "        device=device,\n",
    "        learning_rate=2e-5,\n",
    "        use_class_weights=True\n",
    "    )\n",
    "    \n",
    "    # Train model\n",
    "    best_f1 = trainer.train(\n",
    "        train_loader, \n",
    "        val_loader, \n",
    "        num_epochs=10,\n",
    "        save_path='kumora_emotion_model_best.pt'\n",
    "    )\n",
    "    \n",
    "    # Test evaluation\n",
    "    print(\"\\n\" + \"=\"*50)\n",
    "    print(\"FINAL TEST EVALUATION\")\n",
    "    print(\"=\"*50)\n",
    "    \n",
    "    test_metrics, test_probs = trainer.evaluate(test_loader, phase='Test')\n",
    "    \n",
    "    print(f\"\\nTest Results:\")\n",
    "    print(f\"F1 Micro: {test_metrics['f1_micro']:.4f}\")\n",
    "    print(f\"F1 Macro: {test_metrics['f1_macro']:.4f}\")\n",
    "    print(f\"Hamming Loss: {test_metrics['hamming_loss']:.4f}\")\n",
    "    print(f\"Subset Accuracy: {test_metrics['subset_accuracy']:.4f}\")\n",
    "    \n",
    "    print(\"\\nPer-Emotion F1 Scores:\")\n",
    "    for emotion, f1 in test_metrics['per_class_f1'].items():\n",
    "        print(f\"  {emotion}: {f1:.4f}\")\n",
    "    \n",
    "    return model, test_metrics"
   ]
  },
  {
   "cell_type": "code",
   "execution_count": null,
   "id": "b4d9c4b1-e86a-406b-a693-6136f453a5d6",
   "metadata": {
    "execution": {
     "iopub.execute_input": "2025-06-04T00:49:40.116721Z",
     "iopub.status.busy": "2025-06-04T00:49:40.116095Z"
    },
    "trusted": true
   },
   "outputs": [
    {
     "name": "stdout",
     "output_type": "stream",
     "text": [
      "Length of Training Set:\t\t30171\n",
      "Length of Validation Set:\t4311\n",
      "Length of Testing Set:\t\t8621\n"
     ]
    },
    {
     "data": {
      "application/vnd.jupyter.widget-view+json": {
       "model_id": "a55f3f1ddeb74a5dadc28b2cd8d18d69",
       "version_major": 2,
       "version_minor": 0
      },
      "text/plain": [
       "model.safetensors:   0%|          | 0.00/268M [00:00<?, ?B/s]"
      ]
     },
     "metadata": {},
     "output_type": "display_data"
    },
    {
     "name": "stdout",
     "output_type": "stream",
     "text": [
      "Using device: cuda\n",
      "Class weights computed: tensor([1.2155, 1.2425, 0.7300, 0.8598, 0.4079, 0.9852, 0.4047, 0.9445, 0.6940,\n",
      "        0.8365, 0.5290, 0.5277, 0.5923, 1.1366, 0.5299, 0.6080, 0.8814, 0.5265,\n",
      "        1.0173, 0.9972, 0.9703, 4.8732, 1.5254, 1.6174, 0.7296, 0.4252, 1.1923],\n",
      "       device='cuda:0')\n",
      "\n",
      "==================================================\n",
      "Epoch 1/10\n",
      "==================================================\n"
     ]
    },
    {
     "name": "stderr",
     "output_type": "stream",
     "text": [
      "Training Epoch 1: 100%|██████████| 1886/1886 [07:05<00:00,  4.43it/s, loss=0.2428]\n"
     ]
    },
    {
     "name": "stdout",
     "output_type": "stream",
     "text": [
      "Train Loss: 0.2396, F1 Micro: 0.0801, F1 Macro: 0.0942\n"
     ]
    },
    {
     "name": "stderr",
     "output_type": "stream",
     "text": [
      "Validation: 100%|██████████| 270/270 [00:16<00:00, 16.16it/s]\n",
      "/usr/local/lib/python3.11/dist-packages/sklearn/metrics/_classification.py:1344: UndefinedMetricWarning: Precision and F-score are ill-defined and being set to 0.0 in labels with no predicted samples. Use `zero_division` parameter to control this behavior.\n",
      "  _warn_prf(average, modifier, msg_start, len(result))\n"
     ]
    },
    {
     "name": "stdout",
     "output_type": "stream",
     "text": [
      "Val Loss: 0.2648, F1 Micro: 0.0762, F1 Macro: 0.0826, Hamming Loss: 0.1169\n",
      "✓ Saved best model with F1 Macro: 0.0826\n",
      "\n",
      "==================================================\n",
      "Epoch 2/10\n",
      "==================================================\n"
     ]
    },
    {
     "name": "stderr",
     "output_type": "stream",
     "text": [
      "Training Epoch 2:  81%|████████▏ | 1534/1886 [05:45<01:19,  4.44it/s, loss=0.1913]"
     ]
    }
   ],
   "source": [
    "# Train the model\n",
    "model, metrics = train_kumora_emotion_classifier(final_df)#('kumora_emotions_dataset.csv')\n",
    "\n",
    "# Test inference\n",
    "# analyzer = KumoraEmotionAnalyzer('kumora_emotion_model_best.pt')\n",
    "\n",
    "# # Example analysis\n",
    "# test_text = \"I'm feeling so overwhelmed with work and these cramps are killing me. Just want to cry.\"\n",
    "# result = analyzer.analyze_emotions(test_text)\n",
    "\n",
    "# print(f\"\\nText: {test_text}\")\n",
    "# print(f\"Detected emotions: {result['detected_emotions']}\")\n",
    "# print(f\"Primary emotion: {result['primary_emotion']}\")\n",
    "# print(f\"Emotional intensity: {result['emotional_intensity']:.3f}\")"
   ]
  },
  {
   "cell_type": "code",
   "execution_count": null,
   "id": "52ae8ad3-8668-45fd-9e6f-96f5616182f0",
   "metadata": {
    "trusted": true
   },
   "outputs": [],
   "source": []
  }
 ],
 "metadata": {
  "kaggle": {
   "accelerator": "gpu",
   "dataSources": [],
   "dockerImageVersionId": 31040,
   "isGpuEnabled": true,
   "isInternetEnabled": true,
   "language": "python",
   "sourceType": "notebook"
  },
  "kernelspec": {
   "display_name": "Python 3",
   "language": "python",
   "name": "python3"
  },
  "language_info": {
   "codemirror_mode": {
    "name": "ipython",
    "version": 3
   },
   "file_extension": ".py",
   "mimetype": "text/x-python",
   "name": "python",
   "nbconvert_exporter": "python",
   "pygments_lexer": "ipython3",
   "version": "3.11.11"
  }
 },
 "nbformat": 4,
 "nbformat_minor": 5
}
