{
 "cells": [
  {
   "cell_type": "markdown",
   "metadata": {},
   "source": [
    "# Load Data Set"
   ]
  },
  {
   "cell_type": "code",
   "execution_count": 20,
   "metadata": {},
   "outputs": [
    {
     "name": "stdout",
     "output_type": "stream",
     "text": [
      "Using device: mps\n",
      "Train size: 43410\n",
      "Validation size: 5426\n",
      "Test size: 5427\n"
     ]
    }
   ],
   "source": [
    "from datasets import load_dataset\n",
    "import torch\n",
    "\n",
    "device = torch.device(\"mps\" if torch.backends.mps.is_available() else \"cpu\")\n",
    "print(f\"Using device: {device}\")\n",
    "\n",
    "dataset = load_dataset(\"go_emotions\")\n",
    "\n",
    "train_dataset_raw = dataset[\"train\"]\n",
    "val_dataset_raw = dataset[\"validation\"]\n",
    "test_dataset_raw = dataset[\"test\"]\n",
    "\n",
    "print(f\"Train size: {len(train_dataset_raw)}\")\n",
    "print(f\"Validation size: {len(val_dataset_raw)}\")\n",
    "print(f\"Test size: {len(test_dataset_raw)}\")"
   ]
  },
  {
   "cell_type": "markdown",
   "metadata": {},
   "source": [
    "Label Pereparation"
   ]
  },
  {
   "cell_type": "code",
   "execution_count": 21,
   "metadata": {},
   "outputs": [
    {
     "name": "stdout",
     "output_type": "stream",
     "text": [
      "['text', 'labels', 'id']\n",
      "{'text': 'Now if he does off himself, everyone will think hes having a laugh screwing with people instead of actually dead', 'labels': [27], 'id': 'ed00q6i'}\n"
     ]
    }
   ],
   "source": [
    "print(train_dataset_raw.column_names)\n",
    "print(train_dataset_raw[1])"
   ]
  },
  {
   "cell_type": "code",
   "execution_count": 22,
   "metadata": {},
   "outputs": [
    {
     "name": "stdout",
     "output_type": "stream",
     "text": [
      "Head of train dataset:\n",
      "{'text': 'Done, good luck with your thing.', 'labels': [0, 0, 0, 0, 0, 1, 0, 0, 0, 0, 0, 0, 0, 0, 0, 0, 0, 0, 0, 0, 0, 0, 0, 0, 0, 0, 0], 'id': 'ef6ysvb'}\n",
      "\n",
      "Head of validation dataset:\n",
      "{'text': 'Is this in New Orleans?? I really feel like this is New Orleans.', 'labels': [0, 0, 0, 0, 0, 0, 0, 0, 0, 0, 0, 0, 0, 0, 0, 0, 0, 0, 0, 0, 0, 0, 0, 0, 0, 0, 0], 'id': 'edgurhb'}\n",
      "\n",
      "Head of test dataset:\n",
      "{'text': 'I’m really sorry about your situation :( Although I love the names Sapphira, Cirilla, and Scarlett!', 'labels': [0, 0, 0, 0, 0, 0, 0, 0, 0, 0, 0, 0, 0, 0, 0, 0, 0, 0, 0, 0, 0, 0, 0, 0, 0, 1, 0], 'id': 'eecwqtt'}\n",
      "\n",
      "Number of labels in train dataset: 27\n",
      "Label counts per class: [4130 2328 1567 2470 2939 1087 1368 2191  641 1269 2022  793  303  853\n",
      "  596 2662   77 1452 2086  164 1581  111 1110  153  545 1326 1060]\n",
      "\n",
      "\n",
      "Empty label samples: 12823\n",
      "Non-empty label samples: 30587\n"
     ]
    }
   ],
   "source": [
    "import numpy as np\n",
    "import torch\n",
    "from torch.nn import BCEWithLogitsLoss\n",
    "from collections import Counter\n",
    "\n",
    "num_labels = 27  # GoEmotions has 28 emotion classes (excluding 'neutral')\n",
    "\n",
    "def encode_labels(example):\n",
    "    # Exclude neutral (label 27)\n",
    "    labels = np.zeros(num_labels)\n",
    "    for label in example['labels']:\n",
    "        if label < num_labels:  # Only 0 to 26\n",
    "            labels[label] = 1\n",
    "    example['labels'] = labels.tolist()\n",
    "    return example\n",
    "\n",
    "train_dataset = train_dataset_raw.shuffle(seed=42).map(encode_labels)\n",
    "val_dataset = val_dataset_raw.map(encode_labels)\n",
    "test_dataset = test_dataset_raw.map(encode_labels)\n",
    "\n",
    "\n",
    "print(\"Head of train dataset:\")\n",
    "print(train_dataset[1])\n",
    "print(\"\\nHead of validation dataset:\")\n",
    "print(val_dataset[0])\n",
    "print(\"\\nHead of test dataset:\")\n",
    "print(test_dataset[0])\n",
    "\n",
    "\n",
    "print(\"\\nNumber of labels in train dataset:\", len(train_dataset[0]['labels']))\n",
    "\n",
    "\n",
    "\n",
    "all_labels = [tuple(labels) for labels in train_dataset[\"labels\"]]\n",
    "flat_counts = np.sum(train_dataset[\"labels\"], axis=0)\n",
    "print(\"Label counts per class:\", flat_counts)\n",
    "\n",
    "\n",
    "# train_dataset = train_dataset.select(range(5000))\n",
    "# val_dataset = val_dataset.select(range(500))\n",
    "\n",
    "\n",
    "empty_count = 0\n",
    "non_empty_count = 0\n",
    "for sample in train_dataset:\n",
    "    if sum(sample['labels']) == 0:\n",
    "        empty_count += 1\n",
    "    else:\n",
    "        non_empty_count += 1\n",
    "\n",
    "print(f\"\\n\\nEmpty label samples: {empty_count}\")\n",
    "print(f\"Non-empty label samples: {non_empty_count}\")"
   ]
  },
  {
   "cell_type": "code",
   "execution_count": 23,
   "metadata": {},
   "outputs": [
    {
     "name": "stdout",
     "output_type": "stream",
     "text": [
      "Filtered train size: 30587\n",
      "Filtered validation size: 3834\n"
     ]
    }
   ],
   "source": [
    "# Filter Neutral Samples as empty samples add noise and teach the model that predicting nothing is normal\n",
    "# Filter training samples that have at least one label\n",
    "train_dataset = train_dataset.filter(lambda x: sum(x['labels']) > 0)\n",
    "val_dataset = val_dataset.filter(lambda x: sum(x['labels']) > 0)\n",
    "\n",
    "print(f\"Filtered train size: {len(train_dataset)}\")\n",
    "print(f\"Filtered validation size: {len(val_dataset)}\")"
   ]
  },
  {
   "cell_type": "code",
   "execution_count": 24,
   "metadata": {},
   "outputs": [
    {
     "name": "stdout",
     "output_type": "stream",
     "text": [
      "Average labels/sample: 1.2058717755909374\n",
      "Unique label values: [0 1]\n",
      "\n",
      "\n",
      "Unique label vectors in training set: 642\n",
      "Train sample 0: I would say they do because it was a horrible accident but they were also in the wrong. The military tried to get them to disperse they didnt.\n",
      "Val sample 0:   You know the answer man, you are programmed to capture those codes they send you, don’t avoid them!\n",
      "Train sample 1: Done, good luck with your thing.\n",
      "Val sample 1:   I've never been this sad in my life!\n",
      "Train sample 2: Eat better.\n",
      "Val sample 2:   The economy is heavily controlled and subsidized by the government. In any case, I was poking at the lack of nuance in US politics today\n",
      "Train sample 3: So you stay on your theft from auto waiting for them to dispatch the next shift to the backlog of calls.\n",
      "Val sample 3:   He could have easily taken a real camera from a legitimate source and change the price in Word/Photoshop and then print it out.\n",
      "Train sample 4: Glad to hear it's ubiquitous and not an OS thing.\n",
      "Val sample 4:   Thank you for your vote of confidence, but we statistically can't get to 10 wins.\n"
     ]
    }
   ],
   "source": [
    "label_counts = [sum(example['labels']) for example in train_dataset]\n",
    "print(\"Average labels/sample:\", np.mean(label_counts))\n",
    "print(\"Unique label values:\", np.unique(train_dataset[0]['labels']))\n",
    "\n",
    "\n",
    "labels_array = np.array([x['labels'] for x in train_dataset])\n",
    "print(\"\\n\\nUnique label vectors in training set:\", np.unique(labels_array, axis=0).shape[0])\n",
    "for i in range(5):\n",
    "    print(f\"Train sample {i}: {train_dataset[i]['text']}\")\n",
    "    print(f\"Val sample {i}:   {val_dataset[i]['text']}\")"
   ]
  },
  {
   "cell_type": "markdown",
   "metadata": {},
   "source": [
    "#Tokenize the Text with DistilBertTokenizer Fast"
   ]
  },
  {
   "cell_type": "code",
   "execution_count": 25,
   "metadata": {},
   "outputs": [
    {
     "data": {
      "application/vnd.jupyter.widget-view+json": {
       "model_id": "f70f440f4af34f78a19a3ddeac4fca7b",
       "version_major": 2,
       "version_minor": 0
      },
      "text/plain": [
       "Map:   0%|          | 0/3834 [00:00<?, ? examples/s]"
      ]
     },
     "metadata": {},
     "output_type": "display_data"
    },
    {
     "name": "stdout",
     "output_type": "stream",
     "text": [
      "Head of tokenized train dataset:\n",
      "{'labels': tensor([0, 0, 0, 0, 0, 1, 0, 0, 0, 0, 0, 0, 0, 0, 0, 0, 0, 0, 0, 0, 0, 0, 0, 0,\n",
      "        0, 0, 0]), 'input_ids': tensor([ 101, 2589, 1010, 2204, 6735, 2007, 2115, 2518, 1012,  102,    0,    0,\n",
      "           0,    0,    0,    0,    0,    0,    0,    0,    0,    0,    0,    0,\n",
      "           0,    0,    0,    0,    0,    0,    0,    0,    0,    0,    0,    0,\n",
      "           0,    0,    0,    0,    0,    0,    0,    0,    0,    0,    0,    0,\n",
      "           0,    0,    0,    0,    0,    0,    0,    0,    0,    0,    0,    0,\n",
      "           0,    0,    0,    0,    0,    0,    0,    0,    0,    0,    0,    0,\n",
      "           0,    0,    0,    0,    0,    0,    0,    0,    0,    0,    0,    0,\n",
      "           0,    0,    0,    0,    0,    0,    0,    0,    0,    0,    0,    0,\n",
      "           0,    0,    0,    0,    0,    0,    0,    0,    0,    0,    0,    0,\n",
      "           0,    0,    0,    0,    0,    0,    0,    0,    0,    0,    0,    0,\n",
      "           0,    0,    0,    0,    0,    0,    0,    0]), 'attention_mask': tensor([1, 1, 1, 1, 1, 1, 1, 1, 1, 1, 0, 0, 0, 0, 0, 0, 0, 0, 0, 0, 0, 0, 0, 0,\n",
      "        0, 0, 0, 0, 0, 0, 0, 0, 0, 0, 0, 0, 0, 0, 0, 0, 0, 0, 0, 0, 0, 0, 0, 0,\n",
      "        0, 0, 0, 0, 0, 0, 0, 0, 0, 0, 0, 0, 0, 0, 0, 0, 0, 0, 0, 0, 0, 0, 0, 0,\n",
      "        0, 0, 0, 0, 0, 0, 0, 0, 0, 0, 0, 0, 0, 0, 0, 0, 0, 0, 0, 0, 0, 0, 0, 0,\n",
      "        0, 0, 0, 0, 0, 0, 0, 0, 0, 0, 0, 0, 0, 0, 0, 0, 0, 0, 0, 0, 0, 0, 0, 0,\n",
      "        0, 0, 0, 0, 0, 0, 0, 0])}\n"
     ]
    }
   ],
   "source": [
    "from transformers import DistilBertTokenizerFast\n",
    "\n",
    "tokenizer = DistilBertTokenizerFast.from_pretrained(\"distilbert-base-uncased\")\n",
    "\n",
    "def tokenize(batch):\n",
    "    return tokenizer(batch[\"text\"], padding=\"max_length\", truncation=True, max_length=128)\n",
    "\n",
    "train_dataset_tk = train_dataset.map(tokenize, batched=True)\n",
    "val_dataset_tk = val_dataset.map(tokenize, batched=True)\n",
    "test_dataset_tk = test_dataset.map(tokenize, batched=True)\n",
    "\n",
    "# This ensures your dataset is ready for PyTorch training\n",
    "train_dataset_tk.set_format(\"torch\", columns=[\"input_ids\", \"attention_mask\", \"labels\"])\n",
    "val_dataset_tk.set_format(\"torch\", columns=[\"input_ids\", \"attention_mask\", \"labels\"])\n",
    "test_dataset_tk.set_format(\"torch\", columns=[\"input_ids\", \"attention_mask\", \"labels\"])\n",
    "\n",
    "print(\"Head of tokenized train dataset:\")\n",
    "print(train_dataset_tk[1])\n"
   ]
  },
  {
   "cell_type": "code",
   "execution_count": 26,
   "metadata": {},
   "outputs": [],
   "source": [
    "from transformers import Trainer\n",
    "from sklearn.metrics import f1_score, accuracy_score\n",
    "\n",
    "labels_matrix = np.array(train_dataset[\"labels\"])\n",
    "label_freq = labels_matrix.sum(axis=0)\n",
    "num_samples = labels_matrix.shape[0]\n",
    "\n",
    "# Avoid divide-by-zero and clip very large weights\n",
    "pos_weights = (num_samples - label_freq) / (label_freq + 1e-5)\n",
    "pos_weights = np.clip(pos_weights, a_min=1.0, a_max=None)\n",
    "\n",
    "class_weights_tensor = torch.tensor(pos_weights, dtype=torch.float).to(device)\n",
    "\n",
    "\n",
    "class MultiLabelTrainer(Trainer):\n",
    "    def compute_loss(self, model, inputs, return_outputs=False, num_items_in_batch=None):\n",
    "        labels = inputs.pop(\"labels\")\n",
    "        outputs = model(**inputs)\n",
    "        logits = outputs.logits\n",
    "        loss_fct = torch.nn.BCEWithLogitsLoss(pos_weight=class_weights_tensor)\n",
    "        loss = loss_fct(logits, labels.float())\n",
    "        return (loss, outputs) if return_outputs else loss\n",
    "\n",
    "\n",
    "def compute_metrics(pred):\n",
    "    preds = pred.predictions\n",
    "    labels = pred.label_ids\n",
    "\n",
    "    sigmoid = lambda x: 1 / (1 + np.exp(-x))\n",
    "    probs = sigmoid(preds)\n",
    "    optimal_threshold = 0.7  # You can try different values later\n",
    "\n",
    "    y_pred = np.where(probs >= optimal_threshold, 1, 0)\n",
    "\n",
    "    print(\"Sample true:\", labels[0])\n",
    "    print(\"Sample pred:\", y_pred[0])\n",
    "    # print(\"Raw logits sample:\", preds[0])\n",
    "    # print(\"Sigmoid probs sample:\", probs[0])\n",
    "    \n",
    "    f1 = f1_score(labels, y_pred, average='micro')\n",
    "    acc = accuracy_score(labels, y_pred)\n",
    "\n",
    "    return {\"accuracy\": acc, \"f1\": f1}"
   ]
  },
  {
   "cell_type": "markdown",
   "metadata": {},
   "source": []
  },
  {
   "cell_type": "code",
   "execution_count": 27,
   "metadata": {},
   "outputs": [
    {
     "name": "stderr",
     "output_type": "stream",
     "text": [
      "Some weights of DistilBertForSequenceClassification were not initialized from the model checkpoint at distilbert-base-uncased and are newly initialized: ['classifier.bias', 'classifier.weight', 'pre_classifier.bias', 'pre_classifier.weight']\n",
      "You should probably TRAIN this model on a down-stream task to be able to use it for predictions and inference.\n"
     ]
    }
   ],
   "source": [
    "from transformers import DistilBertForSequenceClassification\n",
    "from transformers import TrainerCallback\n",
    "\n",
    "model = DistilBertForSequenceClassification.from_pretrained(\n",
    "    \"distilbert-base-uncased\",\n",
    "    num_labels=num_labels,\n",
    "    problem_type=\"multi_label_classification\"\n",
    ").to(device)\n",
    "model = model.to(device)"
   ]
  },
  {
   "cell_type": "code",
   "execution_count": 28,
   "metadata": {},
   "outputs": [],
   "source": [
    "from transformers import TrainingArguments, Trainer\n",
    "\n",
    "training_args = TrainingArguments(\n",
    "    output_dir=\"./lotuso\",\n",
    "    eval_strategy=\"epoch\",   \n",
    "    save_strategy=\"epoch\",\n",
    "    learning_rate=2e-5,\n",
    "    per_device_train_batch_size=32,\n",
    "    per_device_eval_batch_size=64,\n",
    "    num_train_epochs=10,\n",
    "    weight_decay=0.01,\n",
    "    warmup_steps=500,\n",
    "    lr_scheduler_type=\"cosine\",\n",
    "    logging_dir='./logs',\n",
    "    logging_steps=50,\n",
    "    save_total_limit=2,\n",
    "    load_best_model_at_end=True,\n",
    "    metric_for_best_model=\"f1\",\n",
    "    greater_is_better=True,\n",
    ")\n",
    "class BestF1Callback(TrainerCallback):\n",
    "    def __init__(self):\n",
    "        self.best_f1 = 0\n",
    "\n",
    "    def on_evaluate(self, args, state, control, metrics=None, **kwargs):\n",
    "        f1 = metrics.get(\"eval_f1\", 0)\n",
    "        if f1 > self.best_f1:\n",
    "            print(f\"\\n🌟 New best F1: {f1:.4f}\")\n",
    "            self.best_f1 = f1\n",
    "            control.should_save = True\n",
    "        else:\n",
    "            control.should_save = False\n",
    "        return control"
   ]
  },
  {
   "cell_type": "code",
   "execution_count": 29,
   "metadata": {},
   "outputs": [
    {
     "data": {
      "text/html": [
       "\n",
       "    <div>\n",
       "      \n",
       "      <progress value='9560' max='9560' style='width:300px; height:20px; vertical-align: middle;'></progress>\n",
       "      [9560/9560 50:15, Epoch 10/10]\n",
       "    </div>\n",
       "    <table border=\"1\" class=\"dataframe\">\n",
       "  <thead>\n",
       " <tr style=\"text-align: left;\">\n",
       "      <th>Epoch</th>\n",
       "      <th>Training Loss</th>\n",
       "      <th>Validation Loss</th>\n",
       "      <th>Accuracy</th>\n",
       "      <th>F1</th>\n",
       "    </tr>\n",
       "  </thead>\n",
       "  <tbody>\n",
       "    <tr>\n",
       "      <td>1</td>\n",
       "      <td>0.742500</td>\n",
       "      <td>0.733147</td>\n",
       "      <td>0.209703</td>\n",
       "      <td>0.478717</td>\n",
       "    </tr>\n",
       "    <tr>\n",
       "      <td>2</td>\n",
       "      <td>0.696600</td>\n",
       "      <td>0.596563</td>\n",
       "      <td>0.209442</td>\n",
       "      <td>0.503207</td>\n",
       "    </tr>\n",
       "    <tr>\n",
       "      <td>3</td>\n",
       "      <td>0.484100</td>\n",
       "      <td>0.619913</td>\n",
       "      <td>0.245696</td>\n",
       "      <td>0.541175</td>\n",
       "    </tr>\n",
       "    <tr>\n",
       "      <td>4</td>\n",
       "      <td>0.391500</td>\n",
       "      <td>0.661452</td>\n",
       "      <td>0.251435</td>\n",
       "      <td>0.549706</td>\n",
       "    </tr>\n",
       "    <tr>\n",
       "      <td>5</td>\n",
       "      <td>0.366500</td>\n",
       "      <td>0.699337</td>\n",
       "      <td>0.281429</td>\n",
       "      <td>0.561523</td>\n",
       "    </tr>\n",
       "    <tr>\n",
       "      <td>6</td>\n",
       "      <td>0.262200</td>\n",
       "      <td>0.791410</td>\n",
       "      <td>0.276734</td>\n",
       "      <td>0.561480</td>\n",
       "    </tr>\n",
       "    <tr>\n",
       "      <td>7</td>\n",
       "      <td>0.263600</td>\n",
       "      <td>0.853497</td>\n",
       "      <td>0.302556</td>\n",
       "      <td>0.571333</td>\n",
       "    </tr>\n",
       "    <tr>\n",
       "      <td>8</td>\n",
       "      <td>0.211100</td>\n",
       "      <td>0.910298</td>\n",
       "      <td>0.318466</td>\n",
       "      <td>0.578238</td>\n",
       "    </tr>\n",
       "    <tr>\n",
       "      <td>9</td>\n",
       "      <td>0.224200</td>\n",
       "      <td>0.925611</td>\n",
       "      <td>0.322118</td>\n",
       "      <td>0.579120</td>\n",
       "    </tr>\n",
       "    <tr>\n",
       "      <td>10</td>\n",
       "      <td>0.199000</td>\n",
       "      <td>0.947300</td>\n",
       "      <td>0.330725</td>\n",
       "      <td>0.582343</td>\n",
       "    </tr>\n",
       "  </tbody>\n",
       "</table><p>"
      ],
      "text/plain": [
       "<IPython.core.display.HTML object>"
      ]
     },
     "metadata": {},
     "output_type": "display_data"
    },
    {
     "name": "stdout",
     "output_type": "stream",
     "text": [
      "Sample true: [0 0 0 0 1 0 0 0 0 0 0 0 0 0 0 0 0 0 0 0 0 0 0 0 0 0 0]\n",
      "Sample pred: [0 0 0 0 1 1 0 0 0 0 0 0 0 0 0 0 0 0 0 0 0 0 0 0 0 0 0]\n",
      "Sample true: [0 0 0 0 1 0 0 0 0 0 0 0 0 0 0 0 0 0 0 0 0 0 0 0 0 0 0]\n",
      "Sample pred: [0 0 0 1 0 1 0 0 0 0 0 0 0 0 0 0 0 0 0 0 0 0 0 0 0 0 0]\n",
      "Sample true: [0 0 0 0 1 0 0 0 0 0 0 0 0 0 0 0 0 0 0 0 0 0 0 0 0 0 0]\n",
      "Sample pred: [0 0 0 1 0 1 0 0 0 0 0 0 0 0 0 0 0 0 0 0 0 0 0 0 0 0 0]\n",
      "Sample true: [0 0 0 0 1 0 0 0 0 0 0 0 0 0 0 0 0 0 0 0 0 0 0 0 0 0 0]\n",
      "Sample pred: [0 0 0 0 0 1 0 0 0 0 0 0 0 0 0 0 0 0 0 0 0 0 0 0 0 0 0]\n",
      "Sample true: [0 0 0 0 1 0 0 0 0 0 0 0 0 0 0 0 0 0 0 0 0 0 0 0 0 0 0]\n",
      "Sample pred: [0 0 0 0 0 1 0 0 0 0 0 0 0 0 0 0 0 0 0 0 0 0 0 0 0 0 0]\n",
      "Sample true: [0 0 0 0 1 0 0 0 0 0 0 0 0 0 0 0 0 0 0 0 0 0 0 0 0 0 0]\n",
      "Sample pred: [0 0 0 0 0 1 0 0 0 0 0 0 0 0 0 0 0 0 0 0 0 0 0 0 0 0 0]\n",
      "Sample true: [0 0 0 0 1 0 0 0 0 0 0 0 0 0 0 0 0 0 0 0 0 0 0 0 0 0 0]\n",
      "Sample pred: [0 0 0 0 0 1 0 0 0 0 0 0 0 0 0 0 0 0 0 0 0 0 0 0 0 0 0]\n",
      "Sample true: [0 0 0 0 1 0 0 0 0 0 0 0 0 0 0 0 0 0 0 0 0 0 0 0 0 0 0]\n",
      "Sample pred: [0 0 0 0 0 1 0 0 0 0 0 0 0 0 0 0 0 0 0 0 0 0 0 0 0 0 0]\n",
      "Sample true: [0 0 0 0 1 0 0 0 0 0 0 0 0 0 0 0 0 0 0 0 0 0 0 0 0 0 0]\n",
      "Sample pred: [0 0 0 0 0 1 0 0 0 0 0 0 0 0 0 0 0 0 0 0 0 0 0 0 0 0 0]\n",
      "Sample true: [0 0 0 0 1 0 0 0 0 0 0 0 0 0 0 0 0 0 0 0 0 0 0 0 0 0 0]\n",
      "Sample pred: [0 0 0 0 0 1 0 0 0 0 0 0 0 0 0 0 0 0 0 0 0 0 0 0 0 0 0]\n"
     ]
    },
    {
     "data": {
      "text/plain": [
       "TrainOutput(global_step=9560, training_loss=0.40497009231705045, metrics={'train_runtime': 3016.203, 'train_samples_per_second': 101.409, 'train_steps_per_second': 3.17, 'total_flos': 1.013396691610368e+16, 'train_loss': 0.40497009231705045, 'epoch': 10.0})"
      ]
     },
     "execution_count": 29,
     "metadata": {},
     "output_type": "execute_result"
    }
   ],
   "source": [
    "\n",
    "trainer = MultiLabelTrainer(\n",
    "    model=model,\n",
    "    args=training_args,\n",
    "    train_dataset=train_dataset_tk,\n",
    "    eval_dataset=val_dataset_tk,\n",
    "    compute_metrics=compute_metrics\n",
    ")\n",
    "trainer.train()"
   ]
  },
  {
   "cell_type": "code",
   "execution_count": 47,
   "metadata": {},
   "outputs": [
    {
     "name": "stdout",
     "output_type": "stream",
     "text": [
      "\n",
      "Training log history:\n",
      "Epoch 1.00 - F1: 0.4787, Accuracy: 0.2097\n",
      "Epoch 2.00 - F1: 0.5032, Accuracy: 0.2094\n",
      "Epoch 3.00 - F1: 0.5412, Accuracy: 0.2457\n",
      "Epoch 4.00 - F1: 0.5497, Accuracy: 0.2514\n",
      "Epoch 5.00 - F1: 0.5615, Accuracy: 0.2814\n",
      "Epoch 6.00 - F1: 0.5615, Accuracy: 0.2767\n",
      "Epoch 7.00 - F1: 0.5713, Accuracy: 0.3026\n",
      "Epoch 8.00 - F1: 0.5782, Accuracy: 0.3185\n",
      "Epoch 9.00 - F1: 0.5791, Accuracy: 0.3221\n",
      "Epoch 10.00 - F1: 0.5823, Accuracy: 0.3307\n",
      "Epoch 10.00 - F1: 0.4660, Accuracy: 0.2278\n",
      "Epoch 10.00 - F1: 0.4660, Accuracy: 0.2278\n",
      "Sample true: [0 0 0 0 0 0 0 0 0 0 0 0 0 0 0 0 0 0 0 0 0 0 0 0 0 1 0]\n",
      "Sample pred: [0 0 0 0 0 0 0 0 0 0 0 0 0 0 0 0 0 0 0 0 0 0 0 0 1 1 0]\n",
      "\n",
      "Final Evaluation on Test Set:\n",
      "eval_loss: 0.6756\n",
      "eval_accuracy: 0.2278\n",
      "eval_f1: 0.4660\n",
      "eval_runtime: 13.5371\n",
      "eval_samples_per_second: 400.8990\n",
      "eval_steps_per_second: 6.2790\n",
      "epoch: 10.0000\n"
     ]
    }
   ],
   "source": [
    "# Print log history (optional)\n",
    "from transformers import AutoTokenizer, AutoModelForSequenceClassification\n",
    "\n",
    "log_history = trainer.state.log_history\n",
    "print(\"\\nTraining log history:\")\n",
    "for log in log_history:\n",
    "    if \"eval_f1\" in log:\n",
    "        print(f\"Epoch {log['epoch']:.2f} - F1: {log['eval_f1']:.4f}, Accuracy: {log['eval_accuracy']:.4f}\")\n",
    "\n",
    "# Save model and tokenizer\n",
    "# trainer.save_model(\"./lotus_final_model\")           # Also does model.save_pretrained()\n",
    "# trainer.save_state()\n",
    "\n",
    "label_list = [dataset['train'].features['labels'].feature.int2str(i) \n",
    "              for i in range(dataset['train'].features['labels'].feature.num_classes) \n",
    "              if dataset['train'].features['labels'].feature.int2str(i).lower() != 'neutral']\n",
    "\n",
    "# Get label list from the dataset (index to string)\n",
    "id2label = {i: label for i, label in enumerate(label_list)}\n",
    "label2id = {label: i for i, label in enumerate(label_list)}\n",
    "\n",
    "model.config.id2label = {str(k): v for k, v in id2label.items()}\n",
    "model.config.label2id = label2id\n",
    "model.config.num_labels = len(label_list)\n",
    "model.config.problem_type = \"multi_label_classification\"\n",
    "\n",
    "# Save model and tokenizer\n",
    "model.save_pretrained(\"./lotus_final_model\")\n",
    "tokenizer.save_pretrained(\"./lotus_final_model\")\n",
    "\n",
    "# Also save Trainer state if you're using Trainer\n",
    "trainer.save_model(\"./lotus_final_model\")\n",
    "trainer.save_state()\n",
    "\n",
    "\n",
    "\n",
    "\n",
    "# Final evaluation on test set\n",
    "metrics = trainer.evaluate(test_dataset_tk)\n",
    "print(\"\\nFinal Evaluation on Test Set:\")\n",
    "for key, value in metrics.items():\n",
    "    print(f\"{key}: {value:.4f}\")\n"
   ]
  },
  {
   "cell_type": "code",
   "execution_count": 35,
   "metadata": {},
   "outputs": [
    {
     "data": {
      "image/png": "[encoded data removed]",
      "text/plain": [
       "<Figure size 1000x500 with 1 Axes>"
      ]
     },
     "metadata": {},
     "output_type": "display_data"
    }
   ],
   "source": [
    "import matplotlib.pyplot as plt\n",
    "import pandas as pd\n",
    "log_df = pd.DataFrame(log_history)\n",
    "\n",
    "\n",
    "plt.figure(figsize=(10, 5))\n",
    "\n",
    "# Training loss\n",
    "if 'loss' in log_df.columns:\n",
    "    plt.plot(log_df[\"step\"], log_df[\"loss\"], label=\"Training Loss\", color='blue')\n",
    "\n",
    "# Validation loss (logged during eval steps)\n",
    "if \"eval_loss\" in log_df.columns:\n",
    "    plt.plot(log_df[\"step\"], log_df[\"eval_loss\"], label=\"Validation Loss\", color='orange')\n",
    "\n",
    "plt.xlabel(\"Training Steps\")\n",
    "plt.ylabel(\"Loss\")\n",
    "plt.title(\"Training & Validation Loss over Time\")\n",
    "plt.legend()\n",
    "plt.grid(True)\n",
    "plt.tight_layout()\n",
    "plt.show()\n"
   ]
  },
  {
   "cell_type": "code",
   "execution_count": 36,
   "metadata": {},
   "outputs": [
    {
     "data": {
      "image/png": "[encoded data removed]",
      "text/plain": [
       "<Figure size 1000x400 with 1 Axes>"
      ]
     },
     "metadata": {},
     "output_type": "display_data"
    }
   ],
   "source": [
    "if \"eval_f1\" in log_df.columns:\n",
    "    plt.figure(figsize=(10, 4))\n",
    "    plt.plot(log_df[\"step\"], log_df[\"eval_f1\"], marker='o', color='green')\n",
    "    plt.title(\"Validation F1 Score Over Time\")\n",
    "    plt.xlabel(\"Training Steps\")\n",
    "    plt.ylabel(\"F1 Score\")\n",
    "    plt.grid(True)\n",
    "    plt.tight_layout()\n",
    "    plt.show()\n"
   ]
  },
  {
   "cell_type": "code",
   "execution_count": 44,
   "metadata": {},
   "outputs": [
    {
     "name": "stdout",
     "output_type": "stream",
     "text": [
      "[('love', 0.9978526830673218)]\n",
      "[('joy', 0.8134889006614685), ('sadness', 0.9712228178977966)]\n"
     ]
    }
   ],
   "source": [
    "\n",
    "# Sigmoid function for multi-label output\n",
    "sigmoid = lambda x: 1 / (1 + np.exp(-x))\n",
    "\n",
    "# Get label index mapping\n",
    "id2label = dataset['train'].features['labels'].feature.int2str\n",
    "\n",
    "\n",
    "def predict_emotions(text, threshold=0.5):\n",
    "    # Tokenize and move input to correct device\n",
    "    inputs = tokenizer(text, return_tensors=\"pt\", truncation=True, padding=True, max_length=128)\n",
    "    inputs = {k: v.to(device) for k, v in inputs.items()}\n",
    "\n",
    "    with torch.no_grad():\n",
    "        logits = model(**inputs).logits\n",
    "        probs = sigmoid(logits.cpu().numpy()[0])  # move to CPU before numpy\n",
    "\n",
    "    # Return all emotions with prob >= threshold\n",
    "    return [(id2label(i), float(p)) for i, p in enumerate(probs) if p >= threshold]\n",
    "\n",
    "# Example\n",
    "#print(predict_emotions(\"I am scared and angry, but also a bit hopeful.\"))\n",
    "\n",
    "print(predict_emotions(\"loved\"))\n",
    "print(predict_emotions(\"I am happy and sad at the same time.\"))\n"
   ]
  }
 ],
 "metadata": {
  "kernelspec": {
   "display_name": "tf_m1",
   "language": "python",
   "name": "python3"
  },
  "language_info": {
   "codemirror_mode": {
    "name": "ipython",
    "version": 3
   },
   "file_extension": ".py",
   "mimetype": "text/x-python",
   "name": "python",
   "nbconvert_exporter": "python",
   "pygments_lexer": "ipython3",
   "version": "3.9.7"
  }
 },
 "nbformat": 4,
 "nbformat_minor": 2
}
