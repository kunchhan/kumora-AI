{
 "cells": [
  {
   "cell_type": "markdown",
   "metadata": {},
   "source": [
    "# Load Data Set"
   ]
  },
  {
   "cell_type": "code",
   "execution_count": 59,
   "metadata": {},
   "outputs": [
    {
     "name": "stdout",
     "output_type": "stream",
     "text": [
      "Using device: mps\n",
      "Column names: ['Unnamed: 0', 'text', 'emotions']\n",
      "{'text': [\"I'm feel so energetic right now, like I could conquer the world! My skin is glowing and I actually want to go out tonight.\", 'Dating in my 30s is exhausting. Feeling lonely but trying to stay hopeful.', 'Dating in my 30s is exhausting. Feeling lonely but trying to stay hopeful.', 'My best friend just gets me. After our talk, I feel supported and understood.', 'Feeling incredibly confident and attractive right now. Is this what they mean by ovulation glow?'], 'emotions': [\"{'Improved mood': 1, 'Hopefulness': 0, 'Renewed energy': 0, 'Optimism': 0, 'Productivity': 0, 'Clarity': 0, 'Confidence': 0, 'High energy': 0, 'Sociability': 0, 'Empowerment': 0, 'Motivation': 0, 'Sadness': 0, 'Tearfulness': 0, 'Low self-esteem': 1, 'Loneliness or Isolation': 0, 'Feeling overwhelmed': 0, 'Anger or frustration': 0, 'Irritability': 0, 'Mood swings': 0, 'Anxiety': 0, 'Sensitivity to rejection': 0, 'Restlessness': 0, 'Emotional sensitivity': 1, 'Physical discomfort': 0, 'Attractiveness': 0, 'Sexual drive': 0, 'Feeling in control': 0, 'Gratitude': 1, 'Relief': 1}\", \"{'Improved mood': 0, 'Hopefulness': 0, 'Renewed energy': 0, 'Optimism': 0, 'Productivity': 0, 'Clarity': 0, 'Confidence': 0, 'High energy': 0, 'Sociability': 0, 'Empowerment': 0, 'Motivation': 0, 'Sadness': 0, 'Tearfulness': 1, 'Low self-esteem': 1, 'Loneliness or Isolation': 0, 'Feeling overwhelmed': 1, 'Anger or frustration': 0, 'Irritability': 0, 'Mood swings': 0, 'Anxiety': 0, 'Sensitivity to rejection': 0, 'Restlessness': 0, 'Emotional sensitivity': 0, 'Physical discomfort': 1, 'Attractiveness': 0, 'Sexual drive': 0, 'Feeling in control': 0, 'Relief': 1}\", \"{'Improved mood': 0, 'Hopefulness': 0, 'Renewed energy': 0, 'Optimism': 1, 'Productivity': 0, 'Clarity': 0, 'Confidence': 0, 'High energy': 0, 'Sociability': 0, 'Empowerment': 0, 'Motivation': 0, 'Sadness': 0, 'Tearfulness': 0, 'Low self-esteem': 1, 'Loneliness or Isolation': 0, 'Feeling overwhelmed': 1, 'Anger or frustration': 0, 'Irritability': 0, 'Mood swings': 0, 'Anxiety': 0, 'Sensitivity to rejection': 0, 'Restlessness': 0, 'Emotional sensitivity': 0, 'Physical discomfort': 0, 'Attractiveness': 0, 'Sexual drive': 0, 'Feeling in control': 0, 'Relief': 1}\", \"{'Improved mood': 0, 'Hopefulness': 0, 'Renewed energy': 0, 'Optimism': 0, 'Productivity': 0, 'Clarity': 0, 'Confidence': 0, 'High energy': 0, 'Sociability': 0, 'Empowerment': 1, 'Motivation': 0, 'Sadness': 0, 'Tearfulness': 0, 'Low self-esteem': 1, 'Loneliness or Isolation': 0, 'Feeling overwhelmed': 1, 'Anger or frustration': 0, 'Irritability': 1, 'Mood swings': 0, 'Anxiety': 1, 'Sensitivity to rejection': 0, 'Restlessness': 0, 'Emotional sensitivity': 0, 'Physical discomfort': 0, 'Attractiveness': 0, 'Sexual drive': 0, 'Feeling in control': 0}\", \"{'Improved mood': 0, 'Hopefulness': 0, 'Renewed energy': 0, 'Optimism': 0, 'Productivity': 0, 'Clarity': 0, 'Confidence': 1, 'High energy': 1, 'Sociability': 1, 'Empowerment': 1, 'Motivation': 0, 'Sadness': 0, 'Tearfulness': 0, 'Low self-esteem': 0, 'Loneliness or Isolation': 0, 'Feeling overwhelmed': 0, 'Anger or frustration': 0, 'Irritability': 0, 'Mood swings': 0, 'Anxiety': 0, 'Sensitivity to rejection': 0, 'Restlessness': 0, 'Emotional sensitivity': 0, 'Physical discomfort': 0, 'Attractiveness': 1, 'Sexual drive': 1, 'Feeling in control': 0}\"]}\n"
     ]
    }
   ],
   "source": [
    "# Menstruation the dataset structure\n",
    "# load CSV dataset file and split into train and validation sets\n",
    "from datasets import load_dataset \n",
    "# Load the dataset from a CSV file\n",
    "import torch\n",
    "\n",
    "device = torch.device(\"cuda\" if torch.cuda.is_available() else \"mps\" if torch.backends.mps.is_available() else \"cpu\")\n",
    "print(f\"Using device: {device}\")\n",
    "\n",
    "#Rawdataset = load_dataset(\"csv\", data_files={\"dataset\": \"../../dataset/menstrual_emotion/menstruation-emotionDSclean.csv\"})\n",
    "Rawdataset = load_dataset(\"csv\", data_files={\"dataset\": \"../../dataset/menstrual_emotion/synthetic_data_womens_health.csv\"})\n",
    "# Display the first few rows of the dataset \n",
    "#print(dataset[\"dataset\"][:5])  # Display the first 5 rows\n",
    "\n",
    "print(f\"Column names: {Rawdataset['dataset'].column_names}\") \n",
    "columns_to_keep = ['text', 'emotions']\n",
    "\n",
    "# Remove all other columns\n",
    "Rawdataset = Rawdataset.remove_columns([col for col in Rawdataset['dataset'].column_names if col not in columns_to_keep])\n",
    "\n",
    "print(Rawdataset[\"dataset\"][:5])  # Display the first 5 rows"
   ]
  },
  {
   "cell_type": "code",
   "execution_count": 38,
   "metadata": {},
   "outputs": [],
   "source": [
    "import random\n",
    "import pandas as pd\n",
    "\n",
    "class MenstrualSyntheticDataGenerator:\n",
    "    def __init__(self):\n",
    "        self.scenarios = {\n",
    "            \"menstrual_phase\": {\n",
    "                \"follicular\": [\n",
    "                    \"I'm feeling so energetic today, like I could conquer the world! My skin is glowing and I actually want to go out tonight.\",\n",
    "                    \"Finally feeling clear-headed after last week. I'm ready to tackle that project I've been putting off.\",\n",
    "                    \"Woke up feeling optimistic about everything. Maybe it's just my hormones, but I'll take it!\"\n",
    "                ],\n",
    "                \"ovulation\": [\n",
    "                    \"Feeling incredibly confident and attractive today. Is this what they mean by ovulation glow?\",\n",
    "                    \"My energy is through the roof and I feel so social. Called three friends just to chat!\",\n",
    "                    \"Everything feels possible today. Started two new projects and signed up for that class.\"\n",
    "                ],\n",
    "                \"luteal\": [\n",
    "                    \"Why am I crying at this commercial? I know it's just PMS but these emotions feel so real.\",\n",
    "                    \"Feeling irritable and bloated. Just want to hide under a blanket with chocolate.\",\n",
    "                    \"My anxiety is through the roof today. Everything feels overwhelming and I can't focus.\"\n",
    "                ],\n",
    "                \"menstrual\": [\n",
    "                    \"Cramps are killing me and I feel so emotional. Called in sick because I just can't today.\",\n",
    "                    \"Feeling drained but also weirdly relieved that my period finally came. Time for self-care.\",\n",
    "                    \"The pain is manageable today but I'm exhausted. Grateful for a quiet day at home.\"\n",
    "                ]\n",
    "            },\n",
    "            \"life_transitions\": [\n",
    "                \"Starting this new job has me feeling anxious but also hopeful. It's scary and exciting at the same time.\",\n",
    "                \"Becoming a mom has brought so many emotions - joy, fear, overwhelming love, and complete exhaustion.\",\n",
    "                \"Going through menopause and these mood swings are intense. One moment I'm fine, the next I'm furious.\"\n",
    "            ],\n",
    "            \"relationships\": [\n",
    "                \"Had a fight with my partner and feeling so hurt and misunderstood. Why is communication so hard?\",\n",
    "                \"My best friend just gets me. After our talk, I feel supported and understood.\",\n",
    "                \"Dating in my 30s is exhausting. Feeling lonely but trying to stay hopeful.\"\n",
    "            ],\n",
    "            \"self_care\": [\n",
    "                \"Took a mental health day and already feeling more in control. Sometimes you just need to pause.\",\n",
    "                \"Finally went to therapy and feeling vulnerable but proud of myself for taking this step.\",\n",
    "                \"Started exercising again and the endorphins are real! Feeling motivated and strong.\"\n",
    "            ]\n",
    "        }\n",
    "        self.emotion_combinations = {\n",
    "            \"menstrual_mixed\": [\n",
    "                \"Physical discomfort\", \"Tearfulness\", \"Relief\", \n",
    "                \"Feeling overwhelmed\", \"Low self-esteem\"\n",
    "            ]\n",
    "        }\n",
    "\n",
    "    def _add_variations(self, text):\n",
    "        variations = [\n",
    "            (\"feeling\", random.choice([\"feeling\", \"feel\", \"experiencing\", \"going through\"])),\n",
    "            (\"today\", random.choice([\"today\", \"right now\", \"at the moment\", \"lately\"])),\n",
    "            (\"so\", random.choice([\"so\", \"really\", \"incredibly\", \"quite\", \"very\"]))\n",
    "        ]\n",
    "        for original, replacement in variations:\n",
    "            if original in text and random.random() > 0.5:\n",
    "                text = text.replace(original, replacement, 1)\n",
    "        return text\n",
    "\n",
    "    def _assign_emotions(self, emotion_combo):\n",
    "        all_emotions = sorted(list(set([\n",
    "            e for emotions in self.emotion_combinations.values() for e in emotions\n",
    "        ])))\n",
    "        emotion_labels = {emotion: 0 for emotion in all_emotions}\n",
    "        base_emotions = self.emotion_combinations[emotion_combo]\n",
    "        for emotion in base_emotions:\n",
    "            if random.random() > 0.2:\n",
    "                emotion_labels[emotion] = 1\n",
    "        for emotion in all_emotions:\n",
    "            if emotion not in base_emotions and random.random() > 0.95:\n",
    "                emotion_labels[emotion] = 1\n",
    "        return emotion_labels\n",
    "\n",
    "    def generate_menstrual_samples(self, n_samples=100):\n",
    "        samples = []\n",
    "        for _ in range(n_samples):\n",
    "            base_text = random.choice(self.scenarios[\"menstrual_phase\"][\"menstrual\"])\n",
    "            text = self._add_variations(base_text)\n",
    "            emotions = self._assign_emotions(\"menstrual_mixed\")\n",
    "            samples.append({'text': text, **emotions})\n",
    "        return samples\n"
   ]
  },
  {
   "cell_type": "code",
   "execution_count": null,
   "metadata": {},
   "outputs": [
    {
     "name": "stdout",
     "output_type": "stream",
     "text": [
      "The length of synthetic data: 500.\n"
     ]
    },
    {
     "data": {
      "text/html": [
       "<div>\n",
       "<style scoped>\n",
       "    .dataframe tbody tr th:only-of-type {\n",
       "        vertical-align: middle;\n",
       "    }\n",
       "\n",
       "    .dataframe tbody tr th {\n",
       "        vertical-align: top;\n",
       "    }\n",
       "\n",
       "    .dataframe thead th {\n",
       "        text-align: right;\n",
       "    }\n",
       "</style>\n",
       "<table border=\"1\" class=\"dataframe\">\n",
       "  <thead>\n",
       "    <tr style=\"text-align: right;\">\n",
       "      <th></th>\n",
       "      <th>text</th>\n",
       "      <th>Feeling overwhelmed</th>\n",
       "      <th>Low self-esteem</th>\n",
       "      <th>Physical discomfort</th>\n",
       "      <th>Relief</th>\n",
       "      <th>Tearfulness</th>\n",
       "    </tr>\n",
       "  </thead>\n",
       "  <tbody>\n",
       "    <tr>\n",
       "      <th>0</th>\n",
       "      <td>The pain is manageable today but I'm exhausted...</td>\n",
       "      <td>0</td>\n",
       "      <td>0</td>\n",
       "      <td>1</td>\n",
       "      <td>1</td>\n",
       "      <td>1</td>\n",
       "    </tr>\n",
       "    <tr>\n",
       "      <th>1</th>\n",
       "      <td>Feeling drained but also weirdly relieved that...</td>\n",
       "      <td>1</td>\n",
       "      <td>1</td>\n",
       "      <td>1</td>\n",
       "      <td>0</td>\n",
       "      <td>1</td>\n",
       "    </tr>\n",
       "    <tr>\n",
       "      <th>2</th>\n",
       "      <td>Cramps are killing me and I feel so emotional....</td>\n",
       "      <td>1</td>\n",
       "      <td>1</td>\n",
       "      <td>1</td>\n",
       "      <td>1</td>\n",
       "      <td>0</td>\n",
       "    </tr>\n",
       "    <tr>\n",
       "      <th>3</th>\n",
       "      <td>Cramps are killing me and I feel so emotional....</td>\n",
       "      <td>1</td>\n",
       "      <td>1</td>\n",
       "      <td>1</td>\n",
       "      <td>1</td>\n",
       "      <td>1</td>\n",
       "    </tr>\n",
       "    <tr>\n",
       "      <th>4</th>\n",
       "      <td>Feeling drained but also weirdly relieved that...</td>\n",
       "      <td>0</td>\n",
       "      <td>1</td>\n",
       "      <td>1</td>\n",
       "      <td>1</td>\n",
       "      <td>0</td>\n",
       "    </tr>\n",
       "  </tbody>\n",
       "</table>\n",
       "</div>"
      ],
      "text/plain": [
       "                                                text  Feeling overwhelmed  \\\n",
       "0  The pain is manageable today but I'm exhausted...                    0   \n",
       "1  Feeling drained but also weirdly relieved that...                    1   \n",
       "2  Cramps are killing me and I feel so emotional....                    1   \n",
       "3  Cramps are killing me and I feel so emotional....                    1   \n",
       "4  Feeling drained but also weirdly relieved that...                    0   \n",
       "\n",
       "   Low self-esteem  Physical discomfort  Relief  Tearfulness  \n",
       "0                0                    1       1            1  \n",
       "1                1                    1       0            1  \n",
       "2                1                    1       1            0  \n",
       "3                1                    1       1            1  \n",
       "4                1                    1       1            0  "
      ]
     },
     "execution_count": 45,
     "metadata": {},
     "output_type": "execute_result"
    }
   ],
   "source": [
    "# Reverse emotion mapping for consistency\n",
    "ObjGenerator = MenstrualSyntheticDataGenerator()\n",
    "samples = ObjGenerator.generate_menstrual_samples(500)\n",
    "dataset_men = pd.DataFrame(samples)\n",
    "\n",
    "\n",
    "#menstrual_only = [s for s in samples if \"period\" in s[\"text\"].lower() or \"cramps\" in s[\"text\"].lower()]\n",
    "print(f\"The length of synthetic data: {len(dataset_men)}.\")\n",
    "#dataset_men.to_csv(\"synt_menstrual_data.csv\")\n",
    "dataset_men.head()"
   ]
  },
  {
   "cell_type": "code",
   "execution_count": 53,
   "metadata": {},
   "outputs": [
    {
     "name": "stdout",
     "output_type": "stream",
     "text": [
      "Filtered dataset size: 91\n"
     ]
    }
   ],
   "source": [
    "def filter_unlabeled(dataset):\n",
    "    filtered = []\n",
    "    for row in dataset:\n",
    "        label = row.get('label')\n",
    "        if label is not None and label.strip().lower() not in ['', 'none', 'unlabeled']:  # remove None, '', 'None'\n",
    "            filtered.append(row)\n",
    "    return filtered\n",
    "\n",
    "dataset = filter_unlabeled(Rawdataset['dataset'])  # or dataset['train'] etc.\n",
    "print(f\"Filtered dataset size: {len(dataset)}\")"
   ]
  },
  {
   "cell_type": "code",
   "execution_count": 55,
   "metadata": {},
   "outputs": [
    {
     "name": "stdout",
     "output_type": "stream",
     "text": [
      "Number of unique labels: 32\n",
      "Display Labels {'Anxiety': 0, 'Confidence': 1, 'Emotional sensitivity': 2, 'Emotional sensitivity (PMS)': 3, 'Emotional sensitivity (gratitude': 4, 'Empathy': 5, 'Empowerment (validation from shared experience)': 6, 'Fatigue': 7, 'Feeling in control': 8, 'Feeling overwhelmed': 9, 'Feeling overwhelmed (variability of severity implied)': 10, 'Hopefulness': 11, 'Improved mood': 12, 'Informational': 13, 'Irritability': 14, 'Loneliness': 15, 'Loneliness or Isolation': 16, 'Low self-esteem': 17, 'Mild emotional sensitivity': 18, 'Mild physical discomfort': 19, 'Mood swings': 20, 'Motivation': 21, \"Optimism (positive acknowledgment of others' experience)\": 22, 'Physical discomfort': 23, 'Physical discomfort (back pains)': 24, 'Physical discomfort (mild)': 25, 'Realization': 26, 'Restlessness': 27, 'Sadness': 28, 'Tearfulness': 29, 'earfulness': 30, 'empathy)': 31}\n",
      "[{'comment': 'Constant bloating and fatigue, punctuated by bouts of sharp stomach pain.\\nPeriods are always unpleasant, but if any of your friends seem completely debilitated by them, they may want to talk to an OBGYN about the possibility that they may have endometriosis...', 'label': 'Physical discomfort, Fatigue'}, {'comment': 'I rather seems to be sometimes randomly during the period. I understand from that that the level of horribleness varies during the period. Does it?', 'label': 'Mood swings, Feeling overwhelmed (variability of severity implied)'}, {'comment': \"In my experience, yes. Some days during one's period are worse than others. The severity of one's period can also vary month to month based on things like stress and diet. But if one regularly has debilitating period cramps month after month that don't respond well to painkillers, it may be a sign of endo.\", 'label': 'Physical discomfort, Feeling overwhelmed, Anxiety'}, {'comment': \"For me, it's unrelenting. Pretend your balls are in your pelvis and they are getting kicked every five minutes. It also feels like my vagina is being tugged on. But I have severe endometriosis and am now on medication that stops my periods all together. I don't know how I survived that hell for over a decade. \", 'label': 'Physical discomfort, Feeling overwhelmed, Anxiety, Sadness'}, {'comment': \"Definitely. Mine is worst at the beginning and gets better as the week goes on. On a good month, I'll have moderate cramps the first day or two without many other symptoms. But sometimes on day 1 I have fever-like symptoms without the actual fever (cold sweats, weak/achy muscles, general brain fog feeling) and severe cramps, and then I know cramps will probably last until day 4. I take painkillers for them, but sometimes I'll forget or the cramps will come back before I'm due for my next pill, so there are sometimes 30-60 minute periods of pain in the middle of the day.\", 'label': 'Physical discomfort, Feeling overwhelmed, Fatigue'}, {'comment': \"Periods are not always unpleasant, though. The range varies considerably, and mine is not bad at all, for instance. Lasts 2 days, minimal cramps that are predictable and cured with an Advil... Women's experiences range a lot, and some are not bothered. The 3-5 days prior, though, are definitely difficult for me, whereas some women don't experience PMS\", 'label': 'Physical discomfort (mild), Mood swings, Emotional sensitivity (PMS)'}, {'comment': 'You don’t necessarily have endometriosis if you get debilitated, but yes, defo talk to an OBGYN\\n\\nLove from someone who’s debilitated by the cramps and I have a high as pain tolerance from chronic pain >.<', 'label': 'Physical discomfort, Feeling overwhelmed, Fatigue'}, {'comment': \"Ever had a cramp in your leg? Well now it's in your insides and last for three to five days. \", 'label': 'Physical discomfort, Feeling overwhelmed'}, {'comment': 'Ouch.', 'label': 'Physical discomfort'}, {'comment': 'That\\'s the physical answer tk what a period is. A bunch of muscles spasming and cramping for around five days. Blood only moves when there is pressure. It makes it easier to understand the symptoms. This idea it \"flows\" makes it sound so passive. No our bodies are continuously doing a heavy task for five days. It does just \"flow\" out. But that\\'s because of a lot of work. Good job little bod! ', 'label': 'Physical discomfort, Fatigue, Feeling overwhelmed'}, {'comment': 'It’s like having diarrhea but it doesn’t get better after you poop - it gets worse and then you get a rash from where your blood and shit mixes and you’ve had to scrub clean. \\n\\nI’m sorry I know it’s gross, but like, it’s honestly suffering. I’ve never felt a pain worse than my cramps and I’ve skidded across the pavement face first for five feet with the scars to prove it. \\n\\nAlso the actual blood coming out feels like I’m constantly peeing my pants. Im a grown ass human I should not have to worry something like that but every month it’s a panic.', 'label': 'Physical discomfort, Anxiety, Feeling overwhelmed, Restlessness'}, {'comment': 'Now I actually tried this out irl. I can picture the sensation, and it must be pretty awful to have for a few days every month 0_o', 'label': 'Physical discomfort, Feeling overwhelmed'}, {'comment': 'Speaking to some guy friends, the feeling of cramping is similar to the feeling of your testicles being hit. So, imaginean invisible hand just slowly squeezing your balls tighter and tighter at random times of the day. Talking to the boss? Here comes the squeezing. Dont show it on your face though. Trying to focus during an exam? Nope. Here comes the ball squeezing. Trying to enjoy a quiet evening with the SO? Nope. Your balls are being squeezed by a ghost. The entire time, the majority of the public expects you to just ignore it and push on through. It sucks, but when it starts around 12/13 years old, you eventually learn how to manage it. However, having folks who can give you a damn minute to compose yourself after a rough bout of cramps is extremely helpful.', 'label': 'Physical discomfort, Anxiety, Restlessness, Emotional sensitivity'}, {'comment': \"Oh. Oh no. Oh god no. Oh god please no. Jesus god no. I'm praying for you now. Oh god no.\", 'label': 'Anxiety, Emotional sensitivity, Feeling overwhelmed'}, {'comment': 'But, as mentioned many women don\\'t have bad cramps. I often do, though. Just be patient with ladies during menstruation and don\\'t think its \"shes PMSing\". No, shes dealing with a whole week long situation while also dealing with the usual life bullshit. ', 'label': 'Physical discomfort, Emotional sensitivity, Feeling overwhelmed, Mood swings'}, {'comment': 'Like being stabbed multiple times in different areas of your body for ten days a month every month for fifty years.', 'label': 'Physical discomfort, Feeling overwhelmed'}, {'comment': 'True that, but don’t forget the potential side effects many of us go through:\\n\\n\\nLightheadedness, Nausea (from pain), random headaches, muscle cramps/aches, diarrhea for the first couple days, severe body fatigue, boob pain/swelling, and let’s not forget the classic mood swings from hormones and hating your painful existence and lack of sleep caused by (any or all) of the listed symptoms.\\n\\nGuys, imagine waking up at 2am in pain, covered in blood (and your clothes/sheets), feeling all of the above symptoms listed earlier and forcing yourself to swallow painkillers and have a shower and barely get another 30 minutes  sleep before getting up for work because the bloody painkillers took hours to kick in.\\n\\nNot really a health issue, but let’s throw in “panicking from knowing you can’t change your pad/tampon for several hours at work/an outing and fearing not having constant access to a toilet”. \\n\\nAnd there are women who bleed heavily so guys please imagine having to think of an excuse for the toilet again after everyone noticed you going to the toilet 20 minutes before.\\n\\nAND we have to pay money for “luxury comfort items” such as hygiene products, painkillers, head pads, ruined clothing/sheets that needs to be replaced, and he’ll let’s throw in maybe 20 bucks of comfort food since you can’t stomach anything. We have to pay for all of that AFTER LOSING WORK DAYS from being sick.\\n\\nThroughout all of this, you can literally feel gloppy clumps of blood exit you, and have to keep a straight face in public when you stand up and feel it sliding out. \\n\\nIf you use tampons instead of pads, they can also cause cramps, and make you need to pee constantly (from experience).\\n\\n\\nI think this covers the existential hell us women deal with and worry about.', 'label': 'Physical discomfort, Anxiety, Mood swings, Fatigue, Emotional sensitivity, Restlessness'}, {'comment': 'This is the single most accurate description of a period I have ever read in my life. Thank you for this gift.', 'label': 'Emotional sensitivity, Empowerment (validation from shared experience)'}, {'comment': 'You covered this so thoroughly. ', 'label': 'Emotional sensitivity (gratitude, empathy)'}, {'comment': \"Sometimes I don't have any symptoms and sometimes I feel like death is coming for me. \\n\\nPainful cramps, exhaustion, upset stomach/period poops, nausea, headaches, feeling like I'm bleeding out, achy body, discomfort, bloating. Fun stuff, especially when it lasts a week (or more for me sometimes) and you still have to do all of the things you're responsible for while feeling that way. \", 'label': 'Physical discomfort, Anxiety, Feeling overwhelmed, Mood swings, Restlessness'}, {'comment': \"I may be in the minority but I get no period pain or mood swings. I just bleed for a couple of days and it's mildly annoying. That's it.\", 'label': 'Mild physical discomfort'}, {'comment': 'Same! And I have mild cramps on the first day and that’s it. My period has never been debilitating to me. *knocks on wood*', 'label': 'Mild physical discomfort'}, {'comment': 'Same here! No period pains but I get back pains. I just get EXTREMELY emotional. Like really.', 'label': 'Physical discomfort (back pains), Emotional sensitivity, Mood swings'}, {'comment': 'Usually the emotional part for me will be like \"Why is this commercial making me cry?\" and then a day later \"Oh... that explains it.\"', 'label': 'earfulness, Emotional sensitivity, Mood swings'}, {'comment': 'I’m the same way. No symptoms at all. I haven’t had a cramp in over a decade, and even before that they were always mild. Switching to a cup seemed to be what made them disappear completely. Now my period is a non-issue, once I get the cup in I forget about it completely and go on with my day. ', 'label': 'Feeling in control, Confidence'}, {'comment': 'I’m the same exact way, I didn’t realize until recently that this is a huge deal for some people', 'label': \"Empathy, Emotional sensitivity, Optimism (positive acknowledgment of others' experience)\"}, {'comment': \"Same. It's gross, but whatever.\", 'label': 'Mild emotional sensitivity, Confidence'}, {'comment': \"I never ever got cramps, ever. Just some acne. And then one time when I was...21? 22? I wound up spending day 1 vomiting and ever since I've gotten 2-3 days of horrible, horrible cramps.\", 'label': 'Physical discomfort, Anxiety, Feeling overwhelmed'}, {'comment': 'I was like this until I had a child. Now I feel bad for sometimes doubting women who had pain. ', 'label': 'Empathy, Emotional sensitivity, Realization'}, {'comment': 'God has smiled upon you, sister. Count yourself as blessed.', 'label': 'Hopefulness, Emotional sensitivity'}, {'comment': 'I feel lucky to be in the minority with you! I seldom get cramps, mild back/leg pain is usually the worst of it and easily fixed by ibuprofen. 3-4 days of light to moderate bleeding. \\n\\nI have friends who have it so much worse- bad cramps/nausea with each cycle, 5-7 days of bleeding. It varies so much between women.', 'label': 'Physical discomfort (mild), Empathy'}, {'comment': \"I don't get any of the mood effects. (Rarely, I might feel inexplicably optimistic and joyful before a period. Which is not what I usually hear about.) Although I DO get pain and heavy nonstop bleeding that usually lasts one to two weeks, so my mood is definitely negatively affected by that...but whose wouldn't?\\n\\nYes, I have PCOS, so I know mine aren't normal.\", 'label': 'Physical discomfort, Feeling overwhelmed, Sadness'}, {'comment': 'I have endometriosis (which is 1/10 women) which is the period lining growing outside the uterus and on organs = very painful periods. Sadly, under diagnoised as \"periods pain is normal.\" and there\\'s no cure and chopping off organs and hormones doesn\\'t do anything as endo makes its own estrogen to continue growing (shout out to Nancy Nook on Facebook for more treatment support).\\n\\nMy period feels like razor blades swimming in my lower stomach. I\\'ve done a Kylo Ren move and punch my stomach, which hurts less and distracts. Next worst is just blinding pain that I cannot stop thinking about, and I start sweating/vision narrows, and a few times I\\'ve passed out. I heard some related it to giving birth level pain. Outside pain is feeling that heavy flow. My period is like gushing awful and clotty, imagine your bit squeezing out raw liver the size of golf balls for days. Then be incredibly tired from the blood loss.\\n\\nOther, less endo crazy pain is like having a stomach flu rumbling or maybe extreme runners cramps that doesn\\'t go away.', 'label': 'Physical discomfort, Feeling overwhelmed, Anxiety, Fatigue'}, {'comment': \"Holy shit, couldn't imagine having this every month.\", 'label': 'Empathy, Anxiety'}, {'comment': \"For many, the pain starts at ovulation (from the build up of the period lining), then ends after the period when it is all gone. \\n\\nIn extreme cases, it just doesn't end and is 24/7 as it's grown over the organs, smushing the bowel and bladder causing pain there. Oh and add lots of pain during sex. Add some failed surgeries and it's all the scar tissue pulling around the uterus and organs adding more random pain. edit, then add you think you are crazy as no one believes this pain, including doctors, as period pain is normal. Take max dose of advil for 2 weeks a month and start stomach cramps off that.\", 'label': 'Physical discomfort, Anxiety, Feeling overwhelmed, Loneliness'}, {'comment': 'Thank you for describing endo so perfectly  ', 'label': 'Emotional sensitivity, Empathy'}, {'comment': \"+1 because I'll think of Kylo Ren whenever I get my period now.\\n\\nInstead of punching my stomach, I get the urge to punch stuff. Like, if I'm driving and a cramp kicks in, I want to punch the steering wheel. Hard. Idk why, it wouldn't help, but I feel compelled to.\", 'label': 'Physical discomfort, Irritability'}, {'comment': 'Like a bad flu, only you still have to go to work', 'label': 'Physical discomfort, Fatigue, Feeling overwhelmed'}, {'comment': 'Exhaustion,  weakness, stomach cramps, a lot of women have diarrhea and vomiting ', 'label': 'Physical discomfort, Fatigue, Feeling overwhelmed'}, {'comment': 'Loose bowel movements are completely normal during a period. I thought it was odd it happened to me every time so I googled it. Something to do with the cramping. ', 'label': 'Physical discomfort'}, {'comment': 'It has to do with hormone fluctuation. Specifically the drop in progesterone.  A rising progesterone level (among other things) causes constipation in pregnant women.  ', 'label': 'Informational'}, {'comment': \"Your body releases hormones that cause smooth muscle to contract. Your uterus is smooth muscle and the contractions help shed the lining (also, that's what the cramping is). Your gut is also smooth muscle and the hormones arent specific to any organ, so when they're released to contract the uterus, they also contract the guy which causes stool to move faster through the GI tract, which causes them to be looser. The less time it takes to go through your gut, the more water itll have and the looser itll be. \", 'label': 'Informational'}, {'comment': 'Varies from woman to woman (and cycle to cycle honestly).\\n\\nFor me, it\\'s mostly like a runny nose I can\\'t blow.  The first day has some mild cramping (think ate something bad and have that \"need to poop\" feeling without actually pooping).  Then, there are a few days of general bloating.  Then, I\\'m pretty much back to normal outside of some remaining \\'runny nose\\' nonsense.  I\\'m also extra tired through the whole thing.\\n\\nBut that experience is pretty mild and lucky compared to what a lot of women face.', 'label': 'Physical discomfort, Fatigue'}, {'comment': \"Mine vary by cycle, too! The more I'm exercising, the better and easier they are. It's one of my motivations for staying thin and fit. But, like you, the fatigue prior to menses seems unavoidable\", 'label': 'Fatigue, Motivation'}, {'comment': \"Mine have always been extremely painful and heavy. I have ovarian cysts that occasionally rupture, those are the worst. It's kinda like being sick, having no energy and having diarrhea, but also with some pain. \", 'label': 'Physical discomfort, Fatigue'}, {'comment': 'I sprained my ankle once and was laughing about within a couple of minutes.\\n\\nI had food poisoning for two days and dragged my butt to work for 10 hours each day, and no one even knew I was sick.\\n\\nI had exploding ovarian cysts twice and nope nope nope. I curled up in a ball and stayed that way for three days straight both times. I thought my appendix burst the first time, it was so bad.', 'label': 'Physical discomfort, Anxiety, Feeling overwhelmed'}, {'comment': 'Jeez that’s awful. I doubt that I could take a sprained ankle that easily. If I had food poisoning I doubt that I’d go anywhere except between my bedroom and the bathroom. And exploding cysts?!? I can’t even imagine that sort of suffering. I hope that everything has gotten better for you.', 'label': 'Anxiety, Feeling overwhelmed'}, {'comment': \"Yeah, the 1st two were years ago. The only thing they left me with was an achy ankle and a mild fear of Red Robin. I only mention them to illustrate how bad the cysts were. And even those were a while ago. But I'm always afraid of getting the cysts again.\", 'label': 'Anxiety'}, {'comment': \"For me, I have very bad PMS, it always happens a week before my period, I have serious depression + anxiety + withdrawal, I feel bad the entire week for no reason, I don't snap at people but I just lose whatever motivation and have really dark thought.\\n\\nWhen the period comes, thank goodness the mental problem goes away but it puts me in severe abdomen and lower back pain. It hurts when I stand too long, sit too long, and even laying down... Imagine being punched both from the front and back\", 'label': 'Physical discomfort, Anxiety, Sadness, Low self-esteem, Feeling overwhelmed'}, {'comment': \"It really depends on the person. Personally, I would like to stay in my room and not talk to anyone for 1 day, and then I'm good. If I'm in a relationship, I'm extra cuddly and just want to be held on that day.\\n\\nBut if you're just my friend, you don't have to treat me any differently. I appreciate the effort of asking though! :)\", 'label': 'Loneliness or Isolation, Emotional sensitivity'}, {'comment': \"I have very chill personality so I just need people to leave me alone, if I need them, I'll text/ call and when I do that, I hope the person I reach out be there for me because I rarely do so\", 'label': 'Loneliness or Isolation, Feeling in control'}, {'comment': 'i tend to feel lonely and depressed as my mental pms issues lol so (for me), having friends or crush text me to make me feel like i exist and matter to someone would be so nice. or feeling loved. but im not in a relationship or dating so i wouldnt know what your girlfriend or whomever it is youre trying to help would want, since i figure they already feel loved. for me my self esteem just drops and i dont know why. text back, engage, thats all really. ', 'label': 'Loneliness or Isolation, Sadness, Low self-esteem'}, {'comment': \"Like that feeling when you haven't eaten emough so you just think again and again about the darkest things?\", 'label': 'Sadness, Restlessness'}, {'comment': 'Everyone is different so you can\\'t really say, \"Girls want this. Do this.\"\\n\\nSpeaking for myself, during my period, I don\\'t want to do things or go places. I\\'m extra tired, I\\'m in pain, I feel nauseous. Those are the physical symptoms, and they\\'re enough to make me want to stay inside. But there\\'s also the pain of having to make sure you have enough tampons/pads and making sure there\\'s bathrooms wherever you\\'re gonna be. I personally feel smelly and unclean, even though I\\'m scrupulous about hygiene during that time. I\\'m cranky and miserable out in public during my period and feel like it\\'s +10 awkwardness then.\\n\\nSo if it can be avoided, I don\\'t want to *do* things. Go out to eat, run errands, visit friends. I\\'m not gonna enjoy it as much as normal. So not so much \"leave me alone\" as \"please don\\'t ask me to do stuff\", if that helps.', 'label': 'Physical discomfort, Fatigue, Anxiety, Emotional sensitivity, Feeling overwhelmed'}, {'comment': 'On top of everyone else’s stories, I want to add that it’s emotionally exhausting also. I find tampons uncomfortable, so there’s this dampness between my legs, the constant fear of bleeding through the front or back of I sit wrong (extra long pads are great, but feel kinda like a diaper). \\n\\nThat’s not to mention changing the pads, which often have little chunks in them (my biggest being about the size of my last pinky phalange. Not a clot, mind you, a meat chunk. Uterine lining. \\n\\nAlso it smells like wet pennies and fresh meat, so I personally feel like someone wiped the slaughterhouse floor with me. \\n\\nHooray for birth control! I don’t feel like a carcass!', 'label': 'Physical discomfort, Anxiety, Feeling overwhelmed, Emotional sensitivity'}, {'comment': \"Oh man, I feel for you. I bleed heavy, and have large clots, so I can't do the pads. I'm sorry that you have trouble with the tampons, because there's nothing worse than sitting in a big, wet, smelly pad. And you're right, there's an emotional/mental toll. You're like, high strung all day, worried about leaking or whether anyone can tell you're on your period. \\n\\nIt's like if you peed your pants and then just had to sit in it all day, cold and wet and smelling like pee. But it happens every month for days at a time.\", 'label': 'Physical discomfort, Anxiety, Feeling overwhelmed'}, {'comment': 'Man, that sounds like hell. So you need to change those frequently, to add to it? Holy shit, that sounds like hell.', 'label': 'Physical discomfort, Feeling overwhelmed'}, {'comment': \"Well, you can always use tampons instead, which is what I do, because I'm a hygiene freak and I feel too dirty with pads.\\n\\nBut there are a lot of issues with tampons as well. I have to buy the ultra sized ones, because I bleed a lot an certain days. But they're uncomfortable, because you can feel them in there, especially when they're filled. And I personally have to go change them every two hours or so.\\n\\nPlus there's that always-looming threat of Toxic Shock Syndrome, though I don't know anyone who's ever gotten it.\", 'label': 'Physical discomfort, Anxiety'}, {'comment': 'messy and unpleasant', 'label': 'Physical discomfort'}, {'comment': 'It’s totally different for everybody, and it can also be different for the same woman at different points in her life.\\n\\nWhen I was younger I had terrible, debilitating cramps.  They stopped after my daughter was born, but now I have leg and backaches the first few days and very, very strong mid cycle cramping. ', 'label': 'Physical discomfort, Fatigue'}, {'comment': 'It’s not really like you’re losing blood straight up, it’s the shedding of the uterus’ lining. I don’t think men realize that it isn’t so much like liquid blood as it is a goopy thick substance most of the time :X ', 'label': 'Emotional sensitivity'}, {'comment': 'Normal blood loss is up to 2 tablespoons (30ml) but you are not considered to have heavy flow unless you lose more than 80ml. I use a moon cup with handy volume markers on it and lose ~100ml per period, with ~70ml lost in a 24h period. So don\\'t take 2 tablespoons as standard.\\n\\nAlso, while your uterine lining has been building up over the month and is broken down and shed during a period, the blood released from that tissue (as the tiny blood vessels inside it break down too) comes from the general circulation. The uterus does not \"hold blood\" for a month then evacuate it. if it\\'s red  not brown, it\\'s fresh.', 'label': 'Physical discomfort'}, {'comment': \"It varies from one woman to the next, and also from month to month. Some women suffer terribly- especially if they have endometriosis. For others, it's just a minor annoyance. \", 'label': 'Physical discomfort'}, {'comment': \"Lower abdominal cramping is pretty standard, either a burning or stabbing sensation in the pelvic region is how it's commonly described. It hits you in waves and can be nauseating. Tensing up from the pain can lead to a lot of unrelated muscle cramping and fatigue, even if you're in good shape. It isn't uncommon to end up with sore abdominal, back and thigh muscles too. Water retention is also a fairly common annoyance as well. It isn't just an appearance based complaint about how those extra pounds look, that swelling makes clothes and jewelry hurt. Rings, bras, waistbands, seams all feel uncomfortably tight, even if they're not. It makes your skin very sensitive to any sort of pressure. Drinking extra water and tea helps shed that so you can be comfortable again, but you have to pee a lot more often throughout the day, which is annoying. Tampons and menstrual cups can be painful to wear at times. Pads can also be uncomfortable too. At best it's uncomfortable, at worst it's disruptively painful. \", 'label': 'Physical discomfort, Fatigue, Emotional sensitivity'}, {'comment': 'Before I never had severe period cramps but I got an Iud inserted and got to experience the true horrors of period cramps and all I gotta say is that the girls who get bad period cramps are truly troopers. Its an absolutely horrible experience ', 'label': 'Physical discomfort, Feeling overwhelmed'}, {'comment': \"I get pain like you wouldn't believe. I've broken arms that have hurt less. I once passed out in a subway train from the pain. I don't think I'm a wuss, because I've hurt myself in so many worse ways and laughed it off, but periods destroy me. I take a very carefully timed selection of particular painkillers for the first day and I can usually breeze through it most of the time. Otherwise, feels like something is clawing it's way out of my stomach... like there's a huge weight in your lower belly and it's pulsating with pain.\", 'label': 'Physical discomfort, Anxiety, Feeling overwhelmed'}, {'comment': 'Honestly, I\\'ve heard that if adult women (who have been getting their period for a long time now) are still immobilized by pain during their period, there\\'s something wrong and they should see their doctor about it. (But of course, doctors don\\'t always listen to women, especially not about period pain.)\\n\\nI\\'m on HBC, so my \"periods\" are super-mild. Sometimes there\\'s a bit of cramping, but mostly it\\'s just a dull ache. Calf cramps are way worse for me. If I soak through a tampon, things can get kind of...dicey down there, in terms of increased moisture and discomfort, but at this point in my life, I pretty much know what to expect and how frequently I need to change my tampon, so even that\\'s not a big deal.\\n\\nWhen I was in high school, I would get these nasty headaches--mayyybe migraines?--that would last two or three days before my period, and then the cramping would start and I\\'d be kind of miserable but still functional. But as I\\'ve grown up, and started taking medication, I don\\'t really notice it anymore.', 'label': 'Physical discomfort, Emotional sensitivity, Fatigue, Feeling overwhelmed'}, {'comment': 'Feels like someone is constantly digging their heels into my lower back while also clawing their talons through my uterus. I also get insanely bloated and feel very unsexy for a few days. \\n\\nThat’s about it, though. Since I’m on BC my bleeding is very scant, so that’s nice.', 'label': 'Physical discomfort, Low self-esteem'}, {'comment': 'It honestly feels like someone is scraping the inside layers of your body with a dull knife ', 'label': ' Physical discomfort'}, {'comment': 'Before I got an iud mine were painful with a lot of bloating, heavy bleeding, and dull constant pain from cramps. The pain felt like a boa constrictor was gripping my lower abdomen and upper thighs and squeezing me on and off for 3-4 days. I used to miss class and call off work when it was especially painful.  The IUD helps so much I barely get cramps now. \\n\\nI did go to the obgyn and they found cysts in my vagina which were removed, but that did not change the period pain level.', 'label': 'Physical discomfort, Fatigue, Feeling overwhelmed'}, {'comment': \"I recently described my experience to a guy friend. \\n\\nYou know that feeling if you scraped the palm of your hand with a spoon. It doesn't hurt but if you kept doing it it's uncomfortable. \\n\\nImagine that feeling from the inside. That's what I get for about 5 days a month. Just this dull scraping discomfort. \\n\\nBut with bloating and period poops.\", 'label': 'Physical discomfort'}, {'comment': \"I'm lucky. My only symptom is the bleeding itself, which is still gross but whatever. However for some women, it's really awful. My sister used to get such bad pains she would throw up.\", 'label': 'Physical discomfort'}, {'comment': 'Mine is absolutely awful. I literally feel better when I’m having the flu or pneumonia or something like that. I have a stabbing pain which radiates all the way to my legs which makes it unable for me to walk on the first day. I’m also super nauseous. Painkillers don’t help. \\n\\nAll my nearby organs are suffering as well.\\nI never have any problems with my stomach or intestines, I can eat donuts and fries for breakfast and everything works normally, but when I have my period, dear god. Everything I eat and drink comes out as either vomit or diarrhea. Tea? Vomit. An apple? Vomit. And it’s not once sometimes it’s like 4 times within 1 hour. I can’t eat anything, so I usually just don’t eat or drink the first day just to avoid vomiting 24/7. \\n\\nThank god it’s only the first day, sometimes also the second day. The remaining days of my period I’m fine. \\n\\nI should really see a doctor and request the pill or something.', 'label': 'Physical discomfort, Fatigue, Feeling overwhelmed'}, {'comment': 'In a way that a guy might understand, to me it often feels like that really uncomfortable, painful tight, tense feeling when you have intestinal discomfort. \\nbut it lasts for hours and hours, and going to the bathroom isnt the easy fix that it would be for stomach/digestive issues.', 'label': 'Physical discomfort'}, {'comment': \"A similar feeling to that is actually getting hit in the balls. It's the same kind of pain, but slightly lower, stronger and you have to curl up into a ball or it gets worse.\", 'label': 'Physical discomfort'}, {'comment': \"For me it kinda feels like cold sweats and a fever. Anything against my skin makes me feel sick and uncomfortable, almost like when I have strep or right before I get a really bad cold. I'll get really bad cramps that just make me feel exhausted and sick. Like it feels like I'm getting stabbed in the uterus, but also haven't slept for a week? If that makes sense. The only comparable pain was when I got my IUD inserted, but instead of lasting an hour or two it's 8 days. It is sleeping 12 hours but feeling like i only got 4 hours of sleep. It consists of worrying every 30 minutes about bleeding through my pants because if I don't change my tampons I'll bleed everywhere. Thank God for birth control because without it, I would still feel all this every month for 7-11 days.\", 'label': 'Physical discomfort, Fatigue, Anxiety, Feeling overwhelmed'}, {'comment': 'You feel fat and just generally uncomfortable. When it’s heavy you are constantly heading to the bathroom and it’s inconvenient \\nCramps hurt- imagine diarrhea cramps, that’s what they can feel like', 'label': 'Physical discomfort, Emotional sensitivity'}, {'comment': 'Have you ever had intense pain in your abdomen because you have to poop, but then you go to the toilet and sit and sit and sit and nothing happens?\\n\\nThat\\'s what it feels like for the two \\'heavy\\' days of my period. \\n\\nIn fact, I often spend a lot of time running to the bathroom because I\\'m *not really sure* if it\\'s just the period or if I *actually* need to poop. (I actually started pooping my pants once because I put my money on the wrong end of that bet ha)\\n\\nAbout three days before my period, I start feeling very tired, achy, and \"foggy\". Easy tasks feel hard, I lack motivation. I may feel more weepy or irritable (because of the nature of this \"brain fog\", I often start to worry that something is Wrong. Then I feel like an idiot when my period starts exactly on the day it was supposed to. Repeat this every month lol)\\n\\nAfter the second, heavy day, the tiredness / ache / fog pretty much lifts, and since the blood flow is just wrapping up, I can use lighter pads.\\n', 'label': 'Physical discomfort, Fatigue, Feeling overwhelmed, Low self-esteem, Irritability, Anxiety'}, {'comment': 'For a guy to understand the pain, settings aside the issues of dealing with menstrual blood, you should imaging the feeling you get in your intestines when you are severely constipated and really need to take a dump. That twisting, cramping, uncomfortable feeling without being able to actually take a dump. Now, move that feeling to the front, right about where your pubic hair starts. Now, increase the pain levels from 2 to 10 times since the pain comes in waves. Last step, imagine you\\'ve been awake for 48 hours straight with nothing to eat. So you are jittery, tired, your brain is muddled, you crave calories, and you have a very short fuse that could trigger bursts of anger, tears, or both. Let\\'s call this state \"hormones\". Now add hormones + pain + plus managing a unpredictable blood flow and you begin to understand that it\\'s a fucking miracle women don\\'t commit murder way more often.', 'label': 'Physical discomfort, Fatigue, Irritability, Tearfulness, Mood swings, Feeling overwhelmed'}, {'comment': 'The feeling in the intestines sounds about like getting your balls hit. Actually, the whole thing sounds like gastro-enteritis while getting your balls squeezed. Ouch.', 'label': 'Physical discomfort'}, {'comment': 'Like an acid drenched, serrated knife wielding sharknado from hell decided to pass through. :)', 'label': 'Physical discomfort'}, {'comment': \"Mine feels awesome. The onset of menses is when the bloating, sleepiness, constipation, hunger, mood swings, and bad feelings go away. It's literally the reset button for me, and mine is really light and easy, so the actual bleeding takes like 2 days and not much more than a pantyliner or 4\", 'label': 'Improved mood'}, {'comment': 'Im using a chip to prevent pregnancy and at first it was great, no pain, no impulsive emotions and no heavy bleeding... but i still bleed so, sad. ', 'label': 'Sadness'}, {'comment': 'Really bad gas pains but no relief.', 'label': 'Physical discomfort'}, {'comment': \"It depends a bit on the period. Sometimes you hardly notice them. Sometimes (I at least) wake up one morning and think holy shit what's wrong with my stomach, is this what an intestinal breakdown feels like? And sometimes the pain happens before the stains, so I have sometimes spend a day hoping it was just my period and that I wasn't just ignoring some significant symptoms of something else. \\nTbf again it isn't always the case, can be this way and that way, that's why the pain takes me by surprise occasionally. \", 'label': 'Physical discomfort, Anxiety, Feeling overwhelmed'}, {'comment': 'Pelvic pain, I guess you could compare it to a sore muscle (but not really, the pain is more visceral)\\nBlood clots coming out of the vagina.\\nOn days when the flow is heavy, you might feel like you are peeing, when in reality, it is just blood and mucus. \\nThis varies from person to person, but mood swings. Headaches, constant fatigue, lasting anywhere from a day to a week. Brain fog. \\nThe list goes on.', 'label': 'Physical discomfort, Fatigue, Mood swings, Feeling overwhelmed'}, {'comment': \"Before I got on meds mine was nearly unbearable. The pain is only one day but I can't keep food down , I have blacked out multiple times , and most times I just end up laying in a ball literally screaming into a pillow begging it to end . It sort of feels like someone has a hand inside your stomach , and for me , my lower back right above my butt and they're squeezing and twisting you. Someone describing it as a horrible leg cramp is correct but it's something that doesn't stop when you adjust . The back pain also has this constant pressure feeling of needing to take the biggest shit of your life that never comes out . It kind of feels like you're being ripped in half slowly. Mine are very extreme and not super normal though but on those days I can't even walk. Bless good birth control pills. Oh and sometimes all the cramping around your nerves actually makes my legs hurt too\", 'label': 'Physical discomfort, Fatigue, Feeling overwhelmed, Tearfulness'}, {'comment': \"-feels like you're always peeing but you can't stop it\\n-bloated\\n-stomach cramps\\n-constipation \\n-always need to go to the bathroom\\n-tired/lethargic\\n-paranoia that you're leaking \\n\\nOverall not that fun. 10/10 would ban\", 'label': 'Physical discomfort, Fatigue, Anxiety, Feeling overwhelmed'}, {'comment': \"It feels like my body is trying to give birth to a baby that doesn't exist\", 'label': 'Physical discomfort'}, {'comment': 'Constant fear of period stains on my pants while in public ', 'label': 'Anxiety'}, {'comment': 'I have endometriosis so periods were always painful.  \\n\\nWhen I was in labor in the hospital on bed rest, the belt to monitor contractions slipped so it wasn’t picking them up.  I was dilated to a 9 before it got too painful for me to not say something to a nurse.   My pain tolerance from nightmare periods is freakishly high.', 'label': 'Physical discomfort'}]\n"
     ]
    }
   ],
   "source": [
    "# Get all unique labels across dataset\n",
    "def get_unique_labels(dataset):\n",
    "    unique = set()\n",
    "    for row in dataset:\n",
    "        labels = [label.strip() for label in row['label'].split(',')]\n",
    "        unique.update(labels)\n",
    "    return sorted(unique)\n",
    "\n",
    "all_labels = get_unique_labels(dataset)  # or combine all splits if needed\n",
    "label2id = {label: i for i, label in enumerate(all_labels)}\n",
    "id2label = {i: label for label, i in label2id.items()}\n",
    "\n",
    "num_labels = len(label2id)\n",
    "print(f\"Number of unique labels: {num_labels}\")\n",
    "print(\"Display Labels\", label2id)\n",
    "\n",
    "print(dataset)"
   ]
  },
  {
   "cell_type": "code",
   "execution_count": 60,
   "metadata": {},
   "outputs": [
    {
     "name": "stdout",
     "output_type": "stream",
     "text": [
      "Number of training samples: 81\n",
      "Number of validation samples: 10\n",
      "Number of training samples: 81\n",
      "Number of validation samples: 10\n",
      "\n",
      "\n",
      "Training set sample:\n",
      "{'comment': ['Before I got an iud mine were painful with a lot of bloating, heavy bleeding, and dull constant pain from cramps. The pain felt like a boa constrictor was gripping my lower abdomen and upper thighs and squeezing me on and off for 3-4 days. I used to miss class and call off work when it was especially painful.  The IUD helps so much I barely get cramps now. \\n\\nI did go to the obgyn and they found cysts in my vagina which were removed, but that did not change the period pain level.'], 'label': ['Physical discomfort, Fatigue, Feeling overwhelmed']}\n",
      "Validation set sample:\n",
      "{'comment': [\"Well, you can always use tampons instead, which is what I do, because I'm a hygiene freak and I feel too dirty with pads.\\n\\nBut there are a lot of issues with tampons as well. I have to buy the ultra sized ones, because I bleed a lot an certain days. But they're uncomfortable, because you can feel them in there, especially when they're filled. And I personally have to go change them every two hours or so.\\n\\nPlus there's that always-looming threat of Toxic Shock Syndrome, though I don't know anyone who's ever gotten it.\"], 'label': ['Physical discomfort, Anxiety']}\n"
     ]
    }
   ],
   "source": [
    "from datasets import Dataset\n",
    "\n",
    "dataset = Dataset.from_list(dataset)  # Convert the list of dictionaries to a Dataset object \n",
    "\n",
    "\n",
    "# Split the dataset into train and validation sets\n",
    "split_dataset = dataset.train_test_split(test_size=0.1, seed=42)\n",
    "\n",
    "train_dataset_raw = split_dataset['train']\n",
    "val_dataset_raw = split_dataset['test']  #\n",
    "\n",
    "\n",
    "\n",
    "# Confirm counts\n",
    "print(f\"Number of training samples: {len(train_dataset_raw)}\")\n",
    "print(f\"Number of validation samples: {len(val_dataset_raw)}\")\n",
    "#print(f\"Number of test samples: {len(test_dataset_raw)}\")\n",
    "\n",
    "\n",
    "# Display the number of samples in each split\n",
    "print(f\"Number of training samples: {len(train_dataset_raw)}\")\n",
    "print(f\"Number of validation samples: {len(val_dataset_raw)}\")\n",
    "#print(f\"Number of test samples: {len(test_dataset_raw)}\")\n",
    "\n",
    "# Display the first few rows of the training set\n",
    "print(\"\\n\\nTraining set sample:\")\n",
    "print(train_dataset_raw[:1])  # Display the first 5 rows of the training set\n",
    "# Display the first few rows of the validation set\n",
    "print(\"Validation set sample:\")\n",
    "print(val_dataset_raw[:1])  # Display the first 5 rows of the validation set\n"
   ]
  },
  {
   "cell_type": "markdown",
   "metadata": {},
   "source": [
    "Label Pereparation"
   ]
  },
  {
   "cell_type": "code",
   "execution_count": 6,
   "metadata": {},
   "outputs": [
    {
     "data": {
      "application/vnd.jupyter.widget-view+json": {
       "model_id": "47af2abd3d8844948c82e4da5568c5eb",
       "version_major": 2,
       "version_minor": 0
      },
      "text/plain": [
       "Map:   0%|          | 0/81 [00:00<?, ? examples/s]"
      ]
     },
     "metadata": {},
     "output_type": "display_data"
    },
    {
     "data": {
      "application/vnd.jupyter.widget-view+json": {
       "model_id": "31ec424fc8dd40bcb6de4fb4361f9d1f",
       "version_major": 2,
       "version_minor": 0
      },
      "text/plain": [
       "Map:   0%|          | 0/10 [00:00<?, ? examples/s]"
      ]
     },
     "metadata": {},
     "output_type": "display_data"
    },
    {
     "name": "stdout",
     "output_type": "stream",
     "text": [
      "Head of train dataset:\n",
      "{'comment': \"It feels like my body is trying to give birth to a baby that doesn't exist\", 'label': 'Physical discomfort', 'labels': [0, 0, 0, 0, 0, 0, 0, 0, 0, 0, 0, 0, 0, 0, 0, 0, 0, 0, 0, 0, 0, 0, 0, 1, 0, 0, 0, 0, 0, 0, 0, 0]}\n",
      "\n",
      "Head of validation dataset:\n",
      "{'comment': \"Well, you can always use tampons instead, which is what I do, because I'm a hygiene freak and I feel too dirty with pads.\\n\\nBut there are a lot of issues with tampons as well. I have to buy the ultra sized ones, because I bleed a lot an certain days. But they're uncomfortable, because you can feel them in there, especially when they're filled. And I personally have to go change them every two hours or so.\\n\\nPlus there's that always-looming threat of Toxic Shock Syndrome, though I don't know anyone who's ever gotten it.\", 'label': 'Physical discomfort, Anxiety', 'labels': [1, 0, 0, 0, 0, 0, 0, 0, 0, 0, 0, 0, 0, 0, 0, 0, 0, 0, 0, 0, 0, 0, 0, 1, 0, 0, 0, 0, 0, 0, 0, 0]}\n"
     ]
    }
   ],
   "source": [
    "import numpy as np\n",
    "import torch\n",
    "from torch.nn import BCEWithLogitsLoss\n",
    "from collections import Counter\n",
    "\n",
    "def encode_labels(example):\n",
    "    labels = [0] * len(label2id)\n",
    "    for lbl in example['label'].split(','):\n",
    "        lbl = lbl.strip()\n",
    "        if lbl in label2id:\n",
    "            labels[label2id[lbl]] = 1\n",
    "    example[\"labels\"] = labels\n",
    "    return example\n",
    "\n",
    "# Apply to all splits\n",
    "train_dataset = train_dataset_raw.map(encode_labels)\n",
    "val_dataset = val_dataset_raw.map(encode_labels)\n",
    "\n",
    "print(\"Head of train dataset:\")\n",
    "print(train_dataset[1])\n",
    "print(\"\\nHead of validation dataset:\")\n",
    "print(val_dataset[0])\n"
   ]
  },
  {
   "cell_type": "code",
   "execution_count": 7,
   "metadata": {},
   "outputs": [
    {
     "data": {
      "application/vnd.jupyter.widget-view+json": {
       "model_id": "edd312d3540547898b0ee7aa4c0f3bcc",
       "version_major": 2,
       "version_minor": 0
      },
      "text/plain": [
       "Filter:   0%|          | 0/81 [00:00<?, ? examples/s]"
      ]
     },
     "metadata": {},
     "output_type": "display_data"
    },
    {
     "data": {
      "application/vnd.jupyter.widget-view+json": {
       "model_id": "69c235469a2a47708c7852a364c35e11",
       "version_major": 2,
       "version_minor": 0
      },
      "text/plain": [
       "Filter:   0%|          | 0/10 [00:00<?, ? examples/s]"
      ]
     },
     "metadata": {},
     "output_type": "display_data"
    },
    {
     "name": "stdout",
     "output_type": "stream",
     "text": [
      "Filtered train size: 81\n",
      "Filtered validation size: 10\n"
     ]
    }
   ],
   "source": [
    "# Filter Neutral Samples as empty samples add noise and teach the model that predicting nothing is normal\n",
    "# Filter training samples that have at least one label\n",
    "train_dataset = train_dataset.filter(lambda x: sum(x['labels']) > 0)\n",
    "val_dataset = val_dataset.filter(lambda x: sum(x['labels']) > 0)\n",
    "\n",
    "print(f\"Filtered train size: {len(train_dataset)}\")\n",
    "print(f\"Filtered validation size: {len(val_dataset)}\")"
   ]
  },
  {
   "cell_type": "code",
   "execution_count": 8,
   "metadata": {},
   "outputs": [
    {
     "name": "stdout",
     "output_type": "stream",
     "text": [
      "Average labels/sample: 2.493827160493827\n",
      "Unique label values: [0 1]\n"
     ]
    }
   ],
   "source": [
    "label_counts = [sum(example['labels']) for example in train_dataset]\n",
    "print(\"Average labels/sample:\", np.mean(label_counts))\n",
    "print(\"Unique label values:\", np.unique(train_dataset[0]['labels']))\n",
    "\n"
   ]
  },
  {
   "cell_type": "markdown",
   "metadata": {},
   "source": [
    "#Tokenize the Text with DistilBertTokenizer Fast"
   ]
  },
  {
   "cell_type": "code",
   "execution_count": 9,
   "metadata": {},
   "outputs": [
    {
     "data": {
      "application/vnd.jupyter.widget-view+json": {
       "model_id": "58b34388a414463fb5401827e9b2f704",
       "version_major": 2,
       "version_minor": 0
      },
      "text/plain": [
       "Map:   0%|          | 0/81 [00:00<?, ? examples/s]"
      ]
     },
     "metadata": {},
     "output_type": "display_data"
    },
    {
     "data": {
      "application/vnd.jupyter.widget-view+json": {
       "model_id": "eee26004520e47b1b53c263700c1c5a4",
       "version_major": 2,
       "version_minor": 0
      },
      "text/plain": [
       "Map:   0%|          | 0/10 [00:00<?, ? examples/s]"
      ]
     },
     "metadata": {},
     "output_type": "display_data"
    },
    {
     "name": "stdout",
     "output_type": "stream",
     "text": [
      "Head of tokenized train dataset:\n",
      "{'labels': tensor([0, 0, 0, 0, 0, 0, 0, 0, 0, 0, 0, 0, 0, 0, 0, 0, 0, 0, 0, 0, 0, 0, 0, 1,\n",
      "        0, 0, 0, 0, 0, 0, 0, 0]), 'input_ids': tensor([ 101, 2009, 5683, 2066, 2026, 2303, 2003, 2667, 2000, 2507, 4182, 2000,\n",
      "        1037, 3336, 2008, 2987, 1005, 1056, 4839,  102,    0,    0,    0,    0,\n",
      "           0,    0,    0,    0,    0,    0,    0,    0,    0,    0,    0,    0,\n",
      "           0,    0,    0,    0,    0,    0,    0,    0,    0,    0,    0,    0,\n",
      "           0,    0,    0,    0,    0,    0,    0,    0,    0,    0,    0,    0,\n",
      "           0,    0,    0,    0,    0,    0,    0,    0,    0,    0,    0,    0,\n",
      "           0,    0,    0,    0,    0,    0,    0,    0,    0,    0,    0,    0,\n",
      "           0,    0,    0,    0,    0,    0,    0,    0,    0,    0,    0,    0,\n",
      "           0,    0,    0,    0,    0,    0,    0,    0,    0,    0,    0,    0,\n",
      "           0,    0,    0,    0,    0,    0,    0,    0,    0,    0,    0,    0,\n",
      "           0,    0,    0,    0,    0,    0,    0,    0]), 'attention_mask': tensor([1, 1, 1, 1, 1, 1, 1, 1, 1, 1, 1, 1, 1, 1, 1, 1, 1, 1, 1, 1, 0, 0, 0, 0,\n",
      "        0, 0, 0, 0, 0, 0, 0, 0, 0, 0, 0, 0, 0, 0, 0, 0, 0, 0, 0, 0, 0, 0, 0, 0,\n",
      "        0, 0, 0, 0, 0, 0, 0, 0, 0, 0, 0, 0, 0, 0, 0, 0, 0, 0, 0, 0, 0, 0, 0, 0,\n",
      "        0, 0, 0, 0, 0, 0, 0, 0, 0, 0, 0, 0, 0, 0, 0, 0, 0, 0, 0, 0, 0, 0, 0, 0,\n",
      "        0, 0, 0, 0, 0, 0, 0, 0, 0, 0, 0, 0, 0, 0, 0, 0, 0, 0, 0, 0, 0, 0, 0, 0,\n",
      "        0, 0, 0, 0, 0, 0, 0, 0])}\n"
     ]
    }
   ],
   "source": [
    "from transformers import DistilBertTokenizerFast\n",
    "\n",
    "# Initialize the tokenizer\n",
    "# DistilBertTokenizerFast is a fast tokenizer for DistilBERT that uses the WordPiece algorithm. \n",
    "#distilbert-base-uncased is a pre-trained DistilBERT model that has been fine-tuned on the English language.\n",
    "\n",
    "\n",
    "tokenizer = DistilBertTokenizerFast.from_pretrained(\"distilbert-base-uncased\")\n",
    "\n",
    "def tokenize(batch):\n",
    "    return tokenizer(batch[\"comment\"], padding=\"max_length\", truncation=True, max_length=128)\n",
    "\n",
    "train_dataset_tk = train_dataset.map(tokenize, batched=True)\n",
    "val_dataset_tk = val_dataset.map(tokenize, batched=True)\n",
    "# test_dataset_tk = test_dataset.map(tokenize, batched=True)\n",
    "\n",
    "# This ensures your dataset is ready for PyTorch training\n",
    "train_dataset_tk.set_format(\"torch\", columns=[\"input_ids\", \"attention_mask\", \"labels\"])\n",
    "val_dataset_tk.set_format(\"torch\", columns=[\"input_ids\", \"attention_mask\", \"labels\"])\n",
    "# test_dataset_tk.set_format(\"torch\", columns=[\"input_ids\", \"attention_mask\", \"labels\"])\n",
    "\n",
    "print(\"Head of tokenized train dataset:\")\n",
    "print(train_dataset_tk[1])\n"
   ]
  },
  {
   "cell_type": "code",
   "execution_count": 10,
   "metadata": {},
   "outputs": [],
   "source": [
    "from transformers import Trainer\n",
    "from sklearn.metrics import f1_score, accuracy_score\n"
   ]
  },
  {
   "cell_type": "markdown",
   "metadata": {},
   "source": []
  },
  {
   "cell_type": "code",
   "execution_count": 11,
   "metadata": {},
   "outputs": [
    {
     "name": "stderr",
     "output_type": "stream",
     "text": [
      "Some weights of DistilBertForSequenceClassification were not initialized from the model checkpoint at distilbert-base-uncased and are newly initialized: ['classifier.bias', 'classifier.weight', 'pre_classifier.bias', 'pre_classifier.weight']\n",
      "You should probably TRAIN this model on a down-stream task to be able to use it for predictions and inference.\n"
     ]
    }
   ],
   "source": [
    "from transformers import DistilBertForSequenceClassification\n",
    "from transformers import TrainerCallback\n",
    "\n",
    "# use DistilBERT for multi-label classification with distilbert-base-uncased\n",
    "# DistilBERT is a smaller, faster, cheaper, and lighter version of BERT\n",
    "# It retains 97% of BERT's language understanding while being 60% faster and 40% smaller.\n",
    "\n",
    "# DistilBertForSequenceClassification is a DistilBERT model with a sequence classification head on top (a linear layer on top of the pooled output) e.g. for GLUE tasks.\n",
    "# distilbert-base-uncased is a pre-trained DistilBERT model that has been fine-tuned on the English language.\n",
    "\n",
    "\n",
    "model = DistilBertForSequenceClassification.from_pretrained(\n",
    "    \"distilbert-base-uncased\",\n",
    "    num_labels=num_labels,\n",
    "    problem_type=\"multi_label_classification\"\n",
    ").to(device)\n",
    "model = model.to(device)"
   ]
  },
  {
   "cell_type": "code",
   "execution_count": 12,
   "metadata": {},
   "outputs": [
    {
     "name": "stderr",
     "output_type": "stream",
     "text": [
      "/Users/prabhu/anaconda3/envs/tf_m1/lib/python3.9/site-packages/transformers/optimization.py:640: FutureWarning: This implementation of AdamW is deprecated and will be removed in a future version. Use the PyTorch implementation torch.optim.AdamW instead, or set `no_deprecation_warning=True` to disable this warning\n",
      "  warnings.warn(\n"
     ]
    }
   ],
   "source": [
    "from transformers import AdamW\n",
    "from torch.utils.data import DataLoader\n",
    "from sklearn.metrics import f1_score\n",
    "from tqdm import tqdm\n",
    "\n",
    "# Loss and optimizer\n",
    "criterion = torch.nn.BCEWithLogitsLoss() # BCEWithLogitsLoss is suitable for multi-label classification tasks \n",
    "optimizer = AdamW(model.parameters(), lr=2e-5)\n",
    "# DataLoader\n",
    "train_loader = DataLoader(train_dataset_tk, batch_size=16, shuffle=True)\n",
    "val_loader = DataLoader(val_dataset_tk, batch_size=16)\n",
    "\n",
    "def train_model(train_loader, val_loader, model, num_epoc=10, training_args=None):\n",
    "    for epoch in range(num_epoc):\n",
    "        model.train()\n",
    "        total_loss = 0\n",
    "        for batch in tqdm(train_loader, desc=f\"Training Epoch {epoch + 1}\"):\n",
    "            inputs = {k: v.to(device) for k, v in batch.items() if k != \"labels\"}\n",
    "            labels = batch[\"labels\"].to(device).float()\n",
    "\n",
    "            outputs = model(**inputs)\n",
    "            loss = criterion(outputs.logits, labels)\n",
    "\n",
    "            optimizer.zero_grad()\n",
    "            loss.backward()\n",
    "            optimizer.step()\n",
    "\n",
    "            total_loss += loss.item()\n",
    "\n",
    "        avg_loss = total_loss / len(train_loader)\n",
    "\n",
    "        # Evaluation\n",
    "        model.eval()\n",
    "        all_preds, all_labels = [], []\n",
    "        with torch.no_grad():\n",
    "            for batch in val_loader:\n",
    "                inputs = {k: v.to(device) for k, v in batch.items() if k != \"labels\"}\n",
    "                labels = batch[\"labels\"].cpu().numpy()\n",
    "                logits = model(**inputs).logits\n",
    "                probs = torch.sigmoid(logits).cpu().numpy()\n",
    "                preds = (probs >= 0.5).astype(int)\n",
    "\n",
    "                all_preds.extend(preds)\n",
    "                all_labels.extend(labels)\n",
    "\n",
    "        f1 = f1_score(all_labels, all_preds, average=\"micro\")\n",
    "\n",
    "        # \n",
    "        print(f\"Epoch {epoch + 1}: Train Loss = {avg_loss:.4f} | Val F1 = {f1:.4f}\")\n"
   ]
  },
  {
   "cell_type": "code",
   "execution_count": 13,
   "metadata": {},
   "outputs": [
    {
     "name": "stderr",
     "output_type": "stream",
     "text": [
      "Training Epoch 1: 100%|██████████| 6/6 [00:04<00:00,  1.46it/s]\n"
     ]
    },
    {
     "name": "stdout",
     "output_type": "stream",
     "text": [
      "Epoch 1: Train Loss = 0.6721 | Val F1 = 0.2524\n"
     ]
    },
    {
     "name": "stderr",
     "output_type": "stream",
     "text": [
      "Training Epoch 2: 100%|██████████| 6/6 [00:00<00:00,  7.54it/s]\n"
     ]
    },
    {
     "name": "stdout",
     "output_type": "stream",
     "text": [
      "Epoch 2: Train Loss = 0.6410 | Val F1 = 0.3846\n"
     ]
    },
    {
     "name": "stderr",
     "output_type": "stream",
     "text": [
      "Training Epoch 3: 100%|██████████| 6/6 [00:00<00:00,  7.55it/s]\n"
     ]
    },
    {
     "name": "stdout",
     "output_type": "stream",
     "text": [
      "Epoch 3: Train Loss = 0.5943 | Val F1 = 0.4211\n"
     ]
    },
    {
     "name": "stderr",
     "output_type": "stream",
     "text": [
      "Training Epoch 4: 100%|██████████| 6/6 [00:00<00:00,  7.54it/s]\n"
     ]
    },
    {
     "name": "stdout",
     "output_type": "stream",
     "text": [
      "Epoch 4: Train Loss = 0.5521 | Val F1 = 0.4571\n"
     ]
    },
    {
     "name": "stderr",
     "output_type": "stream",
     "text": [
      "Training Epoch 5: 100%|██████████| 6/6 [00:00<00:00,  7.54it/s]\n"
     ]
    },
    {
     "name": "stdout",
     "output_type": "stream",
     "text": [
      "Epoch 5: Train Loss = 0.5003 | Val F1 = 0.4242\n"
     ]
    },
    {
     "name": "stderr",
     "output_type": "stream",
     "text": [
      "Training Epoch 6: 100%|██████████| 6/6 [00:00<00:00,  7.55it/s]\n"
     ]
    },
    {
     "name": "stdout",
     "output_type": "stream",
     "text": [
      "Epoch 6: Train Loss = 0.4603 | Val F1 = 0.4242\n"
     ]
    },
    {
     "name": "stderr",
     "output_type": "stream",
     "text": [
      "Training Epoch 7: 100%|██████████| 6/6 [00:00<00:00,  7.55it/s]\n"
     ]
    },
    {
     "name": "stdout",
     "output_type": "stream",
     "text": [
      "Epoch 7: Train Loss = 0.4364 | Val F1 = 0.4571\n"
     ]
    },
    {
     "name": "stderr",
     "output_type": "stream",
     "text": [
      "Training Epoch 8: 100%|██████████| 6/6 [00:00<00:00,  7.57it/s]\n"
     ]
    },
    {
     "name": "stdout",
     "output_type": "stream",
     "text": [
      "Epoch 8: Train Loss = 0.4029 | Val F1 = 0.4571\n"
     ]
    },
    {
     "name": "stderr",
     "output_type": "stream",
     "text": [
      "Training Epoch 9: 100%|██████████| 6/6 [00:00<00:00,  7.54it/s]\n"
     ]
    },
    {
     "name": "stdout",
     "output_type": "stream",
     "text": [
      "Epoch 9: Train Loss = 0.3729 | Val F1 = 0.4242\n"
     ]
    },
    {
     "name": "stderr",
     "output_type": "stream",
     "text": [
      "Training Epoch 10: 100%|██████████| 6/6 [00:00<00:00,  7.63it/s]\n"
     ]
    },
    {
     "name": "stdout",
     "output_type": "stream",
     "text": [
      "Epoch 10: Train Loss = 0.3469 | Val F1 = 0.4242\n"
     ]
    }
   ],
   "source": [
    "hist = train_model(train_loader, val_loader, model)\n",
    "torch.save(model.state_dict(), './saved_models/lotus_menstrual_emotion_classifier_v1.pt')"
   ]
  },
  {
   "cell_type": "code",
   "execution_count": 14,
   "metadata": {},
   "outputs": [
    {
     "data": {
      "text/plain": [
       "('./saved_models/lotus_menstrual_emotion_model_v1/tokenizer_config.json',\n",
       " './saved_models/lotus_menstrual_emotion_model_v1/special_tokens_map.json',\n",
       " './saved_models/lotus_menstrual_emotion_model_v1/vocab.txt',\n",
       " './saved_models/lotus_menstrual_emotion_model_v1/added_tokens.json',\n",
       " './saved_models/lotus_menstrual_emotion_model_v1/tokenizer.json')"
      ]
     },
     "execution_count": 14,
     "metadata": {},
     "output_type": "execute_result"
    }
   ],
   "source": [
    "\n",
    "# Get all unique labels\n",
    "label_list = sorted(set(example['label'] for example in dataset))\n",
    "\n",
    "# S Build label <-> id mappings\n",
    "label2id = {label: i for i, label in enumerate(label_list)}\n",
    "id2label = {i: label for label, i in label2id.items()}\n",
    "\n",
    "#  Update model config\n",
    "model.config.label2id = {label: str(i) for i, label in enumerate(label_list)}\n",
    "model.config.id2label = {str(i): label for i, label in enumerate(label_list)}\n",
    "model.save_pretrained(\"./saved_models/lotus_menstrual_emotion_model_v1\")\n",
    "tokenizer.save_pretrained(\"./saved_models/lotus_menstrual_emotion_model_v1\")"
   ]
  },
  {
   "cell_type": "code",
   "execution_count": 15,
   "metadata": {},
   "outputs": [
    {
     "ename": "TypeError",
     "evalue": "'dict' object is not callable",
     "output_type": "error",
     "traceback": [
      "\u001b[0;31m---------------------------------------------------------------------------\u001b[0m",
      "\u001b[0;31mTypeError\u001b[0m                                 Traceback (most recent call last)",
      "Cell \u001b[0;32mIn[15], line 23\u001b[0m\n\u001b[1;32m     18\u001b[0m     \u001b[38;5;28;01mreturn\u001b[39;00m [(id2label(i), \u001b[38;5;28mfloat\u001b[39m(p)) \u001b[38;5;28;01mfor\u001b[39;00m i, p \u001b[38;5;129;01min\u001b[39;00m \u001b[38;5;28menumerate\u001b[39m(probs) \u001b[38;5;28;01mif\u001b[39;00m p \u001b[38;5;241m>\u001b[39m\u001b[38;5;241m=\u001b[39m threshold]\n\u001b[1;32m     20\u001b[0m \u001b[38;5;66;03m# Example\u001b[39;00m\n\u001b[1;32m     21\u001b[0m \u001b[38;5;66;03m#print(predict_emotions(\"I am scared and angry, but also a bit hopeful.\"))\u001b[39;00m\n\u001b[0;32m---> 23\u001b[0m \u001b[38;5;28mprint\u001b[39m(\u001b[43mpredict_emotions\u001b[49m\u001b[43m(\u001b[49m\u001b[38;5;124;43m\"\u001b[39;49m\u001b[38;5;124;43mloved\u001b[39;49m\u001b[38;5;124;43m\"\u001b[39;49m\u001b[43m)\u001b[49m)\n\u001b[1;32m     24\u001b[0m \u001b[38;5;28mprint\u001b[39m(predict_emotions(\u001b[38;5;124m\"\u001b[39m\u001b[38;5;124mi am in period and the pain is unbearable.\u001b[39m\u001b[38;5;124m\"\u001b[39m))\n",
      "Cell \u001b[0;32mIn[15], line 18\u001b[0m, in \u001b[0;36mpredict_emotions\u001b[0;34m(text, threshold)\u001b[0m\n\u001b[1;32m     15\u001b[0m     probs \u001b[38;5;241m=\u001b[39m sigmoid(logits\u001b[38;5;241m.\u001b[39mcpu()\u001b[38;5;241m.\u001b[39mnumpy()[\u001b[38;5;241m0\u001b[39m])  \u001b[38;5;66;03m# move to CPU before numpy\u001b[39;00m\n\u001b[1;32m     17\u001b[0m \u001b[38;5;66;03m# Return all emotions with prob >= threshold\u001b[39;00m\n\u001b[0;32m---> 18\u001b[0m \u001b[38;5;28;01mreturn\u001b[39;00m [(id2label(i), \u001b[38;5;28mfloat\u001b[39m(p)) \u001b[38;5;28;01mfor\u001b[39;00m i, p \u001b[38;5;129;01min\u001b[39;00m \u001b[38;5;28menumerate\u001b[39m(probs) \u001b[38;5;28;01mif\u001b[39;00m p \u001b[38;5;241m>\u001b[39m\u001b[38;5;241m=\u001b[39m threshold]\n",
      "Cell \u001b[0;32mIn[15], line 18\u001b[0m, in \u001b[0;36m<listcomp>\u001b[0;34m(.0)\u001b[0m\n\u001b[1;32m     15\u001b[0m     probs \u001b[38;5;241m=\u001b[39m sigmoid(logits\u001b[38;5;241m.\u001b[39mcpu()\u001b[38;5;241m.\u001b[39mnumpy()[\u001b[38;5;241m0\u001b[39m])  \u001b[38;5;66;03m# move to CPU before numpy\u001b[39;00m\n\u001b[1;32m     17\u001b[0m \u001b[38;5;66;03m# Return all emotions with prob >= threshold\u001b[39;00m\n\u001b[0;32m---> 18\u001b[0m \u001b[38;5;28;01mreturn\u001b[39;00m [(\u001b[43mid2label\u001b[49m\u001b[43m(\u001b[49m\u001b[43mi\u001b[49m\u001b[43m)\u001b[49m, \u001b[38;5;28mfloat\u001b[39m(p)) \u001b[38;5;28;01mfor\u001b[39;00m i, p \u001b[38;5;129;01min\u001b[39;00m \u001b[38;5;28menumerate\u001b[39m(probs) \u001b[38;5;28;01mif\u001b[39;00m p \u001b[38;5;241m>\u001b[39m\u001b[38;5;241m=\u001b[39m threshold]\n",
      "\u001b[0;31mTypeError\u001b[0m: 'dict' object is not callable"
     ]
    }
   ],
   "source": [
    "\n",
    "# Sigmoid function for multi-label output\n",
    "sigmoid = lambda x: 1 / (1 + np.exp(-x))\n",
    "\n",
    "# Get label index mapping\n",
    "id2label = {i: label for i, label in enumerate(label_list)}\n",
    "label2id = {label: i for i, label in enumerate(label_list)}\n",
    "\n",
    "def predict_emotions(text, threshold=0.5):\n",
    "    # Tokenize and move input to correct device\n",
    "    inputs = tokenizer(text, return_tensors=\"pt\", truncation=True, padding=True, max_length=128)\n",
    "    inputs = {k: v.to(device) for k, v in inputs.items()}\n",
    "\n",
    "    with torch.no_grad():\n",
    "        logits = model(**inputs).logits\n",
    "        probs = sigmoid(logits.cpu().numpy()[0])  # move to CPU before numpy\n",
    "\n",
    "    # Return all emotions with prob >= threshold\n",
    "    return [(id2label(i), float(p)) for i, p in enumerate(probs) if p >= threshold]\n",
    "\n",
    "# Example\n",
    "#print(predict_emotions(\"I am scared and angry, but also a bit hopeful.\"))\n",
    "\n",
    "print(predict_emotions(\"loved\"))\n",
    "print(predict_emotions(\"i am in period and the pain is unbearable.\"))\n"
   ]
  }
 ],
 "metadata": {
  "kernelspec": {
   "display_name": "tf_m1",
   "language": "python",
   "name": "python3"
  },
  "language_info": {
   "codemirror_mode": {
    "name": "ipython",
    "version": 3
   },
   "file_extension": ".py",
   "mimetype": "text/x-python",
   "name": "python",
   "nbconvert_exporter": "python",
   "pygments_lexer": "ipython3",
   "version": "3.9.7"
  }
 },
 "nbformat": 4,
 "nbformat_minor": 2
}
